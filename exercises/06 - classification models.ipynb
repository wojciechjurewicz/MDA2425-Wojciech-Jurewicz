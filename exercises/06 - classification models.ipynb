{
 "cells": [
  {
   "cell_type": "code",
   "execution_count": null,
   "metadata": {},
   "outputs": [],
   "source": [
    "%load_ext autoreload\n",
    "%autoreload 2\n",
    "\n",
    "import os\n",
    "import sys\n",
    "\n",
    "while any(marker in os.getcwd() for marker in ('exercises', 'notebooks', 'students', 'research')):\n",
    "    os.chdir(\"..\")\n",
    "sys.path.append('src')\n",
    "os.getcwd()"
   ]
  },
  {
   "cell_type": "code",
   "execution_count": null,
   "metadata": {},
   "outputs": [],
   "source": [
    "import seaborn as sns\n",
    "import pandas as pd\n",
    "import numpy as np\n",
    "import matplotlib.pyplot as plt\n",
    "\n",
    "from sklearn.preprocessing import (\n",
    "    FunctionTransformer,\n",
    ")\n",
    "from sklearn.pipeline import make_pipeline\n",
    "from sklearn.model_selection import train_test_split\n",
    "\n",
    "\n",
    "from src.custom_transformers import (\n",
    "    DropColumnTransformer,\n",
    "    CustomImputer,\n",
    "    CustomStandardScaler,\n",
    "    CustomLabelEncoder,\n",
    "    CustomOneHotEncoder,\n",
    ")"
   ]
  },
  {
   "cell_type": "code",
   "execution_count": null,
   "metadata": {},
   "outputs": [],
   "source": [
    "# Load Titanic dataset from seaborn\n",
    "raw_data = sns.load_dataset(\"titanic\")\n",
    "raw_data.head()"
   ]
  },
  {
   "cell_type": "code",
   "execution_count": null,
   "metadata": {},
   "outputs": [],
   "source": [
    "data_cleaning = make_pipeline(\n",
    "    DropColumnTransformer(columns=[\"deck\"]),\n",
    "    CustomImputer(strategy=\"mean\", columns=[\"age\"]),\n",
    "    CustomImputer(strategy=\"most_frequent\", columns=[\"embarked\"]),\n",
    "    FunctionTransformer(lambda X: X.drop_duplicates(), validate=False),\n",
    "    # add your own outlier remover transformer step here\n",
    ")\n",
    "\n",
    "df_cleaned = data_cleaning.fit_transform(raw_data)\n",
    "df_cleaned.head()"
   ]
  },
  {
   "cell_type": "code",
   "execution_count": null,
   "metadata": {},
   "outputs": [],
   "source": [
    "X_train, X_test, y_train, y_test = train_test_split(\n",
    "    df_cleaned.drop(columns=[\"alive\", \"survived\"]),\n",
    "    df_cleaned[\"alive\"],\n",
    "    test_size=0.2,\n",
    "    random_state=42,\n",
    ")"
   ]
  },
  {
   "cell_type": "code",
   "execution_count": null,
   "metadata": {},
   "outputs": [],
   "source": [
    "preprocessing_pipeline = make_pipeline(\n",
    "    CustomLabelEncoder(columns=[\"embarked\", \"embark_town\"]),\n",
    "    CustomOneHotEncoder(columns=[\"sex\", \"who\", \"adult_male\", \"class\"]),\n",
    "    CustomStandardScaler(columns=[\"fare\", \"age\"]),\n",
    "    ## add your own preprocessing steps here\n",
    ")"
   ]
  },
  {
   "cell_type": "markdown",
   "metadata": {},
   "source": [
    "# Logistic regression"
   ]
  },
  {
   "cell_type": "code",
   "execution_count": null,
   "metadata": {},
   "outputs": [],
   "source": [
    "from sklearn.linear_model import LogisticRegression\n",
    "from sklearn.metrics import classification_report, confusion_matrix, accuracy_score\n",
    "\n",
    "clf = LogisticRegression(random_state=0, solver=\"newton-cg\", multi_class=\"multinomial\")\n",
    "\n",
    "pipeline = make_pipeline(preprocessing_pipeline, clf)\n",
    "\n",
    "pipeline.fit(X_train, y_train)"
   ]
  },
  {
   "cell_type": "code",
   "execution_count": null,
   "metadata": {},
   "outputs": [],
   "source": [
    "y_pred = pipeline.predict(X_test)\n",
    "accuracy_score(y_test, y_pred)"
   ]
  },
  {
   "cell_type": "code",
   "execution_count": null,
   "metadata": {},
   "outputs": [],
   "source": [
    "print(classification_report(y_test, y_pred))"
   ]
  },
  {
   "cell_type": "code",
   "execution_count": null,
   "metadata": {},
   "outputs": [],
   "source": [
    "pd.DataFrame(confusion_matrix(y_test, y_pred))"
   ]
  },
  {
   "cell_type": "markdown",
   "metadata": {},
   "source": [
    "## Exercise 1\n",
    "\n",
    "Create a custom function to show confussion matrix in a nice way. You may for instance try using seaborn package"
   ]
  },
  {
   "cell_type": "code",
   "execution_count": null,
   "metadata": {},
   "outputs": [],
   "source": [
    "pass"
   ]
  },
  {
   "cell_type": "markdown",
   "metadata": {},
   "source": [
    "## Use cross validation"
   ]
  },
  {
   "cell_type": "code",
   "execution_count": null,
   "metadata": {},
   "outputs": [],
   "source": [
    "from sklearn.model_selection import cross_val_score\n",
    "\n",
    "subset_count = 5\n",
    "X = df_cleaned.drop(columns=[\"alive\", \"survived\"])\n",
    "y = df_cleaned[\"alive\"]\n",
    "\n",
    "scores = cross_val_score(\n",
    "    pipeline, X, y, cv=subset_count, scoring=\"accuracy\"\n",
    ")  # pipeline should be reseted at the begining of each iteration\n",
    "pd.DataFrame(scores)"
   ]
  },
  {
   "cell_type": "markdown",
   "metadata": {},
   "source": [
    "# SVM"
   ]
  },
  {
   "cell_type": "code",
   "execution_count": null,
   "metadata": {},
   "outputs": [],
   "source": [
    "import warnings\n",
    "\n",
    "warnings.filterwarnings(\"ignore\")\n",
    "from sklearn.svm import SVC\n",
    "\n",
    "pipeline = make_pipeline(\n",
    "    CustomLabelEncoder(columns=[\"embarked\", \"embark_town\"]),\n",
    "    CustomOneHotEncoder(columns=[\"sex\", \"who\", \"adult_male\", \"class\"]),\n",
    "    CustomStandardScaler(columns=[\"fare\", \"age\"]),\n",
    "    ## add your own preprocessing steps here\n",
    "    SVC(kernel=\"rbf\"),\n",
    ")\n",
    "\n",
    "pipeline.fit(X_train, y_train)"
   ]
  },
  {
   "cell_type": "code",
   "execution_count": null,
   "metadata": {},
   "outputs": [],
   "source": [
    "y_pred = pipeline.predict(X_test)\n",
    "accuracy_score(y_test, y_pred)"
   ]
  },
  {
   "cell_type": "code",
   "execution_count": null,
   "metadata": {},
   "outputs": [],
   "source": [
    "print(classification_report(y_test, y_pred))"
   ]
  },
  {
   "cell_type": "code",
   "execution_count": null,
   "metadata": {},
   "outputs": [],
   "source": [
    "pd.DataFrame(confusion_matrix(y_test, y_pred))"
   ]
  },
  {
   "cell_type": "markdown",
   "metadata": {},
   "source": [
    "## Exercise 2\n",
    "\n",
    "Perform a cross validation in case of SVM."
   ]
  },
  {
   "cell_type": "code",
   "execution_count": null,
   "metadata": {},
   "outputs": [],
   "source": [
    "pass"
   ]
  },
  {
   "cell_type": "markdown",
   "metadata": {},
   "source": [
    "## Exercise 3\n",
    "\n",
    "Try using different kernels wirh SVM, perhaps polynomial."
   ]
  },
  {
   "cell_type": "code",
   "execution_count": null,
   "metadata": {},
   "outputs": [],
   "source": [
    "pass"
   ]
  },
  {
   "cell_type": "markdown",
   "metadata": {},
   "source": [
    "# kNN"
   ]
  },
  {
   "cell_type": "code",
   "execution_count": null,
   "metadata": {},
   "outputs": [],
   "source": [
    "from sklearn.neighbors import KNeighborsClassifier\n",
    "\n",
    "k = 5  # count of neighbors\n",
    "\n",
    "pipeline = make_pipeline(\n",
    "    CustomLabelEncoder(columns=[\"embarked\", \"embark_town\"]),\n",
    "    CustomOneHotEncoder(columns=[\"sex\", \"who\", \"adult_male\", \"class\"]),\n",
    "    CustomStandardScaler(columns=[\"fare\", \"age\"]),\n",
    "    ## add your own preprocessing steps here\n",
    "    KNeighborsClassifier(n_neighbors=k),\n",
    ")\n",
    "pipeline.fit(X_train, y_train)"
   ]
  },
  {
   "cell_type": "code",
   "execution_count": null,
   "metadata": {},
   "outputs": [],
   "source": [
    "y_pred = pipeline.predict(X_test)\n",
    "accuracy_score(y_test, y_pred)"
   ]
  },
  {
   "cell_type": "code",
   "execution_count": null,
   "metadata": {},
   "outputs": [],
   "source": [
    "print(classification_report(y_test, y_pred))"
   ]
  },
  {
   "cell_type": "code",
   "execution_count": null,
   "metadata": {},
   "outputs": [],
   "source": [
    "pd.DataFrame(confusion_matrix(y_test, y_pred))"
   ]
  },
  {
   "cell_type": "markdown",
   "metadata": {},
   "source": [
    "# Decision tree"
   ]
  },
  {
   "cell_type": "code",
   "execution_count": null,
   "metadata": {},
   "outputs": [],
   "source": [
    "from sklearn.tree import DecisionTreeClassifier\n",
    "\n",
    "pipeline = make_pipeline(\n",
    "    CustomLabelEncoder(columns=[\"embarked\", \"embark_town\"]),\n",
    "    CustomOneHotEncoder(columns=[\"sex\", \"who\", \"adult_male\", \"class\"]),\n",
    "    CustomStandardScaler(columns=[\"fare\", \"age\"]),\n",
    "    ## add your own preprocessing steps here\n",
    "    DecisionTreeClassifier(),\n",
    ")\n",
    "pipeline.fit(X_train, y_train)"
   ]
  },
  {
   "cell_type": "code",
   "execution_count": null,
   "metadata": {},
   "outputs": [],
   "source": [
    "y_pred = pipeline.predict(X_test)\n",
    "accuracy_score(y_test, y_pred)"
   ]
  },
  {
   "cell_type": "code",
   "execution_count": null,
   "metadata": {},
   "outputs": [],
   "source": [
    "print(classification_report(y_test, y_pred))"
   ]
  },
  {
   "cell_type": "code",
   "execution_count": null,
   "metadata": {},
   "outputs": [],
   "source": [
    "pd.DataFrame(confusion_matrix(y_test, y_pred))"
   ]
  },
  {
   "cell_type": "markdown",
   "metadata": {},
   "source": [
    "# Perceptron Network"
   ]
  },
  {
   "cell_type": "code",
   "execution_count": null,
   "metadata": {},
   "outputs": [],
   "source": [
    "from sklearn.neural_network import MLPClassifier\n",
    "\n",
    "pipeline = make_pipeline(\n",
    "    CustomLabelEncoder(columns=[\"embarked\", \"embark_town\"]),\n",
    "    CustomOneHotEncoder(columns=[\"sex\", \"who\", \"adult_male\", \"class\"]),\n",
    "    CustomStandardScaler(columns=[\"fare\", \"age\"]),\n",
    "    ## add your own preprocessing steps here\n",
    "    MLPClassifier(\n",
    "        hidden_layer_sizes=(100, 50),\n",
    "        activation=\"relu\",\n",
    "        solver=\"adam\",\n",
    "        max_iter=1000,\n",
    "        random_state=42,\n",
    "    ),\n",
    ")\n",
    "pipeline.fit(X_train, y_train)"
   ]
  },
  {
   "cell_type": "code",
   "execution_count": null,
   "metadata": {},
   "outputs": [],
   "source": [
    "y_pred = pipeline.predict(X_test)\n",
    "accuracy_score(y_test, y_pred)"
   ]
  },
  {
   "cell_type": "code",
   "execution_count": null,
   "metadata": {},
   "outputs": [],
   "source": [
    "print(classification_report(y_test, y_pred))"
   ]
  },
  {
   "cell_type": "code",
   "execution_count": null,
   "metadata": {},
   "outputs": [],
   "source": [
    "pd.DataFrame(confusion_matrix(y_test, y_pred))"
   ]
  },
  {
   "cell_type": "markdown",
   "metadata": {},
   "source": [
    "# Compare with dummy classifier"
   ]
  },
  {
   "cell_type": "code",
   "execution_count": null,
   "metadata": {},
   "outputs": [],
   "source": [
    "y_test.value_counts() / len(y_test)"
   ]
  },
  {
   "cell_type": "markdown",
   "metadata": {},
   "source": [
    "## Exercise 4\n",
    "\n",
    "Neural nets are sensible to its parameters. Try changing activatation function and numbers of neurons in hidden layers to see if you could increase its performance"
   ]
  },
  {
   "cell_type": "markdown",
   "metadata": {},
   "source": [
    "# Learning curve\n",
    "\n",
    "We can try to plot the performance of each model during its training and evaluation"
   ]
  },
  {
   "cell_type": "code",
   "execution_count": null,
   "metadata": {},
   "outputs": [],
   "source": [
    "pipeline = make_pipeline(\n",
    "    CustomLabelEncoder(columns=[\"embarked\", \"embark_town\"]),\n",
    "    CustomOneHotEncoder(columns=[\"sex\", \"who\", \"adult_male\", \"class\"]),\n",
    "    CustomStandardScaler(columns=[\"fare\", \"age\"]),\n",
    "    ## add your own preprocessing steps here\n",
    "    MLPClassifier(\n",
    "        hidden_layer_sizes=(100, 50),\n",
    "        activation=\"relu\",\n",
    "        solver=\"adam\",\n",
    "        max_iter=10000,\n",
    "        random_state=42,\n",
    "    ),\n",
    ")\n",
    "pipeline.fit(X_train, y_train)\n",
    "\n",
    "fig, ax = plt.subplots(figsize=(6, 4))\n",
    "ax.plot(pipeline[-1].loss_curve_)\n",
    "ax.set_xlabel(\"Number of iterations\")\n",
    "ax.set_ylabel(\"Loss\")\n",
    "plt.show()"
   ]
  },
  {
   "cell_type": "code",
   "execution_count": null,
   "metadata": {},
   "outputs": [],
   "source": [
    "from sklearn.model_selection import learning_curve\n",
    "\n",
    "train_sizes, train_scores, test_scores = learning_curve(\n",
    "    pipeline, X, y, cv=5, n_jobs=-1, train_sizes=np.linspace(0.1, 0.99, 50)\n",
    ")\n",
    "train_mean = np.mean(train_scores, axis=1)\n",
    "train_std = np.std(train_scores, axis=1)\n",
    "test_mean = np.mean(test_scores, axis=1)\n",
    "test_std = np.std(test_scores, axis=1)\n",
    "\n",
    "plt.plot(train_sizes, train_mean, label=f\"(Train)\", marker=\"o\")\n",
    "plt.fill_between(\n",
    "    train_sizes, train_mean - train_std, train_mean + train_std, alpha=0.15\n",
    ")\n",
    "plt.plot(train_sizes, test_mean, label=f\"(Test)\", marker=\"o\")\n",
    "plt.fill_between(train_sizes, test_mean - test_std, test_mean + test_std, alpha=0.15)"
   ]
  },
  {
   "cell_type": "markdown",
   "metadata": {},
   "source": [
    "# Exercise 5\n",
    "\n",
    "Try\n",
    "```python\n",
    "from sklearn.datasets import load_iris\n",
    "```\n",
    "\n",
    "And try to create the best performing classifier in CV against 10 folds."
   ]
  },
  {
   "cell_type": "markdown",
   "metadata": {},
   "source": [
    "# Pass-Fail Exercise \n",
    "\n",
    "Complete the exercises presented in this notebook. Then copy this notebook to your student directory and create a Merge request with it. Please do not commit thios file."
   ]
  }
 ],
 "metadata": {
  "kernelspec": {
   "display_name": "mda",
   "language": "python",
   "name": "python3"
  },
  "language_info": {
   "codemirror_mode": {
    "name": "ipython",
    "version": 3
   },
   "file_extension": ".py",
   "mimetype": "text/x-python",
   "name": "python",
   "nbconvert_exporter": "python",
   "pygments_lexer": "ipython3",
   "version": "3.11.8"
  }
 },
 "nbformat": 4,
 "nbformat_minor": 2
}

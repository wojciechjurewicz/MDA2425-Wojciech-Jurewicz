{
 "cells": [
  {
   "cell_type": "markdown",
   "metadata": {},
   "source": [
    "# Advanced OOP - decorators\n",
    "\n"
   ]
  },
  {
   "cell_type": "markdown",
   "metadata": {},
   "source": [
    "## property decorator\n",
    "\n",
    "A long time ago, the C# language introduced the concept of object properties to object-oriented programming. Even at that time, methods for controlling access to class fields were known. In Java, we control the encapsulation of fields in the following way:\n",
    "\n",
    "```java\n",
    "class NewClass {\n",
    "  private Type field = new Type(default_value);\n",
    "  \n",
    "  public Type getField() {\n",
    "    return this.field;\n",
    "  }\n",
    "  \n",
    "  public void setField(Type value) {\n",
    "    this.field = value;\n",
    "  }\n",
    "}\n",
    "```\n",
    "The above code doesn't particularly restrict the functionality with the given field. However, the set and get methods can be expanded, for example, to prevent inserting an incorrect value or allow reading after checking certain additional conditions. All of this determines the ways of accessing the elements inside the class. Its application, however, is quite unintuitive.\n",
    "\n",
    "```java\n",
    "NewClass newInstance = new NewClass();\n",
    "Type value = new Type(\"Something\");\n",
    "newInstance.setField(value);\n",
    "System.out.println(newInstance.getField());\n",
    "```\n",
    "\n",
    "If we are looking for a way to improve in this area so that we can write\n",
    "```java\n",
    "NewClass newInstance = new NewClass();\n",
    "Type value = new Type(\"Something\");\n",
    "newInstance.field = value;\n",
    "System.out.println(newInstance.field);\n",
    "```\n",
    "and simultaneously use our own implementations of methods for setting and getting values, properties are the answer to such needs.\n",
    "\n",
    "Lets see"
   ]
  },
  {
   "cell_type": "code",
   "execution_count": 1,
   "metadata": {},
   "outputs": [
    {
     "name": "stdout",
     "output_type": "stream",
     "text": [
      "4\n"
     ]
    }
   ],
   "source": [
    "class Sample(object):\n",
    "    def __init__(self):\n",
    "        self._x = None\n",
    "\n",
    "    @property\n",
    "    def x(self):\n",
    "        return self._x\n",
    "\n",
    "    @x.setter\n",
    "    def x(self, value):\n",
    "        self._x = value\n",
    "\n",
    "    @x.getter\n",
    "    def x(self):\n",
    "        return self._x + 1\n",
    "\n",
    "\n",
    "obj = Sample()\n",
    "obj.x = 3\n",
    "print(obj.x)"
   ]
  },
  {
   "cell_type": "markdown",
   "metadata": {},
   "source": [
    "How does it work? There is a hidden private value somewhere (self._x), for which there is a counterpart available as `@property def x(self)` (the name x is accessible). Then, by defining `x` as a property, we can define ways to perform actions on it, such as a setter, getter, deleter."
   ]
  },
  {
   "cell_type": "markdown",
   "metadata": {},
   "source": [
    "Other famus decorators in python are\n",
    "\n",
    "* `@classmethod` or theres is a similar `@staticmethod`\n",
    "\n",
    "```python\n",
    "class MyClass:\n",
    "    count = 0\n",
    "\n",
    "    def __init__(self):\n",
    "        MyClass.count += 1\n",
    "\n",
    "    @classmethod\n",
    "    def get_instance_count(cls):\n",
    "        return cls.count\n",
    "\n",
    "# Usage\n",
    "obj1 = MyClass()\n",
    "obj2 = MyClass()\n",
    "print(MyClass.get_instance_count())\n",
    "```\n",
    "\n",
    "* `@ab.cabstractmethod`\n",
    "\n",
    "```python\n",
    "from abc import ABC, abstractmethod\n",
    "\n",
    "class Shape(ABC):\n",
    "    @abstractmethod\n",
    "    def area(self):\n",
    "        pass\n",
    "\n",
    "    @abstractmethod\n",
    "    def perimeter(self):\n",
    "        pass\n",
    "\n",
    "class Circle(Shape):\n",
    "    def __init__(self, radius):\n",
    "        self.radius = radius\n",
    "\n",
    "    def area(self):\n",
    "        return 3.14 * self.radius * self.radius\n",
    "\n",
    "    def perimeter(self):\n",
    "        return 2 * 3.14 * self.radius\n",
    "\n",
    "class Square(Shape):\n",
    "    def __init__(self, side):\n",
    "        self.side = side\n",
    "\n",
    "    def area(self):\n",
    "        return self.side * self.side\n",
    "\n",
    "    def perimeter(self):\n",
    "        return 4 * self.side\n",
    "\n",
    "# Example usage\n",
    "circle = Circle(5)\n",
    "square = Square(4)\n",
    "\n",
    "print(circle.area())      # Output: 78.5\n",
    "print(circle.perimeter()) # Output: 31.400000000000002\n",
    "\n",
    "print(square.area())      # Output: 16\n",
    "print(square.perimeter()) # Output: 16\n",
    "```\n",
    "\n",
    "* `@dataclass`\n",
    "\n",
    "```python\n",
    "from dataclasses import dataclass\n",
    "\n",
    "@dataclass\n",
    "class Point:\n",
    "    x: float\n",
    "    y: float\n",
    "    label: str = \"No label\"\n",
    "\n",
    "# Usage\n",
    "point1 = Point(1.0, 2.0, \"A\")\n",
    "point2 = Point(1.0, 2.0, \"B\")\n",
    "\n",
    "print(point1)  # Output: Point(x=1.0, y=2.0, label='A')\n",
    "print(point1 == point2)  # Output: False\n",
    "\n",
    "```\n",
    "\n",
    "* `@deprecated` when you want to user not to use a given function any more\n",
    "\n",
    "```python\n",
    "import warnings\n",
    "from functools import wraps\n",
    "\n",
    "def deprecated(func):\n",
    "    @wraps(func)\n",
    "    def wrapper(*args, **kwargs):\n",
    "        warnings.warn(f\"Call to deprecated function {func.__name__}.\", category=DeprecationWarning, stacklevel=2)\n",
    "        return func(*args, **kwargs)\n",
    "    return wrapper\n",
    "\n",
    "# Usage\n",
    "@deprecated\n",
    "def old_function():\n",
    "    print(\"This function is deprecated.\")\n",
    "\n",
    "old_function()  # Will raise a DeprecationWarning\n",
    "```"
   ]
  },
  {
   "cell_type": "markdown",
   "metadata": {},
   "source": [
    "# Functional programming"
   ]
  },
  {
   "cell_type": "markdown",
   "metadata": {},
   "source": [
    "## Programming Paradigms\n",
    "\n",
    "Let's talk about programming paradigms, which refer to *the way of looking at control flow and executing computer programs*.\n",
    "\n",
    "Examples of such paradigms include:\n",
    "\n",
    "* Procedural programming\n",
    "* Imperative programming\n",
    "* Object-oriented programming\n",
    "* Functional programming\n",
    "\n",
    "## Procedural Programming\n",
    "\n",
    "In this programming paradigm, the entire code is divided into functions that transform their input parameters.\n",
    "\n",
    "## Imperative vs. Functional or Object-oriented Programming\n",
    "\n",
    "The most commonly used programming paradigm is imperative. In this approach,\n",
    "\n",
    "*The program changes during its execution through changes in the values of its variables.*\n",
    "\n",
    "However, the currently trendiest programming paradigm is known as functional programming, which advocates a somewhat opposite approach to the entire task. Perhaps it wouldn't be interesting to us at all if it weren't a bit contemporarily presented as synonymous with good programming (while simultaneously suggesting that imperative programming is bad).\n",
    "\n",
    "## What is Imperative Programming?\n",
    "\n",
    "In this programming approach, we use variables that change their state. Consider the following example\n"
   ]
  },
  {
   "cell_type": "code",
   "execution_count": 2,
   "metadata": {},
   "outputs": [
    {
     "data": {
      "text/plain": [
       "7"
      ]
     },
     "execution_count": 2,
     "metadata": {},
     "output_type": "execute_result"
    }
   ],
   "source": [
    "a: int = 7\n",
    "a"
   ]
  },
  {
   "cell_type": "markdown",
   "metadata": {},
   "source": [
    "Next"
   ]
  },
  {
   "cell_type": "code",
   "execution_count": 3,
   "metadata": {},
   "outputs": [
    {
     "data": {
      "text/plain": [
       "12"
      ]
     },
     "execution_count": 3,
     "metadata": {},
     "output_type": "execute_result"
    }
   ],
   "source": [
    "a += 5\n",
    "a"
   ]
  },
  {
   "cell_type": "markdown",
   "metadata": {},
   "source": [
    "Has the variable 'a' changed its state? Well, that means we are programming imperatively. Elements that can change during program execution are called mutable. A straightforward conclusion about imperative programming is that it is the type of programming most of us default to. The last and perhaps the most well-known type of imperative programming is... object-oriented programming. In object-oriented programming, problems are modeled by objects that communicate with each other and mutually modify their states during program execution.\n"
   ]
  },
  {
   "cell_type": "code",
   "execution_count": 4,
   "metadata": {},
   "outputs": [
    {
     "name": "stdout",
     "output_type": "stream",
     "text": [
      "1\n"
     ]
    }
   ],
   "source": [
    "class Obiektowe(object):\n",
    "\n",
    "    def __init__(self):\n",
    "        self._x = 0\n",
    "\n",
    "    def plusplus(self):\n",
    "        self._x += 1\n",
    "\n",
    "    def printplus(self):\n",
    "        print(self._x)\n",
    "\n",
    "\n",
    "obiekt = Obiektowe()\n",
    "\n",
    "obiekt.plusplus()\n",
    "\n",
    "obiekt.printplus()"
   ]
  },
  {
   "cell_type": "markdown",
   "metadata": {},
   "source": [
    "### Is It All Bad?\n",
    "\n",
    "It's not that imperative programming is bad. After all, it has been working great for decades. But functional programming has many cool features that make it attractive to learn and explore as an alternative way of expressing thoughts. It can be challenging at times, but it is also a testament to the higher quality of a programmer. It also excels in data analysis.\n",
    "\n",
    "## Introduction to Functional Programming (FP)\n",
    "\n",
    "What does it mean to program functionally?\n",
    "\n",
    "Some say that imperative programming is programming with nouns - the key is the subject. We declare objects and then modify them. On the other hand, [functional programming](https://en.wikipedia.org/wiki/Functional_programming) is described as programming with verbs - the key is actions. The task is decomposed not by nouns but by actions that need to be performed to achieve a specific effect. There are currently technologies dedicated to functional programming, while others only incorporate its elements:\n",
    "\n",
    "Functional languages include:\n",
    "\n",
    "* Haskell - currently perhaps the most functional programming language - is characterized by exceptionally well-written functional elements. It is challenging, and as a result, almost no one uses it.\n",
    "* Scala - the current dominator among functional languages - has some syntax similar to Java and runs on its virtual machine. Some say that a Scala programmer is the end result, where the larva is a Java programmer. Scala, however, does not have as good functional features as other languages in this group.\n",
    "* Kotlin - an aspiring technology from the creators of PyCharm. Something between Scala and Haskell. Qualitatively better than Kotlin, but still not difficult enough to completely discourage practitioners.\n",
    "* Lisp - a legendary programming language based on grouping with parentheses. Functional and much more challenging than Haskell - although not considered better than it. For those who want a glimpse into how Lisp programming works, I recommend the legendary comic about saving the princess:\n",
    "\n",
    "![Git the princess](https://toggl.com/blog/wp-content/uploads/2018/04/toggl-how-to-save-the-princess-in-8-programming-languages-0c32e93f47f3f6401913846c4c184e3e.jpg)\n",
    "\n",
    "Other languages like\n",
    "\n",
    "* Java,\n",
    "* C++,\n",
    "* Python,\n",
    "\n",
    "Have the capabilities to perform certain operations functionally. At the same time, making others impossible. Despite this, their syntax is expanding towards better support for functional constructions. These languages currently introduce components such as\n",
    "\n",
    "* stream processing,\n",
    "* lambda functions, etc.\n",
    "\n",
    "## Components of Functional Programming\n",
    "\n",
    "Let's talk about the most important features of FP so that we better understand how it works.\n",
    "\n",
    "### Pure Functions\n",
    "\n",
    "Imperative programming talks about changing values, and FP demands something else. So, we cannot begin without introducing the concept of a pure function. A pure function is a function whose only effect is the returned result. Any other effect is called a side effect in FP. We strive to program by minimizing (potentially to 0) side effects.\n",
    "\n",
    "Example:\n"
   ]
  },
  {
   "cell_type": "code",
   "execution_count": 5,
   "metadata": {},
   "outputs": [
    {
     "data": {
      "text/plain": [
       "7"
      ]
     },
     "execution_count": 5,
     "metadata": {},
     "output_type": "execute_result"
    }
   ],
   "source": [
    "def custom_sum(a, b):\n",
    "    return a + b\n",
    "\n",
    "\n",
    "custom_sum(3, 4)"
   ]
  },
  {
   "cell_type": "markdown",
   "metadata": {},
   "source": [
    "Regardless of how many times we call this function, its effect will be exactly the same. The function defined above is, therefore, a pure function. A different story is the function below:\n"
   ]
  },
  {
   "cell_type": "code",
   "execution_count": 6,
   "metadata": {},
   "outputs": [
    {
     "name": "stdout",
     "output_type": "stream",
     "text": [
      "Word : Hello side-effect\n"
     ]
    }
   ],
   "source": [
    "def wypisz(slowo):\n",
    "    print(\"Word : {}\".format(slowo))\n",
    "\n",
    "\n",
    "wypisz(\"Hello side-effect\")"
   ]
  },
  {
   "cell_type": "code",
   "execution_count": 7,
   "metadata": {},
   "outputs": [
    {
     "name": "stdout",
     "output_type": "stream",
     "text": [
      "Word : Hello side-effect\n",
      "Word : Hello side-effect\n"
     ]
    }
   ],
   "source": [
    "wypisz(\"Hello side-effect\")\n",
    "wypisz(\"Hello side-effect\")"
   ]
  },
  {
   "cell_type": "markdown",
   "metadata": {},
   "source": [
    "In addition to modifying the values of components, a side effect is, of course,\n",
    "\n",
    "* printing to the screen,\n",
    "* file operations,\n",
    "* reading and writing to a database,\n",
    "* creating a chart,\n",
    "* sending an email, etc.\n",
    "\n",
    "So, the good question is, can we really eliminate the side effect? However, in functional programming, we are not concerned with completely eliminating the side effect but minimizing and controlling it. The more functions that are pure, the better we know which functions with side effects need to be closely monitored. Pure functions are, for example, easy to test and allow for concurrent processing. For pure functions, the following properties are true:\n",
    "\n",
    "* If the result of a pure function is not used, the entire program will operate the same after removing it.\n",
    "* If there are no data dependencies between two calls to pure functions, they can be swapped without changing the program's behavior.\n",
    "* If there are no data dependencies between two calls to pure functions, they can be executed in parallel/concurrently.\n",
    "\n",
    "## The Principle of Substitutability\n",
    "\n",
    "A characteristic closely related to pure functions in FP is the principle of substitutability. This principle states that calling a function with its parameters can be replaced by its value. If a function is pure, it always returns the same value for the same parameters. It's different, for example, with writing to a file. If you call a file-writing function three times, each time you will get a file with one more line of text.\n",
    "\n",
    "## First-Class Function Languages\n",
    "\n",
    "In FP, our tools are functions. Undoubtedly, this requires the language we use to have first-class functions. We say this is the case if functions can be treated as variables, meaning they can be passed as parameters. The vast majority of modern programming languages currently have the ability to create functional variables. No wonder, as the precursor of all popular modern programming languages, C++, already had them.\n",
    "\n",
    "## Recursion\n",
    "\n",
    "In FP, recursion is the main provider of loops. Generally, there might not be other ways to create a loop. Try to imagine programming without using if statements and loops at all. Difficult? ... give yourselves a moment.\n",
    "\n",
    "## Variables\n",
    "\n",
    "Oh, one more thing - we started our conversation by showing that the operation i += 1 is imperative, not functional. In functional programming, every declared variable should be simultaneously a constant - immutable. As a result, to proceed further, you need to create another variable, keeping in mind the effect of the introduced change.\n"
   ]
  },
  {
   "cell_type": "code",
   "execution_count": 8,
   "metadata": {},
   "outputs": [
    {
     "name": "stdout",
     "output_type": "stream",
     "text": [
      "a 7; b 12\n"
     ]
    }
   ],
   "source": [
    "a: int = 7\n",
    "b = a + 5\n",
    "print(\"a {}; b {}\".format(a, b))"
   ]
  },
  {
   "cell_type": "markdown",
   "metadata": {},
   "source": [
    "## Most Famous Functional Programming Elements\n",
    "\n",
    "In Python, in everyday basic usage, two important functional programming elements are found:\n",
    "\n",
    "* comprehensions (comprehension lists)\n",
    "* closures\n",
    "* lambda functions (very famous)\n",
    "\n",
    "### Comprehension Lists\n",
    "\n",
    "The first one is used for quickly initializing larger data structures. For example, when requesting the creation of a vector of the first 10 even natural numbers\n"
   ]
  },
  {
   "cell_type": "code",
   "execution_count": 9,
   "metadata": {},
   "outputs": [
    {
     "data": {
      "text/plain": [
       "[2, 4, 6, 8, 10, 12, 14, 16, 18, 20]"
      ]
     },
     "execution_count": 9,
     "metadata": {},
     "output_type": "execute_result"
    }
   ],
   "source": [
    "even_natural = [2 * i + 2 for i in range(10)]\n",
    "even_natural"
   ]
  },
  {
   "cell_type": "markdown",
   "metadata": {},
   "source": [
    "or slightly altered"
   ]
  },
  {
   "cell_type": "code",
   "execution_count": 10,
   "metadata": {},
   "outputs": [
    {
     "data": {
      "text/plain": [
       "[1, -1, 1, -1, 1, -1, 1, -1, 1, -1]"
      ]
     },
     "execution_count": 10,
     "metadata": {},
     "output_type": "execute_result"
    }
   ],
   "source": [
    "one_for_even = [1 if i % 2 == 0 else -1 for i in range(10)]\n",
    "one_for_even"
   ]
  },
  {
   "cell_type": "markdown",
   "metadata": {},
   "source": [
    "also filtering is possible"
   ]
  },
  {
   "cell_type": "code",
   "execution_count": 11,
   "metadata": {},
   "outputs": [
    {
     "data": {
      "text/plain": [
       "[2, 4, 6, 8, 10]"
      ]
     },
     "execution_count": 11,
     "metadata": {},
     "output_type": "execute_result"
    }
   ],
   "source": [
    "filter_even = [i + 2 for i in range(10) if i % 2 == 0]\n",
    "filter_even"
   ]
  },
  {
   "cell_type": "markdown",
   "metadata": {},
   "source": [
    "Comprehension works also for dict's"
   ]
  },
  {
   "cell_type": "code",
   "execution_count": 12,
   "metadata": {},
   "outputs": [
    {
     "data": {
      "text/plain": [
       "{0, 1, 2, 3}"
      ]
     },
     "execution_count": 12,
     "metadata": {},
     "output_type": "execute_result"
    }
   ],
   "source": [
    "custom_set = {i % 4 for i in range(1, 600)}\n",
    "custom_set"
   ]
  },
  {
   "cell_type": "code",
   "execution_count": 13,
   "metadata": {},
   "outputs": [
    {
     "data": {
      "text/plain": [
       "{1: 1, 2: 2, 3: 3, 4: 0, 5: 1}"
      ]
     },
     "execution_count": 13,
     "metadata": {},
     "output_type": "execute_result"
    }
   ],
   "source": [
    "custom_dict = {i: i % 4 for i in range(1, 6)}\n",
    "custom_dict"
   ]
  },
  {
   "cell_type": "markdown",
   "metadata": {},
   "source": [
    "## Closures\n",
    "\n",
    "Before we move on to the most famous component of functional programming, let's say two more sentences about what closures are.\n",
    "\n",
    "In FP, functions are full-fledged variables that can be, for example, returned in other functions. A closure involves generating a structure in which a certain function has access to a specific variable (or potentially multiple variables), but no other object has this access. This is most commonly achieved by embedding a function inside another function, as shown below\n"
   ]
  },
  {
   "cell_type": "code",
   "execution_count": 14,
   "metadata": {},
   "outputs": [],
   "source": [
    "import random\n",
    "\n",
    "\n",
    "def outer():\n",
    "    x = random.randint(1, 7)\n",
    "\n",
    "    def inner(guess):\n",
    "        if guess == x:\n",
    "            return True\n",
    "        else:\n",
    "            return False\n",
    "\n",
    "    return inner\n",
    "\n",
    "\n",
    "i = outer()"
   ]
  },
  {
   "cell_type": "code",
   "execution_count": 15,
   "metadata": {},
   "outputs": [
    {
     "data": {
      "text/plain": [
       "[False, False, False, False, False, True]"
      ]
     },
     "execution_count": 15,
     "metadata": {},
     "output_type": "execute_result"
    }
   ],
   "source": [
    "[i(k) for k in range(1, 7)]"
   ]
  },
  {
   "cell_type": "markdown",
   "metadata": {},
   "source": [
    "Please be aware the code executes at random. Itis the quessing game in which function is the only place a variable was remembered.\n",
    "\n",
    "Some people says that Class is a variable to which functions are attached. In that case, closures are the functions with variables attached to them."
   ]
  },
  {
   "cell_type": "markdown",
   "metadata": {},
   "source": [
    "## Lambdas\n",
    "\n",
    "The third (and perhaps the most famous) element of functional programming is the concept of lambda calculus. Since we deal with a multitude of functions, why not create them on the fly? The biggest problem when creating many functions is the need to give them many names. In many languages, function names are visible much more widely than variables (created in a local scope), causing naming conflicts. Even if names are not a problem, the syntax for creating functions is burdensome for both the writer and the reader of the code. Lambdas are used for quickly creating and succinctly expressing simple functions.\n"
   ]
  },
  {
   "cell_type": "code",
   "execution_count": 16,
   "metadata": {},
   "outputs": [
    {
     "data": {
      "text/plain": [
       "64"
      ]
     },
     "execution_count": 16,
     "metadata": {},
     "output_type": "execute_result"
    }
   ],
   "source": [
    "square = lambda a: a * a\n",
    "square(8)"
   ]
  },
  {
   "cell_type": "markdown",
   "metadata": {},
   "source": [
    "In the above, we are actually applying a certain distortion because lambda functions are rarely assigned to variables. Most often, they are directly passed for further processing (examples of this coming up shortly). First, let's outline what lambdas are and how they look in different programming languages (specifically focusing on C++ and Java).\n",
    "\n",
    "In C++, a lambda has the form:\n",
    "\n",
    "```cpp\n",
    "auto function = [](){};\n",
    "```\n",
    "Sometimes extended with a return type:\n",
    "```cpp\n",
    "auto function = [closure](input parameter list) -> return type {lambda body};\n",
    "```\n",
    "Java has a similar syntax, where lambdas are converted to anonymous classes:\n",
    "\n",
    "```java\n",
    "BaseClass lambda = (parameters) -> { lambda body };\n",
    "```\n",
    "Why are we talking about this? Python hides the implementation from us at a very high level, but compiled languages like C++ or Java allow us to better illustrate what lambdas are. So, the lambda cpp [](){} is converted to:\n",
    "\n",
    "```cpp\n",
    "class Lambda : BaseOfAllLambdas\n",
    "{\n",
    "   // closure fields\n",
    "   \n",
    "   Lambda(closure) { /* constructor */ }\n",
    "    \n",
    "   return type operator()(parameters)\n",
    "   {\n",
    "      // lambda body\n",
    "   }\n",
    "};\n",
    "```\n",
    "\n",
    "This means that lambdas are objects of classes that have their own operator() - allowing their objects to be used as functions. Such an explanation is not at all readable in the context of Python syntax."
   ]
  },
  {
   "cell_type": "markdown",
   "metadata": {},
   "source": [
    "# Higher-Order Functions\n",
    "\n",
    "In functional programming, we use the concept of higher-order functions - functions that transform functions (a function is an input parameter). We will now discuss a few commonly used higher-order functions.\n",
    "\n",
    "## Map Function\n",
    "\n",
    "One of the important components of higher-order functions in Python is the map function. The syntax looks like this:\n",
    "\n",
    "```python\n",
    "transformed_list = map(transform, list)\n",
    "```\n",
    "This allows for very quick transformation of data sets according to a certain rule. For example, let's transform a list into the remainder of division by 6.\n"
   ]
  },
  {
   "cell_type": "code",
   "execution_count": 17,
   "metadata": {},
   "outputs": [
    {
     "name": "stdout",
     "output_type": "stream",
     "text": [
      "[0, 1, 2, 3, 4, 5, 0, 1, 2, 3, 4, 5, 0, 1, 2, 3, 4, 5, 0, 1, 2, 3, 4, 5, 0, 1, 2, 3, 4, 5, 0, 1, 2, 3, 4, 5, 0, 1, 2, 3, 4, 5, 0, 1, 2, 3, 4, 5, 0, 1]\n"
     ]
    }
   ],
   "source": [
    "lista = [i for i in range(0, 50)]\n",
    "reszty = map(lambda i: i % 6, lista)\n",
    "print(list(reszty))"
   ]
  },
  {
   "cell_type": "markdown",
   "metadata": {},
   "source": [
    "## Filter Function\n",
    "\n",
    "The second component is the filter function. It has a similar structure to map but allows for the selection of elements in a list that meet specific criteria.\n",
    "\n",
    "```python\n",
    "filtered_list = filter(criteria, list)\n",
    "```"
   ]
  },
  {
   "cell_type": "code",
   "execution_count": 18,
   "metadata": {},
   "outputs": [
    {
     "name": "stdout",
     "output_type": "stream",
     "text": [
      "[0, 6, 12, 18, 24, 30, 36, 42, 48, 54, 60, 66, 72, 78, 84, 90, 96, 102, 108, 114, 120, 126, 132, 138, 144, 150, 156, 162, 168, 174, 180, 186, 192, 198, 204, 210, 216, 222, 228, 234, 240, 246, 252, 258, 264, 270, 276, 282, 288, 294, 300, 306, 312, 318, 324, 330, 336, 342, 348, 354, 360, 366, 372, 378, 384, 390, 396, 402, 408, 414, 420, 426, 432, 438, 444, 450, 456, 462, 468, 474, 480, 486, 492, 498]\n"
     ]
    }
   ],
   "source": [
    "lista = [i for i in range(0, 500)]\n",
    "podzielne_na_6 = filter(lambda i: i % 6 == 0, lista)\n",
    "print(list(podzielne_na_6))"
   ]
  },
  {
   "cell_type": "markdown",
   "metadata": {},
   "source": [
    "# Reduce Function (functools)\n",
    "\n",
    "Another function is reduce from functools. It is used to generate aggregations from sets. Below is an example of how to calculate the maximum using reduce.\n",
    "\n",
    "```python\n",
    "from functools import reduce\n",
    "maximum_value = reduce(max, iterable)\n",
    "```"
   ]
  },
  {
   "cell_type": "code",
   "execution_count": 19,
   "metadata": {},
   "outputs": [
    {
     "data": {
      "text/plain": [
       "499"
      ]
     },
     "execution_count": 19,
     "metadata": {},
     "output_type": "execute_result"
    }
   ],
   "source": [
    "from functools import reduce\n",
    "\n",
    "lista = [i for i in range(0, 500)]\n",
    "maksimum = reduce(lambda x, y: x if x > y else y, lista)\n",
    "maksimum"
   ]
  },
  {
   "cell_type": "markdown",
   "metadata": {},
   "source": [
    "## Compare code efficiency"
   ]
  },
  {
   "cell_type": "code",
   "execution_count": 20,
   "metadata": {},
   "outputs": [],
   "source": [
    "def silniaIt(n):\n",
    "    agg = 1\n",
    "    while n >= 1:\n",
    "        agg *= n\n",
    "        n -= 1\n",
    "    return agg\n",
    "\n",
    "\n",
    "def silniaR(n):\n",
    "    return 1 if n <= 1 else silniaR(n - 1) * n\n",
    "\n",
    "\n",
    "from functools import reduce\n",
    "from operator import mul\n",
    "\n",
    "\n",
    "def silniaFP(n):\n",
    "    return reduce(mul, range(1, n + 1), 1)"
   ]
  },
  {
   "cell_type": "code",
   "execution_count": 21,
   "metadata": {},
   "outputs": [
    {
     "name": "stdout",
     "output_type": "stream",
     "text": [
      "3.17 µs ± 309 ns per loop (mean ± std. dev. of 7 runs, 1,000 loops each)\n"
     ]
    }
   ],
   "source": [
    "%timeit -n1000 silniaIt(80)"
   ]
  },
  {
   "cell_type": "code",
   "execution_count": 22,
   "metadata": {},
   "outputs": [
    {
     "name": "stdout",
     "output_type": "stream",
     "text": [
      "3.55 µs ± 135 ns per loop (mean ± std. dev. of 7 runs, 1,000 loops each)\n"
     ]
    }
   ],
   "source": [
    "%timeit -n1000 silniaR(80)"
   ]
  },
  {
   "cell_type": "code",
   "execution_count": 23,
   "metadata": {},
   "outputs": [
    {
     "name": "stdout",
     "output_type": "stream",
     "text": [
      "2.33 µs ± 149 ns per loop (mean ± std. dev. of 7 runs, 1,000 loops each)\n"
     ]
    }
   ],
   "source": [
    "%timeit -n1000 silniaFP(80)"
   ]
  },
  {
   "cell_type": "markdown",
   "metadata": {},
   "source": [
    "# Partial\n",
    "\n",
    "To change function parameters"
   ]
  },
  {
   "cell_type": "code",
   "execution_count": 24,
   "metadata": {},
   "outputs": [
    {
     "name": "stdout",
     "output_type": "stream",
     "text": [
      "2000003\n"
     ]
    }
   ],
   "source": [
    "from functools import partial\n",
    "\n",
    "\n",
    "def add(a, b):\n",
    "    return 1000000 * a + b\n",
    "\n",
    "\n",
    "add_two = partial(add, 2)\n",
    "print(add_two(3))"
   ]
  },
  {
   "cell_type": "markdown",
   "metadata": {},
   "source": [
    "# Callable classes\n",
    "\n",
    "A classes that can be used as function. Sure thing !"
   ]
  },
  {
   "cell_type": "code",
   "execution_count": 25,
   "metadata": {},
   "outputs": [],
   "source": [
    "class Dodaj(object):\n",
    "    def __init__(self, dane):\n",
    "        self._dane = dane\n",
    "\n",
    "    def __call__(self, liczba):\n",
    "        return self._dane + liczba"
   ]
  },
  {
   "cell_type": "code",
   "execution_count": 26,
   "metadata": {},
   "outputs": [
    {
     "data": {
      "text/plain": [
       "5"
      ]
     },
     "execution_count": 26,
     "metadata": {},
     "output_type": "execute_result"
    }
   ],
   "source": [
    "dodaj3 = Dodaj(3)\n",
    "\n",
    "dodaj3(2)"
   ]
  },
  {
   "cell_type": "markdown",
   "metadata": {},
   "source": [
    "# Generators\n",
    "\n",
    "Generators are the special functions that uses a unique python command - namely `yield`. Below we present an example of Sieve of Eratosthenes (despite being buuued once more)"
   ]
  },
  {
   "cell_type": "code",
   "execution_count": 27,
   "metadata": {},
   "outputs": [],
   "source": [
    "class SitoEratostenesa(object):\n",
    "\n",
    "    def __init__(self, max_size):\n",
    "        self._max_size = max_size\n",
    "        self._primes = [True for i in range(max_size)]\n",
    "        self._primes[0] = self._primes[1] = False\n",
    "        prime = 2\n",
    "        i = prime\n",
    "        while prime < max_size:\n",
    "            # marks as not prime\n",
    "            i = prime + prime\n",
    "            while i < max_size:\n",
    "                self._primes[i] = False\n",
    "                i += prime\n",
    "            # find next prime\n",
    "            prime += 1\n",
    "            while prime < max_size and self._primes[prime] == False:\n",
    "                prime += 1\n",
    "\n",
    "    def print(self):\n",
    "        true_primes = [i for i in range(self._max_size) if self._primes[i]]\n",
    "        return true_primes\n",
    "\n",
    "    def check(self, liczba):\n",
    "        return self._primes[liczba]"
   ]
  },
  {
   "cell_type": "code",
   "execution_count": 28,
   "metadata": {},
   "outputs": [
    {
     "name": "stdout",
     "output_type": "stream",
     "text": [
      "[2, 3, 5, 7, 11, 13, 17, 19, 23, 29, 31, 37, 41, 43, 47, 53, 59, 61, 67, 71, 73, 79, 83, 89, 97]"
     ]
    }
   ],
   "source": [
    "sito = SitoEratostenesa(100)\n",
    "print(sito.print(), end=\"\")"
   ]
  },
  {
   "cell_type": "code",
   "execution_count": 29,
   "metadata": {},
   "outputs": [
    {
     "data": {
      "text/plain": [
       "False"
      ]
     },
     "execution_count": 29,
     "metadata": {},
     "output_type": "execute_result"
    }
   ],
   "source": [
    "sito.check(96)"
   ]
  },
  {
   "cell_type": "markdown",
   "metadata": {},
   "source": [
    "Such a classical implementation is okey, but requires to define a limit in advance. We can get of this limitation thanks to generators"
   ]
  },
  {
   "cell_type": "code",
   "execution_count": 30,
   "metadata": {},
   "outputs": [],
   "source": [
    "def primesFP():\n",
    "    candidate = 2\n",
    "    found = []\n",
    "    while True:\n",
    "        if all(candidate % prime != 0 for prime in found):\n",
    "            yield candidate\n",
    "            found.append(candidate)\n",
    "        candidate += 1\n",
    "\n",
    "\n",
    "primes = primesFP()"
   ]
  },
  {
   "cell_type": "code",
   "execution_count": 31,
   "metadata": {},
   "outputs": [
    {
     "data": {
      "text/plain": [
       "2"
      ]
     },
     "execution_count": 31,
     "metadata": {},
     "output_type": "execute_result"
    }
   ],
   "source": [
    "next(primes)"
   ]
  },
  {
   "cell_type": "code",
   "execution_count": 32,
   "metadata": {},
   "outputs": [
    {
     "name": "stdout",
     "output_type": "stream",
     "text": [
      "2 3 5 7 11 13 17 19 23 29 31 37 41 43 47 53 59 61 67 71 73 79 83 89 97 101 103 107 109 113 127 131 137 139 149 151 157 163 167 173 179 181 191 193 197 199 211 223 227 229 233 239 241 251 257 263 269 271 277 281 283 293 307 311 313 317 331 337 347 349 353 359 367 373 379 383 389 397 401 409 419 421 431 433 439 443 449 457 461 463 467 479 487 491 499 503 509 521 523 541 "
     ]
    }
   ],
   "source": [
    "primes = primesFP()\n",
    "for _, prime in zip(range(100), primes):\n",
    "    print(prime, end=\" \")"
   ]
  },
  {
   "cell_type": "markdown",
   "metadata": {},
   "source": [
    "To understand it even better we shall do the following"
   ]
  },
  {
   "cell_type": "code",
   "execution_count": 33,
   "metadata": {},
   "outputs": [],
   "source": [
    "def primesFP_debug():\n",
    "    candidate = 2\n",
    "    found = []\n",
    "    while True:\n",
    "        print(\".\", end=\"\")\n",
    "        if all(candidate % prime != 0 for prime in found):\n",
    "            yield candidate\n",
    "            found.append(candidate)\n",
    "        candidate += 1\n",
    "\n",
    "\n",
    "primes = primesFP_debug()"
   ]
  },
  {
   "cell_type": "code",
   "execution_count": 34,
   "metadata": {},
   "outputs": [
    {
     "name": "stdout",
     "output_type": "stream",
     "text": [
      ".2\n",
      ".3\n",
      "..5\n",
      "..7\n",
      "....11\n",
      "..13\n",
      "....17\n",
      "..19\n",
      "....23\n",
      "......29\n",
      "..31\n",
      "......37\n",
      "....41\n",
      "..43\n",
      "....47\n",
      "......53\n",
      "......59\n",
      "..61\n",
      "......67\n",
      "....71\n",
      "..73\n",
      "......79\n",
      "....83\n",
      "......89\n",
      "........97\n",
      "....101\n",
      "..103\n",
      "....107\n",
      "..109\n",
      "....113\n",
      "..............127\n",
      "....131\n",
      "......137\n",
      "..139\n",
      "..........149\n",
      "..151\n",
      "......157\n",
      "......163\n",
      "....167\n",
      "......173\n",
      "......179\n",
      "..181\n",
      "..........191\n",
      "..193\n",
      "....197\n",
      "..199\n",
      "............211\n",
      "............223\n",
      "....227\n",
      "..229\n",
      "....233\n",
      "......239\n",
      "..241\n",
      "..........251\n",
      "......257\n",
      "......263\n",
      "......269\n",
      "..271\n",
      "......277\n",
      "....281\n",
      "..283\n",
      "..........293\n",
      "..............307\n",
      "....311\n",
      "..313\n",
      "....317\n",
      "..............331\n",
      "......337\n",
      "..........347\n",
      "..349\n",
      "....353\n",
      "......359\n",
      "........367\n",
      "......373\n",
      "......379\n",
      "....383\n",
      "......389\n",
      "........397\n",
      "....401\n",
      "........409\n",
      "..........419\n",
      "..421\n",
      "..........431\n",
      "..433\n",
      "......439\n",
      "....443\n",
      "......449\n",
      "........457\n",
      "....461\n",
      "..463\n",
      "....467\n",
      "............479\n",
      "........487\n",
      "....491\n",
      "........499\n",
      "....503\n",
      "......509\n",
      "............521\n",
      "..523\n",
      "..................541\n"
     ]
    }
   ],
   "source": [
    "for i in range(100):\n",
    "    print(next(primes))"
   ]
  },
  {
   "cell_type": "code",
   "execution_count": 35,
   "metadata": {},
   "outputs": [
    {
     "name": "stdout",
     "output_type": "stream",
     "text": [
      "......"
     ]
    },
    {
     "data": {
      "text/plain": [
       "547"
      ]
     },
     "execution_count": 35,
     "metadata": {},
     "output_type": "execute_result"
    }
   ],
   "source": [
    "next(primes)"
   ]
  },
  {
   "cell_type": "markdown",
   "metadata": {},
   "source": [
    "We can thus see that function somehow freezes - until `next` function is called upon. It kind of work like a pausa/hold."
   ]
  },
  {
   "cell_type": "markdown",
   "metadata": {},
   "source": [
    "# Pass-Fail exercises\n",
    "\n",
    "Create a python file `03-functional-python.py` in you catalogue in student directory in there code that matches the following exercises.  When done - create a MR out of it. When merged - exercise in passed. \n",
    "\n",
    "**hint** you may open this notebook and use the code blocks to create a solution to problem - and copy paste it a proper file at the very end. Just dont commit changes in this this file\n",
    "\n",
    "\n",
    "Exercises are as follows:\n",
    "\n",
    "## Exercise 1\n",
    "\n",
    "In this exercise, we'll create a Rectangle class with a width and height attribute. Your task is to implement a property named area using a decorator that calculates and returns the area of the rectangle."
   ]
  },
  {
   "cell_type": "code",
   "execution_count": 36,
   "metadata": {},
   "outputs": [],
   "source": [
    "class Rectangle:\n",
    "    def __init__(self, width, height):\n",
    "        self._width = width\n",
    "        self._height = height\n",
    "\n",
    "\n",
    "# Test the Rectangle class\n",
    "rectangle = Rectangle(5, 10)\n",
    "# print(f\"Width: {rectangle.width}\") # make all of this to work\n",
    "# print(f\"Height: {rectangle.height}\")\n",
    "# print(f\"Area: {rectangle.area}\")"
   ]
  },
  {
   "cell_type": "markdown",
   "metadata": {},
   "source": [
    "# Exercise2 \n",
    "\n",
    "# Given list of numbers\n",
    "```python\n",
    "numbers = [1, 2, 3, 4, 5, 6, 7, 8, 9, 10]\n",
    "```\n",
    "\n",
    "* Create a list 'squared_numbers' containing the squares of each number.\n",
    "* Create a list 'even_numbers' containing only the even numbers from the original list.\n",
    "* Create a list 'cubed_odd_numbers' containing the cubes of only the odd numbers from the original list.\n",
    "* Create a list 'length_of_words' containing the lengths of words for the given sentence.\n"
   ]
  },
  {
   "cell_type": "code",
   "execution_count": 37,
   "metadata": {},
   "outputs": [],
   "source": [
    "pass"
   ]
  },
  {
   "cell_type": "markdown",
   "metadata": {},
   "source": [
    "# Exercise 3\n",
    "Perform the actions from previous exercise but this time use map, filter instead of comprehension lists"
   ]
  },
  {
   "cell_type": "code",
   "execution_count": 38,
   "metadata": {},
   "outputs": [],
   "source": [
    "pass"
   ]
  },
  {
   "cell_type": "markdown",
   "metadata": {},
   "source": [
    "## Exercise 4 \n",
    "\n",
    "Create a sentence guessing tool by using a closure function. Closure should remember the word and when provide with a list of letters it should display only those letter in word it returns\n",
    "\n",
    "Example: \n",
    "\n",
    "word: pilot\n",
    "letters: ['p', 'o', 't']\n",
    "\n",
    "displays: 'p__ot'"
   ]
  },
  {
   "cell_type": "code",
   "execution_count": 39,
   "metadata": {},
   "outputs": [],
   "source": [
    "pass"
   ]
  },
  {
   "cell_type": "markdown",
   "metadata": {},
   "source": [
    "# Exercise 5\n",
    "\n",
    "Pick any sequence given by a recurent formula. Build up a generator that provides a values from it sequence when `next` is called\n",
    "\n",
    "You can watch this for inspiration: [https://www.youtube.com/watch?v=094y1Z2wpJg](https://www.youtube.com/watch?v=094y1Z2wpJg)"
   ]
  },
  {
   "cell_type": "code",
   "execution_count": 40,
   "metadata": {},
   "outputs": [],
   "source": [
    "pass"
   ]
  }
 ],
 "metadata": {
  "kernelspec": {
   "display_name": "Python 3",
   "language": "python",
   "name": "python3"
  },
  "language_info": {
   "codemirror_mode": {
    "name": "ipython",
    "version": 3
   },
   "file_extension": ".py",
   "mimetype": "text/x-python",
   "name": "python",
   "nbconvert_exporter": "python",
   "pygments_lexer": "ipython3",
   "version": "3.12.9"
  }
 },
 "nbformat": 4,
 "nbformat_minor": 2
}

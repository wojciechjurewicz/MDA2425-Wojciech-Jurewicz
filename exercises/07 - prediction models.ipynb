{
 "cells": [
  {
   "cell_type": "code",
   "execution_count": null,
   "metadata": {},
   "outputs": [],
   "source": [
    "%load_ext autoreload\n",
    "%autoreload 2\n",
    "\n",
    "import os\n",
    "import sys\n",
    "\n",
    "while any(marker in os.getcwd() for marker in ('exercises', 'notebooks', 'students', 'research')):\n",
    "    os.chdir(\"..\")\n",
    "sys.path.append('src')\n",
    "os.getcwd()"
   ]
  },
  {
   "cell_type": "code",
   "execution_count": 2,
   "metadata": {},
   "outputs": [],
   "source": [
    "import seaborn as sns\n",
    "import pandas as pd\n",
    "import numpy as np\n",
    "import matplotlib.pyplot as plt\n",
    "\n",
    "from sklearn.pipeline import make_pipeline\n",
    "from sklearn.model_selection import train_test_split\n",
    "from sklearn.datasets import fetch_california_housing\n",
    "from sklearn.linear_model import LinearRegression, Lasso, Ridge, ElasticNet\n",
    "from sklearn.svm import SVR, LinearSVR, NuSVR\n",
    "from sklearn.metrics import r2_score, mean_squared_error"
   ]
  },
  {
   "cell_type": "code",
   "execution_count": 3,
   "metadata": {},
   "outputs": [],
   "source": [
    "data = fetch_california_housing()\n",
    "\n",
    "# Get the features and target variable from the dataset\n",
    "X = pd.DataFrame(data.data, columns=data.feature_names)  # Features\n",
    "y = pd.Series(data.target, name=data.target_names[0])  # Target variable\n",
    "df = pd.concat([X, y], axis=1)"
   ]
  },
  {
   "cell_type": "code",
   "execution_count": null,
   "metadata": {},
   "outputs": [],
   "source": [
    "df"
   ]
  },
  {
   "cell_type": "code",
   "execution_count": 5,
   "metadata": {},
   "outputs": [],
   "source": [
    "X_train, X_test, y_train, y_test = train_test_split(\n",
    "    X,\n",
    "    y,\n",
    "    test_size=0.2,\n",
    "    random_state=42,\n",
    ")"
   ]
  },
  {
   "cell_type": "markdown",
   "metadata": {},
   "source": [
    "# Linear regression"
   ]
  },
  {
   "cell_type": "code",
   "execution_count": null,
   "metadata": {},
   "outputs": [],
   "source": [
    "pipeline = make_pipeline(LinearRegression(fit_intercept=True))\n",
    "pipeline.fit(X, y)  # uczenie modelu regresji liniowej\n",
    "print(\"Coefficient: \\n\", pipeline[-1].coef_)\n",
    "print(\"Intercept: \\n\", pipeline[-1].intercept_)\n",
    "print(pipeline.score(X, y))\n",
    "y_prediction_for_x = pipeline.predict(X)\n",
    "print(r2_score(y, y_prediction_for_x))"
   ]
  },
  {
   "cell_type": "code",
   "execution_count": null,
   "metadata": {},
   "outputs": [],
   "source": [
    "print(pipeline.score(X, y))\n",
    "y_prediction_for_x = pipeline.predict(X)\n",
    "print(r2_score(y, y_prediction_for_x))"
   ]
  },
  {
   "cell_type": "code",
   "execution_count": null,
   "metadata": {},
   "outputs": [],
   "source": [
    "lasso_pipeline = make_pipeline(Lasso(alpha=1.0, fit_intercept=True))\n",
    "lasso_pipeline.fit(X, y)  # Training the Lasso Regression model\n",
    "print(\"Coefficient: \\n\", lasso_pipeline[-1].coef_)\n",
    "print(\"Intercept: \\n\", lasso_pipeline[-1].intercept_)\n",
    "print(lasso_pipeline.score(X, y))\n",
    "y_prediction_for_x_lasso = lasso_pipeline.predict(X)\n",
    "print(r2_score(y, y_prediction_for_x_lasso))"
   ]
  },
  {
   "cell_type": "code",
   "execution_count": null,
   "metadata": {},
   "outputs": [],
   "source": [
    "ridge_pipeline = make_pipeline(Ridge(alpha=1.0, fit_intercept=True))\n",
    "ridge_pipeline.fit(X, y)  # Training the Ridge Regression model\n",
    "print(\"Coefficient: \\n\", ridge_pipeline[-1].coef_)\n",
    "print(\"Intercept: \\n\", ridge_pipeline[-1].intercept_)\n",
    "print(ridge_pipeline.score(X, y))\n",
    "y_prediction_for_x_ridge = ridge_pipeline.predict(X)\n",
    "print(r2_score(y, y_prediction_for_x_ridge))"
   ]
  },
  {
   "cell_type": "code",
   "execution_count": null,
   "metadata": {},
   "outputs": [],
   "source": [
    "elastic_net_pipeline = make_pipeline(\n",
    "    ElasticNet(alpha=1.0, l1_ratio=0.5, fit_intercept=True)\n",
    ")\n",
    "elastic_net_pipeline.fit(X, y)  # Training the Elastic Net Regression model\n",
    "print(\"Coefficient: \\n\", elastic_net_pipeline[-1].coef_)\n",
    "print(\"Intercept: \\n\", elastic_net_pipeline[-1].intercept_)\n",
    "print(elastic_net_pipeline.score(X, y))\n",
    "y_prediction_for_x_elastic_net = elastic_net_pipeline.predict(X)\n",
    "print(r2_score(y, y_prediction_for_x_elastic_net))"
   ]
  },
  {
   "cell_type": "markdown",
   "metadata": {},
   "source": [
    "# SVM Regression"
   ]
  },
  {
   "cell_type": "code",
   "execution_count": null,
   "metadata": {},
   "outputs": [],
   "source": [
    "pipeline = make_pipeline(SVR(kernel=\"poly\", degree=3, C=1.0, epsilon=0.1))\n",
    "pipeline.fit(X, y)  # uczenie modelu regresji liniowej"
   ]
  },
  {
   "cell_type": "code",
   "execution_count": null,
   "metadata": {},
   "outputs": [],
   "source": [
    "y_pred = pipeline.predict(X_test)\n",
    "mean_squared_error(y_test, y_pred)"
   ]
  },
  {
   "cell_type": "code",
   "execution_count": null,
   "metadata": {},
   "outputs": [],
   "source": [
    "pipeline = make_pipeline(SVR(kernel=\"rbf\", C=1.0, epsilon=0.1))\n",
    "pipeline.fit(X, y)  # uczenie modelu regresji liniowej\n",
    "y_pred = pipeline.predict(X_test)\n",
    "mean_squared_error(y_test, y_pred)"
   ]
  },
  {
   "cell_type": "code",
   "execution_count": null,
   "metadata": {},
   "outputs": [],
   "source": [
    "pipeline = make_pipeline(LinearSVR(max_iter=10000))\n",
    "pipeline.fit(X, y)  # uczenie modelu regresji liniowej\n",
    "y_pred = pipeline.predict(X_test)\n",
    "mean_squared_error(y_test, y_pred)"
   ]
  },
  {
   "cell_type": "code",
   "execution_count": null,
   "metadata": {},
   "outputs": [],
   "source": [
    "pipeline = make_pipeline(NuSVR())\n",
    "pipeline.fit(X, y)  # uczenie modelu regresji liniowej\n",
    "y_pred = pipeline.predict(X_test)\n",
    "mean_squared_error(y_test, y_pred)"
   ]
  },
  {
   "cell_type": "markdown",
   "metadata": {},
   "source": [
    "# kNN"
   ]
  },
  {
   "cell_type": "code",
   "execution_count": null,
   "metadata": {},
   "outputs": [],
   "source": [
    "from sklearn.neighbors import KNeighborsRegressor\n",
    "\n",
    "k = 5  # count of neighbors\n",
    "\n",
    "pipeline = make_pipeline(KNeighborsRegressor(n_neighbors=k))\n",
    "\n",
    "pipeline.fit(X_train, y_train)\n",
    "y_pred = pipeline.predict(X_test)\n",
    "mean_squared_error(y_test, y_pred)"
   ]
  },
  {
   "cell_type": "markdown",
   "metadata": {},
   "source": [
    "# Decision tree"
   ]
  },
  {
   "cell_type": "code",
   "execution_count": null,
   "metadata": {},
   "outputs": [],
   "source": [
    "from sklearn.tree import DecisionTreeRegressor\n",
    "\n",
    "pipeline = make_pipeline(\n",
    "    DecisionTreeRegressor(),\n",
    ")\n",
    "pipeline.fit(X_train, y_train)"
   ]
  },
  {
   "cell_type": "code",
   "execution_count": null,
   "metadata": {},
   "outputs": [],
   "source": [
    "y_pred = pipeline.predict(X_test)\n",
    "mean_squared_error(y_test, y_pred)"
   ]
  }
 ],
 "metadata": {
  "kernelspec": {
   "display_name": "mda",
   "language": "python",
   "name": "python3"
  },
  "language_info": {
   "codemirror_mode": {
    "name": "ipython",
    "version": 3
   },
   "file_extension": ".py",
   "mimetype": "text/x-python",
   "name": "python",
   "nbconvert_exporter": "python",
   "pygments_lexer": "ipython3",
   "version": "3.11.8"
  }
 },
 "nbformat": 4,
 "nbformat_minor": 2
}

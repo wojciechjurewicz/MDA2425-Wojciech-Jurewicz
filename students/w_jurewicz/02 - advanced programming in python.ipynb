{
 "cells": [
  {
   "cell_type": "markdown",
   "metadata": {},
   "source": [
    "# Python collections\n"
   ]
  },
  {
   "cell_type": "markdown",
   "metadata": {},
   "source": [
    "\n",
    "we'll cover the basics of Python data structures, including tuples, lists, and dictionaries. We'll also explore how to iterate over these structures."
   ]
  },
  {
   "cell_type": "markdown",
   "metadata": {},
   "source": [
    "\n",
    "## Tuples\n",
    "\n",
    "Tuples are ordered, _immutable_ collections in Python.\n",
    "\n",
    "Create a tuple\n"
   ]
  },
  {
   "cell_type": "code",
   "execution_count": 1,
   "metadata": {},
   "outputs": [],
   "source": [
    "my_tuple = (1, 2, 3, \"hello\", 4.5)"
   ]
  },
  {
   "cell_type": "markdown",
   "metadata": {},
   "source": [
    "Access elements\n"
   ]
  },
  {
   "cell_type": "code",
   "execution_count": 2,
   "metadata": {},
   "outputs": [
    {
     "name": "stdout",
     "output_type": "stream",
     "text": [
      "Tuple: (1, 2, 3, 'hello', 4.5)\n",
      "First element: 1\n",
      "Last element: 4.5\n"
     ]
    }
   ],
   "source": [
    "print(\"Tuple:\", my_tuple)\n",
    "print(\"First element:\", my_tuple[0])\n",
    "print(\"Last element:\", my_tuple[-1])"
   ]
  },
  {
   "cell_type": "markdown",
   "metadata": {},
   "source": [
    "Attempt to modify a tuple (will raise an error)\n"
   ]
  },
  {
   "cell_type": "code",
   "execution_count": 3,
   "metadata": {},
   "outputs": [
    {
     "name": "stdout",
     "output_type": "stream",
     "text": [
      "TypeError: 'tuple' object does not support item assignment\n"
     ]
    }
   ],
   "source": [
    "try:\n",
    "    my_tuple[0] = 10\n",
    "except TypeError as e:\n",
    "    print(f\"TypeError: {e}\")"
   ]
  },
  {
   "cell_type": "markdown",
   "metadata": {},
   "source": [
    "Iterating over a tuple\n"
   ]
  },
  {
   "cell_type": "code",
   "execution_count": 4,
   "metadata": {},
   "outputs": [
    {
     "name": "stdout",
     "output_type": "stream",
     "text": [
      "\n",
      "Iterating over a tuple:\n",
      "1\n",
      "2\n",
      "3\n",
      "hello\n",
      "4.5\n"
     ]
    }
   ],
   "source": [
    "print(\"\\nIterating over a tuple:\")\n",
    "for element in my_tuple:\n",
    "    print(element)"
   ]
  },
  {
   "cell_type": "markdown",
   "metadata": {},
   "source": [
    "\n",
    "## Lists\n",
    "\n",
    "Lists are ordered, mutable collections in Python.\n",
    "\n",
    "Create a list\n"
   ]
  },
  {
   "cell_type": "code",
   "execution_count": 5,
   "metadata": {},
   "outputs": [],
   "source": [
    "my_list = [1, 2, 3, \"hello\", 4.5]"
   ]
  },
  {
   "cell_type": "markdown",
   "metadata": {},
   "source": [
    "Access elements\n"
   ]
  },
  {
   "cell_type": "code",
   "execution_count": 6,
   "metadata": {},
   "outputs": [
    {
     "name": "stdout",
     "output_type": "stream",
     "text": [
      "\n",
      "List: [1, 2, 3, 'hello', 4.5]\n",
      "First element: 1\n",
      "Last element: 4.5\n",
      "Items 2 to 4: [2, 3, 'hello']\n",
      "reversed: [4.5, 'hello', 3, 2, 1]\n",
      "even: [1, 3, 4.5]\n"
     ]
    }
   ],
   "source": [
    "print(\"\\nList:\", my_list)\n",
    "print(\"First element:\", my_list[0])\n",
    "print(\"Last element:\", my_list[-1])\n",
    "print(\"Items 2 to 4:\", my_list[1:4])\n",
    "print(\"reversed:\", my_list[::-1])\n",
    "print(\"even:\", my_list[::2])"
   ]
  },
  {
   "cell_type": "markdown",
   "metadata": {},
   "source": [
    "\n",
    "Modify a list\n"
   ]
  },
  {
   "cell_type": "code",
   "execution_count": 7,
   "metadata": {},
   "outputs": [
    {
     "name": "stdout",
     "output_type": "stream",
     "text": [
      "Modified list: [10, 2, 3, 'hello', 4.5]\n"
     ]
    }
   ],
   "source": [
    "my_list[0] = 10\n",
    "print(\"Modified list:\", my_list)"
   ]
  },
  {
   "cell_type": "markdown",
   "metadata": {},
   "source": [
    "Iterate over a list\n"
   ]
  },
  {
   "cell_type": "code",
   "execution_count": 8,
   "metadata": {},
   "outputs": [
    {
     "name": "stdout",
     "output_type": "stream",
     "text": [
      "\n",
      "Iterating over a list:\n",
      "10\n",
      "2\n",
      "3\n",
      "hello\n",
      "4.5\n"
     ]
    }
   ],
   "source": [
    "print(\"\\nIterating over a list:\")\n",
    "for element in my_list:\n",
    "    print(element)"
   ]
  },
  {
   "cell_type": "markdown",
   "metadata": {},
   "source": [
    "\n",
    "## Dictionaries\n",
    "\n",
    "Dictionaries are unordered, mutable collections of key-value pairs in Python.\n",
    "\n",
    "Create a dictionary\n"
   ]
  },
  {
   "cell_type": "code",
   "execution_count": 9,
   "metadata": {},
   "outputs": [],
   "source": [
    "my_dict = {\"name\": \"John\", \"age\": 25, \"city\": \"New York\"}"
   ]
  },
  {
   "cell_type": "markdown",
   "metadata": {},
   "source": [
    "\n",
    "Access elements\n"
   ]
  },
  {
   "cell_type": "code",
   "execution_count": 10,
   "metadata": {},
   "outputs": [
    {
     "name": "stdout",
     "output_type": "stream",
     "text": [
      "\n",
      "Dictionary: {'name': 'John', 'age': 25, 'city': 'New York'}\n",
      "Name: John\n",
      "Age: 25\n"
     ]
    }
   ],
   "source": [
    "print(\"\\nDictionary:\", my_dict)\n",
    "print(\"Name:\", my_dict[\"name\"])\n",
    "print(\"Age:\", my_dict[\"age\"])"
   ]
  },
  {
   "cell_type": "markdown",
   "metadata": {},
   "source": [
    "\n",
    "Modify a dictionary\n"
   ]
  },
  {
   "cell_type": "code",
   "execution_count": 11,
   "metadata": {},
   "outputs": [
    {
     "name": "stdout",
     "output_type": "stream",
     "text": [
      "Modified dictionary: {'name': 'John', 'age': 26, 'city': 'New York'}\n"
     ]
    }
   ],
   "source": [
    "my_dict[\"age\"] = 26\n",
    "print(\"Modified dictionary:\", my_dict)"
   ]
  },
  {
   "cell_type": "markdown",
   "metadata": {},
   "source": [
    "Iterate over a dictionary\n"
   ]
  },
  {
   "cell_type": "code",
   "execution_count": 12,
   "metadata": {},
   "outputs": [
    {
     "name": "stdout",
     "output_type": "stream",
     "text": [
      "\n",
      "Iterating over a dictionary:\n",
      "name: John\n",
      "age: 26\n",
      "city: New York\n"
     ]
    }
   ],
   "source": [
    "print(\"\\nIterating over a dictionary:\")\n",
    "for key, value in my_dict.items():\n",
    "    print(f\"{key}: {value}\")"
   ]
  },
  {
   "cell_type": "markdown",
   "metadata": {},
   "source": [
    "Adding items to the dictionary\n"
   ]
  },
  {
   "cell_type": "code",
   "execution_count": 13,
   "metadata": {},
   "outputs": [
    {
     "name": "stdout",
     "output_type": "stream",
     "text": [
      "Dictionary after adding items: {'name': 'John', 'age': 26, 'city': 'New York', 'gender': 'Male', 'occupation': 'Engineer'}\n"
     ]
    }
   ],
   "source": [
    "# Method 1: Using square bracket notation\n",
    "my_dict[\"gender\"] = \"Male\"\n",
    "\n",
    "# Method 2: Using the update() method\n",
    "my_dict.update({\"occupation\": \"Engineer\"})\n",
    "\n",
    "# Displaying the dictionary after adding items\n",
    "print(\"Dictionary after adding items:\", my_dict)"
   ]
  },
  {
   "cell_type": "markdown",
   "metadata": {},
   "source": [
    "Deleting items from the dictionary\n"
   ]
  },
  {
   "cell_type": "code",
   "execution_count": 14,
   "metadata": {},
   "outputs": [
    {
     "name": "stdout",
     "output_type": "stream",
     "text": [
      "\n",
      "Dictionary after deleting items:\n",
      "Removed item: New York\n",
      "Updated dictionary: {'name': 'John', 'gender': 'Male', 'occupation': 'Engineer'}\n"
     ]
    }
   ],
   "source": [
    "# Method 1: Using the del keyword\n",
    "del my_dict[\"age\"]\n",
    "\n",
    "# Method 2: Using the pop() method\n",
    "removed_item = my_dict.pop(\"city\")\n",
    "\n",
    "# Displaying the dictionary after deleting items\n",
    "print(\"\\nDictionary after deleting items:\")\n",
    "print(\"Removed item:\", removed_item)\n",
    "print(\"Updated dictionary:\", my_dict)"
   ]
  },
  {
   "cell_type": "markdown",
   "metadata": {},
   "source": [
    "# String formating\n",
    "\n"
   ]
  },
  {
   "cell_type": "markdown",
   "metadata": {},
   "source": [
    "\n",
    "Current version is Python 3. And each of python version came with a new way of string formatting. It is nice to know them all, as being able to read any kind of code is a helpfull tool. \n",
    "\n",
    "## printf or C-style printing\n",
    "\n",
    "Is printing in a manner that comes from C language style. It uses a special string operators `%` to pass arguments for formating. \n",
    "\n",
    "\n"
   ]
  },
  {
   "cell_type": "code",
   "execution_count": 15,
   "metadata": {},
   "outputs": [
    {
     "name": "stdout",
     "output_type": "stream",
     "text": [
      "My name is Alice and I am 30 years old.\n"
     ]
    }
   ],
   "source": [
    "name = \"Alice\"\n",
    "age = 30\n",
    "print(\"My name is %s and I am %d years old.\" % (name, age))"
   ]
  },
  {
   "cell_type": "markdown",
   "metadata": {},
   "source": [
    "there is a plenty of different types notions \n",
    "\n",
    "* %s: String\n",
    "* %d: Integer\n",
    "* %f: Floating-point decimal\n",
    "* %x, %X: Hexadecimal representation (lowercase and uppercase, respectively)\n",
    "* %o: Octal representation\n",
    "* %c: Single character\n",
    "* %r: String representation of an object (using repr())\n",
    "* %e, %E: Exponential notation (lowercase and uppercase, respectively)\n",
    "* %g, %G: General format (using %f or %e based on the value)\n",
    "* %%: Literal % character\n",
    "\n",
    "more details on [https://docs.python.org/3/library/stdtypes.html#old-string-formatting](https://docs.python.org/3/library/stdtypes.html#old-string-formatting)"
   ]
  },
  {
   "cell_type": "markdown",
   "metadata": {},
   "source": [
    "## Pyformat\n",
    "\n",
    "Second way of python formatting comes when python string attained a method called format. Biggest disadvantage of predesesor was knowing datatype was a must - one had to specify whether we go with `%s` or `%d`. \n"
   ]
  },
  {
   "cell_type": "code",
   "execution_count": 16,
   "metadata": {},
   "outputs": [
    {
     "name": "stdout",
     "output_type": "stream",
     "text": [
      "4 - 2 - 1 - 3 - 8\n",
      "My name is Bob and I am 25 years old.\n"
     ]
    }
   ],
   "source": [
    "items = [4, 2, 1, 3, 8]\n",
    "\n",
    "print(\"{} - {} - {} - {} - {}\".format(*items))\n",
    "\n",
    "name = \"Bob\"\n",
    "age = 25\n",
    "print(\"My name is {} and I am {} years old.\".format(name, age))"
   ]
  },
  {
   "cell_type": "markdown",
   "metadata": {},
   "source": [
    "With this specifying the type is optional. It introduces also a various ways of given types to be displayed. See some examples of it"
   ]
  },
  {
   "cell_type": "code",
   "execution_count": 17,
   "metadata": {},
   "outputs": [
    {
     "name": "stdout",
     "output_type": "stream",
     "text": [
      "42\n",
      "3.141593\n",
      "  42\n",
      "003.14\n",
      "0042\n",
      "+42\n",
      "-23\n",
      " 42\n",
      "+  23\n",
      "Hodor Hodor!\n",
      "Hodor Hodor!\n",
      "Jean-Luc Picard\n",
      "23 42\n",
      "2001-02-03 04:05\n",
      "one two\n",
      "1 2\n",
      "two one\n",
      "      test\n",
      "test      \n",
      "test______\n",
      "   test   \n",
      " zip  \n",
      "xylop\n",
      "xylop     \n"
     ]
    }
   ],
   "source": [
    "print(\"{:d}\".format(42))\n",
    "print(\"{:f}\".format(3.141592653589793))\n",
    "print(\"{:4d}\".format(42))\n",
    "print(\"{:06.2f}\".format(3.141592653589793))\n",
    "print(\"{:04d}\".format(42))\n",
    "print(\"{:+d}\".format(42))\n",
    "print(\"{: d}\".format((-23)))\n",
    "print(\"{: d}\".format(42))\n",
    "print(\"{:=+5d}\".format(23))\n",
    "data = {\"first\": \"Hodor\", \"last\": \"Hodor!\"}\n",
    "print(\"{first} {last}\".format(**data))\n",
    "print(\"{first} {last}\".format(first=\"Hodor\", last=\"Hodor!\"))\n",
    "person = {\"first\": \"Jean-Luc\", \"last\": \"Picard\"}\n",
    "print(\"{p[first]} {p[last]}\".format(p=person))\n",
    "data = [4, 8, 15, 16, 23, 42]\n",
    "print(\"{d[4]} {d[5]}\".format(d=data))\n",
    "from datetime import datetime\n",
    "\n",
    "print(\"{:%Y-%m-%d %H:%M}\".format(datetime(2001, 2, 3, 4, 5)))\n",
    "print(\"{} {}\".format(\"one\", \"two\"))\n",
    "print(\"{} {}\".format(1, 2))\n",
    "print(\"{1} {0}\".format(\"one\", \"two\"))\n",
    "print(\"{:>10}\".format(\"test\"))\n",
    "print(\"{:10}\".format(\"test\"))\n",
    "print(\"{:_<10}\".format(\"test\"))\n",
    "print(\"{:^10}\".format(\"test\"))\n",
    "print(\"{:^6}\".format(\"zip\"))\n",
    "print(\"{:.5}\".format(\"xylophone\"))\n",
    "print(\"{:10.5}\".format(\"xylophone\"))"
   ]
  },
  {
   "cell_type": "code",
   "execution_count": 18,
   "metadata": {},
   "outputs": [
    {
     "name": "stdout",
     "output_type": "stream",
     "text": [
      "0\n",
      "1\n",
      "10\n",
      "11\n",
      "100\n",
      "101\n",
      "110\n",
      "111\n",
      "1000\n",
      "1001\n"
     ]
    }
   ],
   "source": [
    "for i in range(10):\n",
    "    print(\"{0:b}\".format(i))"
   ]
  },
  {
   "cell_type": "markdown",
   "metadata": {},
   "source": [
    "More examples can be found on [conversion flags](https://pyformat.info/#conversion_flags)"
   ]
  },
  {
   "cell_type": "markdown",
   "metadata": {},
   "source": [
    "## F-strings\n",
    "\n",
    "The last pack of formating comes with so called f-strings. They improve human readability and for that reason they are very preferred nowadays. Best learned by example\n",
    "\n"
   ]
  },
  {
   "cell_type": "code",
   "execution_count": 19,
   "metadata": {},
   "outputs": [
    {
     "name": "stdout",
     "output_type": "stream",
     "text": [
      "My name is Charlie and I am 22 years old.\n"
     ]
    }
   ],
   "source": [
    "name = \"Charlie\"\n",
    "age = 22\n",
    "print(f\"My name is {name} and I am {age} years old.\")"
   ]
  },
  {
   "cell_type": "markdown",
   "metadata": {},
   "source": [
    "The same formatting commands applies to them. So for example\n"
   ]
  },
  {
   "cell_type": "code",
   "execution_count": 20,
   "metadata": {},
   "outputs": [
    {
     "name": "stdout",
     "output_type": "stream",
     "text": [
      " First is equal 7 as binary 111, last is 11 but displayed with leading zeros 00011\n"
     ]
    }
   ],
   "source": [
    "first, last = 7, 11\n",
    "print(\n",
    "    f\" First is equal {first} as binary {first:b}, last is {last} but displayed with leading zeros {last:05}\"\n",
    ")"
   ]
  },
  {
   "cell_type": "markdown",
   "metadata": {},
   "source": [
    "Apart from f-string there are also r-string (raw string), b-string (binary string) and u-string (unicode string). "
   ]
  },
  {
   "cell_type": "markdown",
   "metadata": {},
   "source": [
    "# Functions - advanced"
   ]
  },
  {
   "cell_type": "markdown",
   "metadata": {},
   "source": [
    "Functions in python can have a veriety of different parameters. A function may have no parameters, but this a rather rare case. What is important is that (except special cases) function should only depends on its parameters and variables that are created within. Thus different type of parameter plays crucial role in creating functions"
   ]
  },
  {
   "cell_type": "markdown",
   "metadata": {},
   "source": [
    "## Position parameters"
   ]
  },
  {
   "cell_type": "markdown",
   "metadata": {},
   "source": [
    "Positional parameters are the most common type of parameters. They are defined in the order they appear in the function signature.\n",
    "\n"
   ]
  },
  {
   "cell_type": "code",
   "execution_count": 21,
   "metadata": {},
   "outputs": [],
   "source": [
    "def greet(name, greeting):\n",
    "    return f\"{greeting}, {name}!\""
   ]
  },
  {
   "cell_type": "markdown",
   "metadata": {},
   "source": [
    "\n",
    "In this type of function one needs no to pass any names of variables. They are though accessible by its name, but one must decide whether to use them named or no. If they should be recognized by position, then all of them must passed at once.  "
   ]
  },
  {
   "cell_type": "code",
   "execution_count": 22,
   "metadata": {},
   "outputs": [
    {
     "name": "stdout",
     "output_type": "stream",
     "text": [
      "Hello, Alice!\n"
     ]
    }
   ],
   "source": [
    "result = greet(\"Alice\", \"Hello\")\n",
    "print(result)"
   ]
  },
  {
   "cell_type": "markdown",
   "metadata": {},
   "source": [
    "## Default Parameters\n",
    "Default parameters have a default value assigned, and if the caller doesn't provide a value for that parameter, the default value is used."
   ]
  },
  {
   "cell_type": "code",
   "execution_count": 23,
   "metadata": {},
   "outputs": [
    {
     "name": "stdout",
     "output_type": "stream",
     "text": [
      "Hello, Bob!\n",
      "Hi, Charlie!\n"
     ]
    }
   ],
   "source": [
    "def greet_with_default(name, greeting=\"Hello\"):\n",
    "    return f\"{greeting}, {name}!\"\n",
    "\n",
    "\n",
    "# Call the function with and without providing the 'greeting' parameter\n",
    "result1 = greet_with_default(\"Bob\")\n",
    "result2 = greet_with_default(\"Charlie\", \"Hi\")\n",
    "print(result1)\n",
    "print(result2)"
   ]
  },
  {
   "cell_type": "markdown",
   "metadata": {},
   "source": [
    "## Variable-Length Arguments (*args)\n",
    "*args allows a function to accept any number of positional arguments."
   ]
  },
  {
   "cell_type": "code",
   "execution_count": 24,
   "metadata": {},
   "outputs": [
    {
     "name": "stdout",
     "output_type": "stream",
     "text": [
      "6\n",
      "100\n"
     ]
    }
   ],
   "source": [
    "def sum_all(*args):\n",
    "    return sum(args)\n",
    "\n",
    "\n",
    "# Call the function with different numbers of arguments\n",
    "result1 = sum_all(1, 2, 3)\n",
    "result2 = sum_all(10, 20, 30, 40)\n",
    "\n",
    "print(result1)\n",
    "print(result2)"
   ]
  },
  {
   "cell_type": "markdown",
   "metadata": {},
   "source": [
    "## Keyword Arguments (**kwargs)\n",
    "**kwargs allows a function to accept any number of keyword arguments as a dictionary."
   ]
  },
  {
   "cell_type": "code",
   "execution_count": 25,
   "metadata": {},
   "outputs": [
    {
     "name": "stdout",
     "output_type": "stream",
     "text": [
      "name: John\n",
      "age: 25\n",
      "city: New York\n"
     ]
    }
   ],
   "source": [
    "def print_info(**kwargs):\n",
    "    for key, value in kwargs.items():\n",
    "        print(f\"{key}: {value}\")\n",
    "\n",
    "\n",
    "# Call the function with different keyword arguments\n",
    "print_info(name=\"John\", age=25, city=\"New York\")"
   ]
  },
  {
   "cell_type": "markdown",
   "metadata": {},
   "source": [
    "## Type Annotations\n",
    "You can use type annotations to specify the types of parameters and the return type. Type annotation are very usefull when working as part of the team. Some types are not proivded directly. \n",
    "\n",
    "Types like: `int`, `float`, `bool`, `str` are accessible at any time. Other types should be imported from package called typing f.ex\n",
    "\n",
    "```python\n",
    "from typing import Tuple, List, Dict, Optional\n",
    "\n",
    "def print_even(table: List[int], max_count: Optional[int] = None) -> None:\n",
    "    print_count = max_count if max_count is not None else len(table)\n",
    "    print(table[:print_count])\n",
    "```"
   ]
  },
  {
   "cell_type": "markdown",
   "metadata": {},
   "source": [
    "## Function may return tuples\n",
    "\n",
    "Very helpfull in python is that functions may return Tuples. They allows to write more efficient code"
   ]
  },
  {
   "cell_type": "code",
   "execution_count": 26,
   "metadata": {},
   "outputs": [
    {
     "name": "stdout",
     "output_type": "stream",
     "text": [
      "A is Variable 1 has the value\n",
      "B is 3\n"
     ]
    }
   ],
   "source": [
    "def my_function():\n",
    "    x = \"Variable 1 has the value\"\n",
    "    y = 3\n",
    "    return x, y\n",
    "\n",
    "\n",
    "# tuple_result = my_function()  # This could have been done earlier\n",
    "# a = tuple_result[0]\n",
    "# b = tuple_result[1]\n",
    "a, b = my_function()  # This is how it's done in Python\n",
    "print(\"A is\", a)\n",
    "print(\"B is\", b)"
   ]
  },
  {
   "cell_type": "markdown",
   "metadata": {},
   "source": [
    "## Automated unpackaging\n",
    "\n",
    "Function may have a lot of parameters. Sometimes they are difficult to be passed. Lets analyze the following case"
   ]
  },
  {
   "cell_type": "code",
   "execution_count": 27,
   "metadata": {},
   "outputs": [
    {
     "ename": "TypeError",
     "evalue": "unsupported operand type(s) for +=: 'int' and 'list'",
     "output_type": "error",
     "traceback": [
      "\u001b[0;31m---------------------------------------------------------------------------\u001b[0m",
      "\u001b[0;31mTypeError\u001b[0m                                 Traceback (most recent call last)",
      "Cell \u001b[0;32mIn[27], line 8\u001b[0m\n\u001b[1;32m      4\u001b[0m         result \u001b[38;5;241m+\u001b[39m\u001b[38;5;241m=\u001b[39m arg\n\u001b[1;32m      5\u001b[0m     \u001b[38;5;28;01mreturn\u001b[39;00m result\n\u001b[0;32m----> 8\u001b[0m \u001b[38;5;28mprint\u001b[39m(\u001b[38;5;28;43msum\u001b[39;49m\u001b[43m(\u001b[49m\u001b[43m[\u001b[49m\u001b[38;5;241;43m1\u001b[39;49m\u001b[43m,\u001b[49m\u001b[43m \u001b[49m\u001b[38;5;241;43m2\u001b[39;49m\u001b[43m,\u001b[49m\u001b[43m \u001b[49m\u001b[38;5;241;43m3\u001b[39;49m\u001b[43m,\u001b[49m\u001b[43m \u001b[49m\u001b[38;5;241;43m4\u001b[39;49m\u001b[43m]\u001b[49m\u001b[43m)\u001b[49m)\n",
      "Cell \u001b[0;32mIn[27], line 4\u001b[0m, in \u001b[0;36msum\u001b[0;34m(*args)\u001b[0m\n\u001b[1;32m      2\u001b[0m result \u001b[38;5;241m=\u001b[39m \u001b[38;5;241m0\u001b[39m\n\u001b[1;32m      3\u001b[0m \u001b[38;5;28;01mfor\u001b[39;00m arg \u001b[38;5;129;01min\u001b[39;00m args:\n\u001b[0;32m----> 4\u001b[0m     \u001b[43mresult\u001b[49m\u001b[43m \u001b[49m\u001b[38;5;241;43m+\u001b[39;49m\u001b[38;5;241;43m=\u001b[39;49m\u001b[43m \u001b[49m\u001b[43marg\u001b[49m\n\u001b[1;32m      5\u001b[0m \u001b[38;5;28;01mreturn\u001b[39;00m result\n",
      "\u001b[0;31mTypeError\u001b[0m: unsupported operand type(s) for +=: 'int' and 'list'"
     ]
    }
   ],
   "source": [
    "def sum(*args):\n",
    "    result = 0\n",
    "    for arg in args:\n",
    "        result += arg\n",
    "    return result\n",
    "\n",
    "\n",
    "print(sum([1, 2, 3, 4]))"
   ]
  },
  {
   "cell_type": "markdown",
   "metadata": {},
   "source": [
    "This doesn't work as we believed it would be. Instead of getting a sum of items. We ended try to perform unsupported operation with the list. If we want to pass to a multiple parameters, and we store all of them in collection we may use automated unpackaging with Python"
   ]
  },
  {
   "cell_type": "code",
   "execution_count": 28,
   "metadata": {},
   "outputs": [
    {
     "name": "stdout",
     "output_type": "stream",
     "text": [
      "10\n"
     ]
    }
   ],
   "source": [
    "items = [1, 2, 3, 4]\n",
    "print(sum(*items))"
   ]
  },
  {
   "cell_type": "markdown",
   "metadata": {},
   "source": [
    "This alsow works with parameters with default values. In that case parameters may be stored in dict, with keys for paramter names and value for it default values. Unpackaging in this case needs double star operator `**`"
   ]
  },
  {
   "cell_type": "code",
   "execution_count": 29,
   "metadata": {},
   "outputs": [
    {
     "data": {
      "text/plain": [
       "'Hello there, Obi One Kenobi!'"
      ]
     },
     "execution_count": 29,
     "metadata": {},
     "output_type": "execute_result"
    }
   ],
   "source": [
    "params = {\"name\": \"Obi One Kenobi\", \"greeting\": \"Hello there\"}\n",
    "greet_with_default(**params)"
   ]
  },
  {
   "cell_type": "markdown",
   "metadata": {},
   "source": [
    "## Out-functions vs inplace functions\n",
    "\n",
    "Very common problem when working with library code is misinterpret what is the outcome of function. Function may change the items passed to them in parameters. But they may also return the result. Forgeting which one works in which way may cause a lot of bugs introduced to a code. Please study the following example"
   ]
  },
  {
   "cell_type": "code",
   "execution_count": 30,
   "metadata": {},
   "outputs": [
    {
     "ename": "AttributeError",
     "evalue": "'NoneType' object has no attribute 'append'",
     "output_type": "error",
     "traceback": [
      "\u001b[0;31m---------------------------------------------------------------------------\u001b[0m",
      "\u001b[0;31mAttributeError\u001b[0m                            Traceback (most recent call last)",
      "Cell \u001b[0;32mIn[30], line 3\u001b[0m\n\u001b[1;32m      1\u001b[0m my_items \u001b[38;5;241m=\u001b[39m [\u001b[38;5;241m4\u001b[39m, \u001b[38;5;241m2\u001b[39m, \u001b[38;5;241m1\u001b[39m, \u001b[38;5;241m3\u001b[39m, \u001b[38;5;241m5\u001b[39m]\n\u001b[1;32m      2\u001b[0m my_items \u001b[38;5;241m=\u001b[39m my_items\u001b[38;5;241m.\u001b[39mappend(\u001b[38;5;241m17\u001b[39m)\n\u001b[0;32m----> 3\u001b[0m my_items \u001b[38;5;241m=\u001b[39m \u001b[43mmy_items\u001b[49m\u001b[38;5;241;43m.\u001b[39;49m\u001b[43mappend\u001b[49m(\u001b[38;5;241m3\u001b[39m)\n\u001b[1;32m      4\u001b[0m my_items\n",
      "\u001b[0;31mAttributeError\u001b[0m: 'NoneType' object has no attribute 'append'"
     ]
    }
   ],
   "source": [
    "my_items = [4, 2, 1, 3, 5]\n",
    "my_items = my_items.append(17)\n",
    "my_items = my_items.append(3)\n",
    "my_items"
   ]
  },
  {
   "cell_type": "code",
   "execution_count": 31,
   "metadata": {},
   "outputs": [
    {
     "data": {
      "text/plain": [
       "[4, 2, 1, 3, 5]"
      ]
     },
     "execution_count": 31,
     "metadata": {},
     "output_type": "execute_result"
    }
   ],
   "source": [
    "my_items = [4, 2, 1, 3, 5]\n",
    "sorted(my_items)\n",
    "my_items"
   ]
  },
  {
   "cell_type": "markdown",
   "metadata": {},
   "source": [
    "Correct code would require using a given function as designed for that case"
   ]
  },
  {
   "cell_type": "code",
   "execution_count": 32,
   "metadata": {},
   "outputs": [
    {
     "data": {
      "text/plain": [
       "[1, 2, 3, 3, 4, 5, 17]"
      ]
     },
     "execution_count": 32,
     "metadata": {},
     "output_type": "execute_result"
    }
   ],
   "source": [
    "my_items = [4, 2, 1, 3, 5]\n",
    "my_items.append(17)\n",
    "my_items.append(3)\n",
    "my_items = sorted(my_items)\n",
    "my_items"
   ]
  },
  {
   "cell_type": "markdown",
   "metadata": {},
   "source": [
    "## Ranges of visibility\n",
    "\n",
    "By default variables defined within function are not accessible"
   ]
  },
  {
   "cell_type": "code",
   "execution_count": 33,
   "metadata": {},
   "outputs": [
    {
     "name": "stdout",
     "output_type": "stream",
     "text": [
      "8\n"
     ]
    },
    {
     "ename": "NameError",
     "evalue": "name 'internal' is not defined",
     "output_type": "error",
     "traceback": [
      "\u001b[0;31m---------------------------------------------------------------------------\u001b[0m",
      "\u001b[0;31mNameError\u001b[0m                                 Traceback (most recent call last)",
      "Cell \u001b[0;32mIn[33], line 7\u001b[0m\n\u001b[1;32m      3\u001b[0m     \u001b[38;5;28;01mreturn\u001b[39;00m external \u001b[38;5;241m+\u001b[39m internal\n\u001b[1;32m      6\u001b[0m \u001b[38;5;28mprint\u001b[39m(f(\u001b[38;5;241m5\u001b[39m))\n\u001b[0;32m----> 7\u001b[0m \u001b[38;5;28mprint\u001b[39m(\u001b[43minternal\u001b[49m)\n",
      "\u001b[0;31mNameError\u001b[0m: name 'internal' is not defined"
     ]
    }
   ],
   "source": [
    "def f(external):\n",
    "    internal = 3\n",
    "    return external + internal\n",
    "\n",
    "\n",
    "print(f(5))\n",
    "print(internal)"
   ]
  },
  {
   "cell_type": "markdown",
   "metadata": {},
   "source": [
    "Obviusly there are method to make variables within function to be visible, but you'd rather avoid using them at all.\n",
    "\n",
    "It is different that the case whether we want to use a variable defined outside of function. This is commonly used in code structure called Closure, but this happens really rarely in every-day coding. There are also several problems and limititation to that. F. Ex. You may actually got different results over the time"
   ]
  },
  {
   "cell_type": "code",
   "execution_count": 34,
   "metadata": {},
   "outputs": [
    {
     "data": {
      "text/plain": [
       "7"
      ]
     },
     "execution_count": 34,
     "metadata": {},
     "output_type": "execute_result"
    }
   ],
   "source": [
    "external = 4\n",
    "\n",
    "\n",
    "def f():\n",
    "    internal = 3\n",
    "    return external + internal\n",
    "\n",
    "\n",
    "f()"
   ]
  },
  {
   "cell_type": "code",
   "execution_count": 35,
   "metadata": {},
   "outputs": [
    {
     "data": {
      "text/plain": [
       "13"
      ]
     },
     "execution_count": 35,
     "metadata": {},
     "output_type": "execute_result"
    }
   ],
   "source": [
    "external = 10\n",
    "f()"
   ]
  },
  {
   "cell_type": "markdown",
   "metadata": {},
   "source": [
    "This may be unexpected in your case and cause a bug in code. Also assignment is not allowed"
   ]
  },
  {
   "cell_type": "code",
   "execution_count": 36,
   "metadata": {},
   "outputs": [],
   "source": [
    "def f():\n",
    "    internal = 3\n",
    "    external = 2\n",
    "    return external + internal"
   ]
  },
  {
   "cell_type": "code",
   "execution_count": 37,
   "metadata": {},
   "outputs": [
    {
     "data": {
      "text/plain": [
       "5"
      ]
     },
     "execution_count": 37,
     "metadata": {},
     "output_type": "execute_result"
    }
   ],
   "source": [
    "f()"
   ]
  },
  {
   "cell_type": "code",
   "execution_count": 38,
   "metadata": {},
   "outputs": [
    {
     "data": {
      "text/plain": [
       "10"
      ]
     },
     "execution_count": 38,
     "metadata": {},
     "output_type": "execute_result"
    }
   ],
   "source": [
    "external"
   ]
  },
  {
   "cell_type": "markdown",
   "metadata": {},
   "source": [
    "# Exceptions\n"
   ]
  },
  {
   "cell_type": "markdown",
   "metadata": {},
   "source": [
    "\n",
    "Exceptions are situations in which code we wanted to execute may not be executed properly. If sucha a situation in detected and properly handled - our code may execute some backup approach or just maintain working. F. Ex. we want to search for a given data in multiple of files. We open a file and iterate over data inside. But once in a while, we may try to open a file that does not exists. If we do not want our code to be stopped instantly on such occassion we may design special handling for that situations "
   ]
  },
  {
   "cell_type": "code",
   "execution_count": 39,
   "metadata": {},
   "outputs": [
    {
     "name": "stdout",
     "output_type": "stream",
     "text": [
      "Division 2/3\n",
      "Result is 0.6666666666666666\n",
      "Division 1/0\n",
      "Error: Division by zero\n"
     ]
    }
   ],
   "source": [
    "def division(x, y):\n",
    "    try:\n",
    "        print(\"Division \" + str(x) + \"/\" + str(y))\n",
    "        result = x / y\n",
    "    except ZeroDivisionError:\n",
    "        print(\"Error: Division by zero\")\n",
    "    else:\n",
    "        print(\"Result is \" + str(result))\n",
    "\n",
    "\n",
    "# Call the division function with different arguments\n",
    "division(2, 3)\n",
    "division(1, 0)"
   ]
  },
  {
   "cell_type": "markdown",
   "metadata": {},
   "source": [
    "The try-except block allow the code to be secury executed. Usually it contains detection block (`try`) and handling block (`except`). There also maybe used\n",
    "\n",
    "* `else` for non-exception only code\n",
    "* `finally` for code that is expected to be executed. F. ex. an opened file must be closed at the ends. It doesn't matter that one file contains valid data, other contained total garbage and lots of errors."
   ]
  },
  {
   "cell_type": "code",
   "execution_count": 40,
   "metadata": {},
   "outputs": [
    {
     "name": "stdout",
     "output_type": "stream",
     "text": [
      "Division 2/3\n",
      "Division is executed\n",
      "Division 1/0\n",
      "Division is executed\n"
     ]
    }
   ],
   "source": [
    "def division(x, y):\n",
    "    try:\n",
    "        print(\"Division \" + str(x) + \"/\" + str(y))\n",
    "    except ZeroDivisionError:\n",
    "        print(\"Error: Division by zero\")\n",
    "    finally:\n",
    "        print(\"Division is executed\")\n",
    "\n",
    "\n",
    "# Call the division function with different arguments\n",
    "division(2, 3)\n",
    "division(1, 0)"
   ]
  },
  {
   "cell_type": "markdown",
   "metadata": {},
   "source": [
    "One may also create his own exceptions. It suffies to inherit Exception or any class that inherited Exception. To create a new exception we use `raise` command in python"
   ]
  },
  {
   "cell_type": "code",
   "execution_count": 41,
   "metadata": {},
   "outputs": [
    {
     "name": "stdout",
     "output_type": "stream",
     "text": [
      "Intercepted MyException\n"
     ]
    }
   ],
   "source": [
    "class MyException(Exception):\n",
    "    pass\n",
    "\n",
    "\n",
    "def call_exception():\n",
    "    raise MyException()\n",
    "\n",
    "\n",
    "try:\n",
    "    call_exception()\n",
    "except MyException:\n",
    "    print(\"Intercepted MyException\")"
   ]
  },
  {
   "cell_type": "markdown",
   "metadata": {},
   "source": [
    "# Packages managing\n"
   ]
  },
  {
   "cell_type": "markdown",
   "metadata": {},
   "source": [
    "\n",
    "## Importing a module\n",
    "Modules fulfills one of programmers' dreams - not to have to create the same code many times. Or, in other words, not to _reinvent the wheel_. In Python, programs can be shared so that others can benefit from them. To share what we have written:\n",
    "\n",
    "* functions,\n",
    "* classes,\n",
    "* values,\n",
    "* instructions,\n",
    "\n",
    "we should encapsulate them in modules. What are modules - you can think of them as ordinary files and directories. Directories, of course, containing Python scripts. We will divide this issue into two topics. The first (mandatory) will concern the use of various modules. And it will present the use of several helpful libraries available to us for work.\n",
    "In the second (separate and additional part), we will show how to create such modules. With examples of how to create such modules in the PyCharm environment.\n",
    "Importing Modules\n",
    "\n",
    "A large group of modules is available immediately with the interpreter. Such as the well-known module math containing mathematical functions. For others, it will be necessary to precede the import - the installation process - described later. The basic syntax of importing is as follows:\n",
    "\n",
    "```python\n",
    "import module_name\n",
    "```\n",
    "\n",
    "This form of importing means (usually) including all the components of the module in our processing. However, you can perform a more detailed import using a more advanced syntax:\n",
    "\n",
    "```python\n",
    "from module_name import component\n",
    "```\n",
    "\n",
    "In this case, the component can be a variable, function, or any element of that class. Additionally, you can list many components separated by commas.\n",
    "\n",
    "In this version, the equivalent of importing everything is to write:\n",
    "\n",
    "```python\n",
    "from module_name import *\n",
    "```\n",
    "\n",
    "At a certain level of programming, there may be a conflict when two packages use components with the same name. Python provides a mechanism to rename a component upon import, or even the entire module:\n",
    "\n",
    "```python\n",
    "import module_name as new_name\n",
    "```\n",
    "\n",
    "Furthermore, modules (which can be identified with directories) can be nested within each other. Therefore, it makes sense to write, for example:\n",
    "\n",
    "```python\n",
    "import module.submodule\n",
    "```\n"
   ]
  },
  {
   "cell_type": "markdown",
   "metadata": {},
   "source": [
    "\n",
    "## Installing a module\n",
    "\n",
    "To install a chosen module, you need to execute appropriate commands - but in the operating system - working not in, but on the interpreter. There are three ways to do this. All of them are explained in the video - shared on the platform. Below, we provide additional instructions supporting the first of the discussed methods.\n",
    "\n",
    "To download new packages from the operating system, go to the Scripts (or bin) directory in the Virtual Environment you created. You should be able to find the Python program (or python.exe) there. In this directory, open a console/terminal window.\n",
    "\n",
    "There are two variants available:\n",
    "\n",
    "* If the program named pip is available there, use the first formula.\n",
    "* If this program is not available there, don't give up and use the second formula.\n",
    "\n",
    "First formula for Linux:\n",
    "\n",
    "```bash\n",
    "./pip install module_name\n",
    "```\n",
    "\n",
    "First formula for Windows:\n",
    "\n",
    "```bash \n",
    "pip.exe install module_name\n",
    "```\n",
    "\n",
    "Second formula for Linux:\n",
    "\n",
    "```bash\n",
    "./python -m pip install module_name\n",
    "```\n",
    "\n",
    "Second formula for Windows:\n",
    "\n",
    "```bash\n",
    "python.exe -m pip install module_name\n",
    "```\n"
   ]
  },
  {
   "cell_type": "markdown",
   "metadata": {},
   "source": [
    "# Object oriented programming"
   ]
  },
  {
   "cell_type": "markdown",
   "metadata": {},
   "source": [
    "Python is an object-oriented programming (OOP) language. However, unlike languages such as Java, Python does not require everything to be placed within class structures. \n",
    "\n",
    "## Defining Classes and Inheritance\n",
    "\n",
    "A class is defined by the following line and is contained in a block started by it:\n",
    "\n",
    "```python\n",
    "class Sample_Class(object):\n",
    "```\n",
    "\n",
    "The above declaration creates a class with the base class object. Of course, you can inherit from any other class:\n",
    "\n",
    "```python\n",
    "class Derived_Class(Sample_Class):\n",
    "```\n",
    "\n",
    "Furthermore, Python supports multiple inheritance, meaning placing more than one base class:\n",
    "\n",
    "```python\n",
    "class Derived_Class(ClassA, ClassB):\n",
    "```\n",
    "\n",
    "## Class Constructor\n",
    "\n",
    "In Python classes, two things are typically included right away:\n",
    "\n",
    "* Class documentation\n",
    "* Class constructor, which is a function named `__init__(self, other_params)`\n",
    "\n",
    "As a result, the initial lines of a class usually look like this:\n",
    "\n",
    "```python\n",
    "\n",
    "class Sample_Class(object):\n",
    "    \"\"\"\n",
    "    Class level doc-string\n",
    "    \"\"\"\n",
    "    \n",
    "    def __init__(self, paramA, paramB):\n",
    "        \"\"\"\n",
    "        Method level doc-string\n",
    "        :param paramA: \n",
    "        :param paramB: \n",
    "        \"\"\"\n",
    "        self.fieldA=paramA\n",
    "        self.dieldB=paramB\n",
    "```\n",
    "\n",
    "## Class Methods, Private Methods, Explanation of \"self,\" and Static Functions\n",
    "\n",
    "Naturally, Python allows defining methods within a class. By default, every function we attempt to create in a class will be treated as a method, and that's why IDE automatically adds the self parameter to the header. What is self? You can think of it as the equivalent of this in Java. It is primarily a way to refer to the object on behalf of which the methods are called. Python allows creating private methods. Well, kind of private, because despite that, access to them can still be obtained. And as in Python, it's enough to do something without using many characters. Private methods have names starting with two underscores. \n",
    "\n",
    "There are also functions that are not methods - those are called static functions. However, static functions are rarely used in Python. This is because, in a given script, you can define a function outside the class that can fulfill a specific task. If someone insists, sure - there is a way for that too. Just place a special decorator `@staticmethod` above the function.\n",
    "\n",
    "```python\n",
    "\n",
    "class Sample_Class(object):\n",
    "    \"\"\"\n",
    "    Class level doc-string\n",
    "    \"\"\"\n",
    "    \n",
    "    def __init__(self, paramA, paramB):\n",
    "        \"\"\"\n",
    "        Method level doc-string\n",
    "        :param paramA: \n",
    "        :param paramB: \n",
    "        \"\"\"\n",
    "        self.fieldA=paramA\n",
    "        self.dieldB=paramB\n",
    "\n",
    "    def method(self, params):\n",
    "        \"\"\"\n",
    "        Method level doc-string\n",
    "        \"\"\"\n",
    "        pass\n",
    "        \n",
    "    def __private_method(self, params):\n",
    "        \"\"\"\n",
    "        usually no doc-string. Since it is not expected to being used outside of the class\n",
    "        \"\"\"\n",
    "        pass \n",
    "        \n",
    "    @staticmethod\n",
    "    def static_function(params):\n",
    "        \"\"\"\n",
    "        static function doc-string\n",
    "        \"\"\"\n",
    "        pass\n",
    "```\n",
    "\n",
    "## Class Fields and Other Notes\n",
    "\n",
    "In Python, there is no need (and no possibility) to declare variables or specify variable types. Therefore, outside class methods, we don't declare class fields. To create any field in a class, you should use the following within any of its methods:\n",
    "\n",
    "```python\n",
    "self.variable_name = value\n",
    "```\n",
    "\n",
    "In a similar way, after its creation, you can access its value. The natural place to create such a field seems to be the constructor. However, often during its definition, we don't yet know the appropriate value to insert. In the face of this, a common practice is to initialize it with None (a special empty value - have you heard of pass? None goes down easier).\n",
    "\n",
    "```python\n",
    "self.variable_name = None\n",
    "```\n",
    "\n",
    "This will prompt Python to suggest the use of the given name in other class methods. However, this will not protect against attempts to access an undeclared variable (which will generate a runtime error).\n",
    "\n",
    "If, despite everything, a definition appears in the class like this:\n",
    "\n",
    "```python\n",
    "\n",
    "variable = value\n",
    "```\n",
    "\n",
    "Python will interpret it as a static variable in the class (accessible to all objects). In Python, constants, as understood in languages like C, do not exist.\n",
    "\n",
    "## Constructor\n",
    "\n",
    "To create a new object \n",
    "\n",
    "```python\n",
    "object = Object(params)\n",
    "\n",
    "```\n",
    "Naturally, extending this analogy, to access an object's field or method, simply call the operator on it.\n",
    "\n",
    "```python\n",
    "object.field = 4\n",
    "object.method(params)\n",
    "```"
   ]
  },
  {
   "cell_type": "markdown",
   "metadata": {},
   "source": [
    "## Operator override\n",
    "\n",
    "Lets talk about operators overrides. This means that we create custom `operator+` and suddently when we apply `a+b` our custom code is executed. \n",
    "\n",
    "In python two things happens:\n",
    "* there is no operators overrides, ...\n",
    "* ... but there is another way\n",
    "\n",
    "![8i14xq.jpg](images/8i14xq.jpg)"
   ]
  },
  {
   "cell_type": "markdown",
   "metadata": {},
   "source": [
    "When create a custom class you can define a particular methods that does exactly the right things"
   ]
  },
  {
   "cell_type": "code",
   "execution_count": 42,
   "metadata": {},
   "outputs": [
    {
     "name": "stdout",
     "output_type": "stream",
     "text": [
      "Point1 /= Point2\n",
      "Point1 == Point3\n",
      "(1;1) (2;1) (1;1) (3;2)\n"
     ]
    }
   ],
   "source": [
    "class Point(object):\n",
    "    \"\"\"\n",
    "    Point is a point\n",
    "    \"\"\"\n",
    "\n",
    "    def __init__(self, a, b):\n",
    "        self.a = a\n",
    "        self.b = b\n",
    "\n",
    "    def __eq__(self, other):\n",
    "        if self.a == other.a and self.b == other.b:\n",
    "            return True\n",
    "        else:\n",
    "            return False\n",
    "\n",
    "    def __add__(self, other):\n",
    "        a = self.a + other.a\n",
    "        b = self.b + other.b\n",
    "        return Point(a, b)\n",
    "\n",
    "    def __str__(self):\n",
    "        return \"(\" + str(self.a) + \";\" + str(self.b) + \")\"\n",
    "\n",
    "\n",
    "point1 = Point(1, 1)\n",
    "point2 = Point(2, 1)\n",
    "point3 = Point(1, 1)\n",
    "\n",
    "if point1 == point2:\n",
    "    print(\"Point1 == Point2\")\n",
    "else:\n",
    "    print(\"Point1 /= Point2\")\n",
    "\n",
    "if point1 == point3:\n",
    "    print(\"Point1 == Point3\")\n",
    "else:\n",
    "    print(\"Point1 /= Point3\")\n",
    "\n",
    "print(point1, point2, point3, point1 + point2)"
   ]
  },
  {
   "cell_type": "markdown",
   "metadata": {},
   "source": [
    "# Pass-fail exercises\n"
   ]
  },
  {
   "cell_type": "markdown",
   "metadata": {},
   "source": [
    "\n",
    "\n",
    "Create a python file `02-advanced-python-structures.py` in you catalogue in student directory in there code that matches the following exercises.  When done - create a MR out of it. When merged - exercise in passed. \n",
    "\n",
    "**hint** you may open this notebook and use the code blocks to create a solution to problem - and copy paste it a proper file at the very end. Just dont commit changes in this this file\n",
    "\n",
    "\n",
    "Exercises are as follows:\n",
    "\n",
    "\n",
    "## Exercise 1: Tuples\n",
    "\n",
    "* Create a tuple named my_tuple with elements (5, \"hello\", 3.14, \"world\", 7).\n",
    "* Create a two tuples: first with odd positions. Then sort this one. Second with even and print it with all 3 python string formating ways.\n",
    "\n",
    "  "
   ]
  },
  {
   "cell_type": "code",
   "execution_count": null,
   "metadata": {},
   "outputs": [],
   "source": [
    "my_tuple = (5, \"hello\", 3.14, \"world\", 7)\n",
    "first_tuple = (7, 3, 9, 11, 13)\n",
    "second_tuple = (2, 8, 10)\n",
    "\n",
    "first_tuple.sort()\n",
    "\n",
    "print(\"%d %d %d %d.\" % second_tuple)"
   ]
  },
  {
   "cell_type": "markdown",
   "metadata": {},
   "source": [
    " \n",
    "\n",
    "## Exercise 2: Lists\n",
    "\n",
    "* Create a list named my_list with elements [10, 20, 30, \"python\", 2.5].\n",
    "* Print the last element of the list.\n",
    "* Modify the second element of the list to have the value 50.\n",
    "* Iterate over the list and print each element.\n"
   ]
  },
  {
   "cell_type": "code",
   "execution_count": 1,
   "metadata": {},
   "outputs": [
    {
     "name": "stdout",
     "output_type": "stream",
     "text": [
      "2.5\n",
      "10\n",
      "50\n",
      "30\n",
      "python\n",
      "2.5\n"
     ]
    }
   ],
   "source": [
    "my_list = [10, 20, 30, \"python\", 2.5]\n",
    "print(my_list[-1])\n",
    "my_list[1] = 50\n",
    "for i in my_list:\n",
    "    print(i)"
   ]
  },
  {
   "cell_type": "markdown",
   "metadata": {},
   "source": [
    "## Exercise 3: Dictionaries \n",
    "\n",
    "* Create a dictionary named my_dict with keys \"name\", \"age\", and \"city\" with corresponding values.\n",
    "* Print the value associated with the key \"age\".\n",
    "* Modify the value associated with the key \"age\" to a different age.\n",
    "* Add a new key-value pair to the dictionary for \"gender\".\n",
    "\n"
   ]
  },
  {
   "cell_type": "code",
   "execution_count": 3,
   "metadata": {},
   "outputs": [
    {
     "name": "stdout",
     "output_type": "stream",
     "text": [
      "20\n"
     ]
    }
   ],
   "source": [
    "my_dict = {\"name\": \"Wojciech\",\n",
    "          \"age\": 20,\n",
    "          \"city\": \"Lodz\"}\n",
    "\n",
    "print(my_dict[\"age\"])\n",
    "my_dict[\"age\"] = 13\n",
    "my_dict[\"gender\"] = \"M\""
   ]
  },
  {
   "cell_type": "markdown",
   "metadata": {},
   "source": [
    "## Exercise 4: String Formatting\n",
    "\n",
    "* Use the % formatting to create a string with your name and age.\n",
    "* Use the format() method to create a string with your name and occupation.\n",
    "* Use the f-string method to create a string with your name, age and occupation\n",
    "\n"
   ]
  },
  {
   "cell_type": "code",
   "execution_count": null,
   "metadata": {},
   "outputs": [],
   "source": []
  },
  {
   "cell_type": "markdown",
   "metadata": {},
   "source": [
    "## Exercise 5: Functions and Parameters\n",
    "\n",
    "\n",
    "* Create a function add_numbers that takes two parameters and returns their sum.\n",
    "* Modify the function to have default values for the parameters.\n",
    "* Create a function print_info that takes keyword arguments and prints them.\n"
   ]
  },
  {
   "cell_type": "code",
   "execution_count": 12,
   "metadata": {},
   "outputs": [
    {
     "name": "stdout",
     "output_type": "stream",
     "text": [
      "a\n",
      "b\n"
     ]
    }
   ],
   "source": [
    "def add_numbers(a=1,b=2):\n",
    "    return a+b\n",
    "\n",
    "def print_info(**kwargs):\n",
    "    for _, value in kwargs.items():\n",
    "        print(value)\n",
    "\n",
    "print_info(a='a', b='b')"
   ]
  },
  {
   "cell_type": "markdown",
   "metadata": {},
   "source": [
    "\n",
    "## Exercise 6: Type Annotations\n",
    "\n",
    "* Create a function calculate_area that takes two parameters (length and width) with type annotations.\n",
    "* Use type annotations for the return type of the function.\n"
   ]
  },
  {
   "cell_type": "code",
   "execution_count": null,
   "metadata": {},
   "outputs": [],
   "source": [
    "def calculate_area(length: float, width: float) -> float:\n",
    "    return length*width"
   ]
  },
  {
   "cell_type": "markdown",
   "metadata": {},
   "source": [
    "\n",
    "## Exercise 7: OOP - Point Class\n",
    "\n",
    "* Implement a class named Point with attributes x and y.\n",
    "* Add a method to calculate the distance between two points.\n"
   ]
  },
  {
   "cell_type": "code",
   "execution_count": null,
   "metadata": {},
   "outputs": [],
   "source": [
    "class Point:\n",
    "    def __init__(self, x, y):\n",
    "        self.x = x\n",
    "        self.y = y\n",
    "    \n",
    "    def distance(self, x, y):\n",
    "        return (x**2 + y**2)**(1/2)"
   ]
  },
  {
   "cell_type": "markdown",
   "metadata": {},
   "source": [
    "\n",
    "## Exercise 8: Operator Overloading\n",
    "\n",
    "\n",
    "* Implement the __mul__ method in the Point class to allow multiplying a point by a scalar. (_NOTE_ scalar should be on the right hand side)\n",
    "* Test the new functionality by multiplying a Point object by a scalar.\n"
   ]
  },
  {
   "cell_type": "code",
   "execution_count": null,
   "metadata": {},
   "outputs": [],
   "source": []
  },
  {
   "cell_type": "markdown",
   "metadata": {},
   "source": [
    "\n",
    "## Exercise 9: Exception Handling\n",
    "\n",
    "* Create a function that takes two numbers as parameters and handles the ZeroDivisionError.\n",
    "* Create a custom exception class and use it in your function.\n"
   ]
  },
  {
   "cell_type": "code",
   "execution_count": 13,
   "metadata": {},
   "outputs": [],
   "source": [
    "class CustomException(Exception):\n",
    "    pass\n",
    "\n",
    "def call_exception():\n",
    "    raise CustomException()\n",
    "\n",
    "def division(a,b):\n",
    "    try:\n",
    "        print(\"Division result is: \", a/b)\n",
    "    except ZeroDivisionError:\n",
    "        print(\"Divison impossible\")\n",
    "    finally:\n",
    "        try:\n",
    "            call_exception()\n",
    "        except CustomException:\n",
    "            print(\"Custom exception intercepted\")"
   ]
  },
  {
   "cell_type": "markdown",
   "metadata": {},
   "source": [
    "\n",
    "## Exercise 10: Advanced Random Number Generation\n",
    "\n",
    "* Import the random module. [docs](https://docs.python.org/3/library/random.html)\n",
    "* Create a function named generate_random_integer that generates and returns a random integer between 1 and 100 using random.randint().\n",
    "* Create a function named generate_random_float that generates and returns a random floating-point number between 0 and 1 using random.random().\n",
    "* Create a function named generate_random_choice that selects and returns a random element from a given list using random.choice(). The list should contain at least 5 different elements.\n",
    "* In the main part of your script, call each of the functions and print the results."
   ]
  },
  {
   "cell_type": "code",
   "execution_count": 19,
   "metadata": {},
   "outputs": [
    {
     "name": "stdout",
     "output_type": "stream",
     "text": [
      "Random int: 97 \n",
      " Random float: 0.5106520878387891 \n",
      " Random element from a list: b\n"
     ]
    }
   ],
   "source": [
    "import random\n",
    "\n",
    "def generate_random_integer():\n",
    "    return random.randint(1, 100)\n",
    "\n",
    "def generate_random_float():\n",
    "    return random.random()\n",
    "\n",
    "def generate_random_choice(lst):\n",
    "    if len(lst) >= 5:\n",
    "        return random.choice(lst)\n",
    "    return None\n",
    "\n",
    "if __name__ == \"__main__\":\n",
    "    random_int = generate_random_integer()\n",
    "    random_float = generate_random_float()\n",
    "    random_choice = generate_random_choice(['a', 'b', ('c', 'd'), 3, 0.001])\n",
    "\n",
    "    print(f\"Random int: {random_int} \\n Random float: {random_float} \\n Random element from a list: {random_choice}\")"
   ]
  }
 ],
 "metadata": {
  "kernelspec": {
   "display_name": "Python 3 (ipykernel)",
   "language": "python",
   "name": "python3"
  },
  "language_info": {
   "codemirror_mode": {
    "name": "ipython",
    "version": 3
   },
   "file_extension": ".py",
   "mimetype": "text/x-python",
   "name": "python",
   "nbconvert_exporter": "python",
   "pygments_lexer": "ipython3",
   "version": "3.11.10"
  }
 },
 "nbformat": 4,
 "nbformat_minor": 4
}

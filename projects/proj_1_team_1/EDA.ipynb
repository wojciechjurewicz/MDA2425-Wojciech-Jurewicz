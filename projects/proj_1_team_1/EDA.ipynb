{
 "cells": [
  {
   "cell_type": "code",
   "execution_count": null,
   "id": "384046e5",
   "metadata": {},
   "outputs": [],
   "source": [
    "%load_ext autoreload\n",
    "%autoreload 2\n",
    "\n",
    "\n",
    "import os\n",
    "import sys\n",
    "import matplotlib.pyplot as plt\n",
    "\n",
    "\n",
    "while any(marker in os.getcwd() for marker in ('exercises', 'notebooks', 'students', 'research', 'projects')):\n",
    "    os.chdir(\"..\")\n",
    "sys.path.append('src')\n",
    "os.getcwd()"
   ]
  },
  {
   "cell_type": "code",
   "execution_count": 12,
   "id": "6e84f24e",
   "metadata": {},
   "outputs": [],
   "source": [
    "from ucimlrepo import fetch_ucirepo\n",
    "import pandas as pd\n",
    "  \n",
    "# fetch dataset \n",
    "mushroom = fetch_ucirepo(id=73) \n",
    "  \n",
    "# data (as pandas dataframes) \n",
    "df = pd.concat([mushroom.data.features, mushroom.data.targets], axis=1)"
   ]
  },
  {
   "cell_type": "code",
   "execution_count": null,
   "id": "dc06c84a",
   "metadata": {},
   "outputs": [],
   "source": [
    "df.info()"
   ]
  },
  {
   "cell_type": "markdown",
   "id": "954e4256",
   "metadata": {},
   "source": [
    "All objects have the same datatype = object"
   ]
  },
  {
   "cell_type": "code",
   "execution_count": null,
   "id": "c0026436",
   "metadata": {},
   "outputs": [],
   "source": [
    "df.describe()\n",
    "#count: Total number of non-null (non-missing) entries in the column\n",
    "#unique: Number of distinct categories in the column\n",
    "#top: Most frequent category\n",
    "#freq: Frequency count of the top category"
   ]
  },
  {
   "cell_type": "code",
   "execution_count": null,
   "id": "bbaf3f12",
   "metadata": {},
   "outputs": [],
   "source": [
    "#cheking names of columns\n",
    "df.columns.tolist()"
   ]
  },
  {
   "cell_type": "code",
   "execution_count": null,
   "id": "824fbbcd",
   "metadata": {},
   "outputs": [],
   "source": [
    "#Checking null values\n",
    "df.isnull().sum()"
   ]
  },
  {
   "cell_type": "markdown",
   "id": "5717fc43",
   "metadata": {},
   "source": [
    "Conclusion: stalk-root have too many null values so it should be dropped"
   ]
  },
  {
   "cell_type": "code",
   "execution_count": null,
   "id": "6ff32883",
   "metadata": {},
   "outputs": [],
   "source": [
    "#checking duplicate values \n",
    "df.nunique()"
   ]
  },
  {
   "cell_type": "markdown",
   "id": "64045ee8",
   "metadata": {},
   "source": [
    "**Caterogical variability analysis**"
   ]
  },
  {
   "cell_type": "code",
   "execution_count": null,
   "id": "fdc4b1a5",
   "metadata": {},
   "outputs": [],
   "source": [
    "def categorical_variability(df):\n",
    "    variability = {}\n",
    "    for col in df.select_dtypes(include='object').columns:\n",
    "        counts = df[col].value_counts(normalize = True)\n",
    "        variability[col] = counts.max()\n",
    "    \n",
    "    variability_df = pd.DataFrame(\n",
    "        {\"Feature\": variability.keys(), \"DominantCategoryProportion\": variability.values()}\n",
    "    ).sort_values(\"DominantCategoryProportion\", ascending=False)\n",
    "    \n",
    "    return variability_df\n",
    "\n",
    "\n",
    "variability_df = categorical_variability(df.drop(columns=[\"poisonous\"]))\n",
    "print(variability_df.head(10))\n"
   ]
  },
  {
   "cell_type": "markdown",
   "id": "e3bc4658",
   "metadata": {},
   "source": [
    "veil-type = 1.0: It has only one category so it tells us nothing about the edibility of the mushrooms.\n",
    "\n",
    "We will check other categories with high dominance:\n"
   ]
  },
  {
   "cell_type": "code",
   "execution_count": null,
   "id": "0580fbef",
   "metadata": {},
   "outputs": [],
   "source": [
    "for col in variability_df[variability_df['DominantCategoryProportion'] > 0.9]['Feature']:\n",
    "    print(f\"\\nTarget Distribution for {col}:\")\n",
    "    print(pd.crosstab(df[col], df['poisonous'], normalize='index'))"
   ]
  },
  {
   "cell_type": "markdown",
   "id": "a65ceee2",
   "metadata": {},
   "source": [
    "Because 'veil type' has only one value we can see proportion between edible and poisonous mushroom\n",
    "\n",
    "'Veil colors' 'n', 'o' are strong indicators when it cames to edible mushrooms. The same is for the 'y' which is 100% poisonous. 'w' is just neutral indicator similar to the proportion between edible and poisonous.\n",
    "\n",
    "'Gill attachment': strong -> 'a'(91.4% edible)\n",
    "'Ring number: strong -> 'n'(100% poisonous), 't'(88% edible)\n",
    "\n",
    "Proportions will be easier to read with the boxplots below\n"
   ]
  },
  {
   "cell_type": "code",
   "execution_count": null,
   "id": "4ff2121c",
   "metadata": {},
   "outputs": [],
   "source": [
    "categorical_cols = [col for col in df.columns if col != 'poisonous' and df[col].dtype == 'object']\n",
    "\n",
    "for col in categorical_cols[:]:\n",
    "    pd.crosstab(df[col], df['poisonous'], normalize='index').plot.bar(stacked=True, color=['green','red'])\n",
    "    plt.title(f'Poisonous Proportion by {col}')\n",
    "    plt.ylabel('Proportion')\n",
    "    plt.show()"
   ]
  },
  {
   "cell_type": "markdown",
   "id": "7a50910f",
   "metadata": {},
   "source": [
    "# Summary #\n",
    "1. All objects have the same datatype = object\n",
    "2. Stalk-root have too many null values so it should be dropped\n",
    "3. After doing dominant category proportion we obtained that the Veil-type = 1.0: It means that it has only one category so it tells us nothing about the edibility of the mushrooms.(can be dropped)\n",
    "4. Plots:\\\n",
    "Some mushrooms have the characteristics so unique that are only appearing in one subcategory(only in e or only in p):\n",
    "\n",
    "**The mushroom is 100% poisonous if:**\\\n",
    "#spore-print-color = 'r'\\\n",
    "ring type = 'l', 'n'\\\n",
    "ring number = 'n'\\\n",
    "veil-color = 'y'\\\n",
    "stalk color above AND below ring = 'b', 'c', 'y'\\\n",
    "gill color = 'b', 'r'\\\n",
    "odor = 'c', 'f', 'm', 'p', 's', 'y'\\\n",
    "cap surface = 'g'\\\n",
    "cap shape = 'c'\n",
    "\n",
    "**The mushroom is 100% edible if:**\\\n",
    "habitat = 'w'\\\n",
    "population = 'a', 'n'\\\n",
    "spore print color = 'b', 'o', 'u', 'y'\\\n",
    "ring type = 'r'\\\n",
    "veil color = 'n', 'o'\\\n",
    "stalk color above AND below ring = 'e', 'g', 'o'\\\n",
    "stalk root = 'r'\\\n",
    "gill color = 'e', 'o'\\\n",
    "odor = 'a', 'l'\\\n",
    "cap color = 'r', 'u'\\\n",
    "cap shape = 's'"
   ]
  }
 ],
 "metadata": {
  "kernelspec": {
   "display_name": "mda",
   "language": "python",
   "name": "python3"
  },
  "language_info": {
   "codemirror_mode": {
    "name": "ipython",
    "version": 3
   },
   "file_extension": ".py",
   "mimetype": "text/x-python",
   "name": "python",
   "nbconvert_exporter": "python",
   "pygments_lexer": "ipython3",
   "version": "3.10.16"
  }
 },
 "nbformat": 4,
 "nbformat_minor": 5
}

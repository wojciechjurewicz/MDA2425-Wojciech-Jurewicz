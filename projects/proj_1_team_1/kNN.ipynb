{
 "cells": [
  {
   "cell_type": "markdown",
   "id": "05f97f87",
   "metadata": {},
   "source": [
    "## **KNN Model**"
   ]
  },
  {
   "cell_type": "markdown",
   "id": "b70a1cfa",
   "metadata": {},
   "source": [
    "We will build a classification model using the k-Nearest Neighbors (k-NN) algorithm on the Mushroom dataset. This dataset contains various characteristics of mushrooms, with the goal of predicting whether a mushroom is edible or poisonous based on its features. We will preprocess the data, train the k-NN model, evaluate its performance, and visualize the learning curve to better understand how the model behaves with different training sizes."
   ]
  },
  {
   "cell_type": "code",
   "execution_count": 4,
   "id": "c95f6dce",
   "metadata": {},
   "outputs": [],
   "source": [
    "from sklearn.model_selection import train_test_split\n",
    "from sklearn.pipeline import make_pipeline\n",
    "from sklearn.neighbors import KNeighborsClassifier\n",
    "from sklearn.metrics import accuracy_score\n",
    "from sklearn.metrics import confusion_matrix, ConfusionMatrixDisplay, classification_report\n",
    "from sklearn.model_selection import cross_val_score\n",
    "from sklearn.model_selection import learning_curve\n",
    "import pandas as pd\n",
    "import matplotlib.pyplot as plt\n",
    "import numpy as np"
   ]
  },
  {
   "cell_type": "markdown",
   "id": "6520a20b",
   "metadata": {},
   "source": [
    "# Load of the preprocessed dataframe from .csv file"
   ]
  },
  {
   "cell_type": "code",
   "execution_count": null,
   "id": "e3b65a44",
   "metadata": {},
   "outputs": [],
   "source": [
    "df = pd.read_csv(\"mushrooms_preprocessed.csv\", index_col=0)\n",
    "df.head()"
   ]
  },
  {
   "cell_type": "code",
   "execution_count": 6,
   "id": "f03bb8c7",
   "metadata": {},
   "outputs": [],
   "source": [
    "X_train, X_test, y_train, y_test = train_test_split(\n",
    "    df.drop(columns=[\"poisonous\"]),\n",
    "    df[\"poisonous\"],\n",
    "    test_size=0.2,\n",
    "    random_state=42,\n",
    ")"
   ]
  },
  {
   "cell_type": "code",
   "execution_count": 7,
   "id": "0e01a7d7",
   "metadata": {},
   "outputs": [],
   "source": [
    "knn_pipeline = make_pipeline(KNeighborsClassifier(n_neighbors=5))\n",
    "\n",
    "knn_pipeline.fit(X_train, y_train)\n",
    "\n",
    "y_pred = knn_pipeline.predict(X_test)"
   ]
  },
  {
   "cell_type": "code",
   "execution_count": null,
   "id": "966bd9d2",
   "metadata": {},
   "outputs": [],
   "source": [
    "accuracy = accuracy_score(y_test, y_pred)\n",
    "print(f\"Accuracy Score: {accuracy:.4f}\")"
   ]
  },
  {
   "cell_type": "code",
   "execution_count": null,
   "id": "9da14a64",
   "metadata": {},
   "outputs": [],
   "source": [
    "# Confusion matrix\n",
    "cm = confusion_matrix(y_test, y_pred, labels=knn_pipeline.classes_)\n",
    "disp = ConfusionMatrixDisplay(confusion_matrix=cm, display_labels=knn_pipeline.classes_)\n",
    "disp.plot(cmap='Blues')\n",
    "disp.ax_.set_title(\"Confusion matrix - KNN\")\n",
    "\n",
    "# Classification report\n",
    "print(\"\\nClassification Report:\")\n",
    "print(classification_report(y_test, y_pred))"
   ]
  },
  {
   "cell_type": "code",
   "execution_count": null,
   "id": "f2769eaa",
   "metadata": {},
   "outputs": [],
   "source": [
    "scores = cross_val_score(knn_pipeline, X_train, y_train, cv=10)\n",
    "\n",
    "print(\"Cross-validation scores:\", scores)\n",
    "print(\"Mean cross-validation accuracy:\", scores.mean())"
   ]
  },
  {
   "cell_type": "markdown",
   "id": "01a396f9",
   "metadata": {},
   "source": [
    "# Learning curve"
   ]
  },
  {
   "cell_type": "code",
   "execution_count": null,
   "id": "b6aeedee",
   "metadata": {},
   "outputs": [],
   "source": [
    "train_sizes, train_scores, valid_scores = learning_curve(\n",
    "    knn_pipeline, X_train, y_train, cv=10, train_sizes=[0.1, 0.2, 0.3, 0.4, 0.5, 0.6, 0.7, 0.8, 0.9, 1.0], scoring='accuracy')\n",
    "\n",
    "train_mean = np.mean(train_scores, axis=1)\n",
    "train_std = np.std(train_scores, axis=1)\n",
    "test_mean = np.mean(valid_scores, axis=1)\n",
    "test_std = np.std(valid_scores, axis=1)\n",
    "\n",
    "# Graphic\n",
    "plt.figure(figsize=(8, 6))\n",
    "plt.plot(train_sizes, train_mean, 'o-', color='blue', label='Training score')\n",
    "plt.fill_between(train_sizes, train_mean - train_std, train_mean + train_std, alpha=0.2, color='blue')\n",
    "plt.plot(train_sizes, test_mean, 'o-', color='green', label='Validation score')\n",
    "plt.fill_between(train_sizes, test_mean - test_std, test_mean + test_std, alpha=0.2, color='green')\n",
    "plt.title('Learning Curve (k-NN)')\n",
    "plt.xlabel('Training Set Size')\n",
    "plt.ylabel('Accuracy')\n",
    "plt.legend(loc='best')\n",
    "plt.grid(True)\n",
    "plt.tight_layout()\n",
    "plt.show()"
   ]
  }
 ],
 "metadata": {
  "kernelspec": {
   "display_name": "mda",
   "language": "python",
   "name": "python3"
  },
  "language_info": {
   "codemirror_mode": {
    "name": "ipython",
    "version": 3
   },
   "file_extension": ".py",
   "mimetype": "text/x-python",
   "name": "python",
   "nbconvert_exporter": "python",
   "pygments_lexer": "ipython3",
   "version": "3.10.16"
  }
 },
 "nbformat": 4,
 "nbformat_minor": 5
}

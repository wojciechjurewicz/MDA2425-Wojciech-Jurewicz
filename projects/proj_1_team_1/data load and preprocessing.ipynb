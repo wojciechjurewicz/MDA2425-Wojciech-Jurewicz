{
 "cells": [
  {
   "cell_type": "code",
   "execution_count": 1,
   "metadata": {},
   "outputs": [],
   "source": [
    "# data source:\n",
    "# https://archive.ics.uci.edu/dataset/73/mushroom\n",
    "\n",
    "# useful for loading the dataset\n",
    "# !pip install ucimlrepo"
   ]
  },
  {
   "cell_type": "code",
   "execution_count": 2,
   "metadata": {},
   "outputs": [],
   "source": [
    "%load_ext autoreload\n",
    "%autoreload 2"
   ]
  },
  {
   "cell_type": "markdown",
   "metadata": {},
   "source": [
    "# Imports of necessary libraries and transformers"
   ]
  },
  {
   "cell_type": "code",
   "execution_count": null,
   "metadata": {},
   "outputs": [],
   "source": [
    "import os\n",
    "import sys\n",
    "\n",
    "while any(marker in os.getcwd() for marker in ('exercises', 'notebooks', 'students', 'research', 'projects')):\n",
    "    os.chdir(\"..\")\n",
    "sys.path.append('src')\n",
    "os.getcwd()"
   ]
  },
  {
   "cell_type": "code",
   "execution_count": 4,
   "metadata": {},
   "outputs": [],
   "source": [
    "import pandas as pd\n",
    "from ucimlrepo import fetch_ucirepo\n",
    "from sklearn.base import BaseEstimator, TransformerMixin\n",
    "from sklearn.pipeline import make_pipeline\n",
    "from sklearn.preprocessing import OrdinalEncoder\n",
    "\n",
    "from src.custom_transformers import (\n",
    "    DropColumnTransformer,\n",
    "    CustomLabelEncoder,\n",
    "    CustomOneHotEncoder,\n",
    ")\n"
   ]
  },
  {
   "cell_type": "code",
   "execution_count": 5,
   "metadata": {},
   "outputs": [],
   "source": [
    "class CustomOrdinalEncoder(BaseEstimator, TransformerMixin):\n",
    "\n",
    "    def __init__(self, columns, order = None):\n",
    "        self.columns = columns\n",
    "        self.order = order if order is not None else {}\n",
    "        self.encoders = {}\n",
    "\n",
    "    def fit(self, X, y=None):\n",
    "        for column in self.columns:\n",
    "            if column in self.order:\n",
    "                self.encoders[column] = OrdinalEncoder(categories=[self.order[column]])\n",
    "            else:\n",
    "                self.encoders[column] = OrdinalEncoder()\n",
    "            self.encoders[column].fit(X[[column]])\n",
    "        return self\n",
    "\n",
    "    def transform(self, X):\n",
    "        X_transformed = X.copy()\n",
    "        for column in self.columns:\n",
    "            X_transformed[column] = self.encoders[column].transform(X[[column]])\n",
    "        return X_transformed"
   ]
  },
  {
   "cell_type": "markdown",
   "metadata": {},
   "source": [
    "# Loading the dataset"
   ]
  },
  {
   "cell_type": "code",
   "execution_count": 6,
   "metadata": {},
   "outputs": [],
   "source": [
    "mushroom_dataset_id = 73"
   ]
  },
  {
   "cell_type": "code",
   "execution_count": 7,
   "metadata": {},
   "outputs": [],
   "source": [
    "# fetch dataset \n",
    "mushroom = fetch_ucirepo(id=mushroom_dataset_id) \n",
    "  \n",
    "# data (as pandas dataframes) \n",
    "df = pd.concat([mushroom.data.features, mushroom.data.targets], axis=1)"
   ]
  },
  {
   "cell_type": "code",
   "execution_count": null,
   "metadata": {},
   "outputs": [],
   "source": [
    "df.head()"
   ]
  },
  {
   "cell_type": "markdown",
   "metadata": {},
   "source": [
    "# Data cleaning"
   ]
  },
  {
   "cell_type": "code",
   "execution_count": null,
   "metadata": {},
   "outputs": [],
   "source": [
    "# checking data dimensions\n",
    "print(df.shape)"
   ]
  },
  {
   "cell_type": "code",
   "execution_count": null,
   "metadata": {},
   "outputs": [],
   "source": [
    "# checking column names and data types\n",
    "df.dtypes"
   ]
  },
  {
   "cell_type": "code",
   "execution_count": null,
   "metadata": {},
   "outputs": [],
   "source": [
    "# checking null values\n",
    "print(df.isnull().sum())"
   ]
  },
  {
   "cell_type": "code",
   "execution_count": null,
   "metadata": {},
   "outputs": [],
   "source": [
    "# checking for duplicates\n",
    "df.duplicated().any()"
   ]
  },
  {
   "cell_type": "code",
   "execution_count": 13,
   "metadata": {},
   "outputs": [],
   "source": [
    "cleaning = make_pipeline(\n",
    "    DropColumnTransformer(columns=[\"stalk-root\", # removing it due to a large number of null values\n",
    "                                   \"veil-type\"]) # removing it due to results of categorical variability analysis\n",
    ")"
   ]
  },
  {
   "cell_type": "code",
   "execution_count": 14,
   "metadata": {},
   "outputs": [],
   "source": [
    "df_cleaned = cleaning.fit_transform(df)"
   ]
  },
  {
   "cell_type": "code",
   "execution_count": null,
   "metadata": {},
   "outputs": [],
   "source": [
    "df_cleaned.head()"
   ]
  },
  {
   "cell_type": "markdown",
   "metadata": {},
   "source": [
    "# Data preprocessing"
   ]
  },
  {
   "cell_type": "code",
   "execution_count": null,
   "metadata": {},
   "outputs": [],
   "source": [
    "preprocessing = make_pipeline(\n",
    "CustomLabelEncoder(columns=[\"bruises\", \"veil-type\"]),\n",
    "    \n",
    "    CustomOrdinalEncoder(\n",
    "        columns=[\"gill-size\", \"stalk-shape\", \"ring-number\", \"population\"],\n",
    "        order={\n",
    "            \"gill-size\": [\"n\", \"b\"],  # narrow < broad\n",
    "            \"stalk-shape\": [\"t\", \"e\"],  # tapering < enlarging\n",
    "            \"ring-number\": [\"n\", \"o\", \"t\"],  # none < one < two\n",
    "            \"population\": [\"y\", \"v\", \"s\", \"n\", \"c\", \"a\"]  # solitary < several < scattered < numerous < clustered < abundant\n",
    "        }\n",
    "    ),\n",
    "    \n",
    "    CustomOneHotEncoder(columns=[\n",
    "        \"cap-shape\", \"cap-surface\", \"cap-color\", \"odor\", \"gill-attachment\",\n",
    "        \"gill-spacing\", \"gill-color\", \"stalk-surface-above-ring\",\n",
    "        \"stalk-surface-below-ring\", \"stalk-color-above-ring\", \"stalk-color-below-ring\",\n",
    "        \"veil-color\", \"ring-type\", \"spore-print-color\", \"habitat\"\n",
    "    ])\n",
    ")\n",
    "    "
   ]
  },
  {
   "cell_type": "code",
   "execution_count": 17,
   "metadata": {},
   "outputs": [],
   "source": [
    "df_preprocessed = preprocessing.fit_transform(df_cleaned)"
   ]
  },
  {
   "cell_type": "code",
   "execution_count": null,
   "metadata": {},
   "outputs": [],
   "source": [
    "df_preprocessed.head()"
   ]
  },
  {
   "cell_type": "code",
   "execution_count": 19,
   "metadata": {},
   "outputs": [],
   "source": [
    "# export of the preprocessed data to .csv file\n",
    "# df_preprocessed.to_csv('projects/proj_1_team_1/mushrooms_preprocessed.csv')"
   ]
  }
 ],
 "metadata": {
  "kernelspec": {
   "display_name": "base",
   "language": "python",
   "name": "python3"
  },
  "language_info": {
   "codemirror_mode": {
    "name": "ipython",
    "version": 3
   },
   "file_extension": ".py",
   "mimetype": "text/x-python",
   "name": "python",
   "nbconvert_exporter": "python",
   "pygments_lexer": "ipython3",
   "version": "3.12.7"
  }
 },
 "nbformat": 4,
 "nbformat_minor": 2
}

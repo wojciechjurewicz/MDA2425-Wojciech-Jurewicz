{
 "cells": [
  {
   "cell_type": "markdown",
   "id": "bb1844d5",
   "metadata": {},
   "source": [
    "**Exploratory Data Analysis (EDA) on Beer Ratings Dataset**\n",
    "\n",
    "This script performs initial data exploration and visualization on a beer reviews dataset \n",
    "downloaded via KaggleHub. It inspects the structure, content, and quality of the data, \n",
    "including missing values, duplicates, and data types. Additionally, it highlights key insights \n",
    "such as the most reviewed beers, top beer styles, and breweries, and visualizes distributions \n",
    "and correlations among review scores."
   ]
  },
  {
   "cell_type": "markdown",
   "id": "72d6cefd",
   "metadata": {},
   "source": [
    "## Data loading"
   ]
  },
  {
   "cell_type": "code",
   "execution_count": 1,
   "id": "7d04041f",
   "metadata": {},
   "outputs": [],
   "source": [
    "import os\n",
    "import sys\n",
    "import matplotlib.pyplot as plt\n",
    "import seaborn as sns\n",
    "\n",
    "# Add paths for custom transformers\n",
    "while any(marker in os.getcwd() for marker in ('exercises', 'notebooks', 'students', 'research', 'projects')):\n",
    "    os.chdir(\"..\")\n",
    "sys.path.append('.')"
   ]
  },
  {
   "cell_type": "code",
   "execution_count": null,
   "id": "a0458a48",
   "metadata": {},
   "outputs": [],
   "source": [
    "from dotenv import load_dotenv\n",
    "import pandas as pd"
   ]
  },
  {
   "cell_type": "code",
   "execution_count": null,
   "id": "78acb99a",
   "metadata": {},
   "outputs": [],
   "source": [
    "env_path = 'projects/proj_3_team_5/.env'\n",
    "load_dotenv(env_path)"
   ]
  },
  {
   "cell_type": "code",
   "execution_count": 4,
   "id": "027ca528",
   "metadata": {},
   "outputs": [],
   "source": [
    "df_raw_path = os.getenv('RAW_DATA_DIR')"
   ]
  },
  {
   "cell_type": "code",
   "execution_count": null,
   "id": "b8bb716c",
   "metadata": {},
   "outputs": [],
   "source": [
    "df= pd.read_csv(df_raw_path)"
   ]
  },
  {
   "cell_type": "code",
   "execution_count": null,
   "id": "6ca0e761",
   "metadata": {},
   "outputs": [],
   "source": [
    "df.sample(5)"
   ]
  },
  {
   "cell_type": "markdown",
   "id": "885a87bf",
   "metadata": {},
   "source": [
    "## Basic Data Inspection"
   ]
  },
  {
   "cell_type": "code",
   "execution_count": null,
   "id": "6d4e3512",
   "metadata": {},
   "outputs": [],
   "source": [
    "print(\"Shape:\", df.shape)\n",
    "print(\"\\nColumns:\", df.columns.tolist())"
   ]
  },
  {
   "cell_type": "code",
   "execution_count": null,
   "id": "4d2c2dec",
   "metadata": {},
   "outputs": [],
   "source": [
    "print(\"\\nMissing values:\\n\", df.isnull().sum())"
   ]
  },
  {
   "cell_type": "code",
   "execution_count": null,
   "id": "063996af",
   "metadata": {},
   "outputs": [],
   "source": [
    "print(\"\\nData types:\\n\", df.dtypes)"
   ]
  },
  {
   "cell_type": "code",
   "execution_count": null,
   "id": "6f04eb43",
   "metadata": {},
   "outputs": [],
   "source": [
    "print(\"\\nBasic stats:\\n\", df.describe(include='all'))"
   ]
  },
  {
   "cell_type": "code",
   "execution_count": null,
   "id": "2929bbcb",
   "metadata": {},
   "outputs": [],
   "source": [
    "print(\"\\nDuplicates:\", df.duplicated().sum())"
   ]
  },
  {
   "cell_type": "markdown",
   "id": "99651f1e",
   "metadata": {},
   "source": [
    "## Most Reviewed Beers and Styles"
   ]
  },
  {
   "cell_type": "code",
   "execution_count": null,
   "id": "1a2a1577",
   "metadata": {},
   "outputs": [],
   "source": [
    "top_beers = df['Name'].value_counts().head(10)\n",
    "print(\"\\nTop beers by number of reviews:\\n\", top_beers)\n",
    "\n",
    "top_style= df['Style'].value_counts().head(10)\n",
    "print(\"\\nTop style by number of reviews:\\n\", top_style)"
   ]
  },
  {
   "cell_type": "markdown",
   "id": "af4fb2d8",
   "metadata": {},
   "source": [
    "## Distribution of Review Scores"
   ]
  },
  {
   "cell_type": "code",
   "execution_count": null,
   "id": "fff5a0c1",
   "metadata": {},
   "outputs": [],
   "source": [
    "rating_cols = ['review_aroma', 'review_appearance', 'review_palate', 'review_taste', 'review_overall']\n",
    "df[rating_cols].hist(bins=20, figsize=(12, 8))\n",
    "plt.suptitle(\"Distribution of Review Scores\", fontsize=16)\n",
    "plt.tight_layout()\n",
    "plt.show()"
   ]
  },
  {
   "cell_type": "markdown",
   "id": "394693e7",
   "metadata": {},
   "source": [
    "## Correlation Heatmap"
   ]
  },
  {
   "cell_type": "code",
   "execution_count": null,
   "id": "29bd5628",
   "metadata": {},
   "outputs": [],
   "source": [
    "plt.figure(figsize=(8, 6))\n",
    "sns.heatmap(df[rating_cols].corr(), annot=True, cmap='coolwarm')\n",
    "plt.title(\"Correlation between Review Scores\")\n",
    "plt.show()"
   ]
  },
  {
   "cell_type": "markdown",
   "id": "cba85346",
   "metadata": {},
   "source": [
    "## Top Beer Styles by Rating"
   ]
  },
  {
   "cell_type": "code",
   "execution_count": null,
   "id": "43910447",
   "metadata": {},
   "outputs": [],
   "source": [
    "style_rating = df.groupby('Style')['review_overall'].mean().sort_values(ascending=False).head(10)\n",
    "style_rating.plot(kind='bar', figsize=(10, 5), title=\"Top 10 Beer Styles by Average Overall Rating\")\n",
    "plt.ylabel(\"Average Overall Rating\")\n",
    "plt.xticks(rotation=45)\n",
    "plt.tight_layout()\n",
    "plt.show()"
   ]
  },
  {
   "cell_type": "markdown",
   "id": "563b28fc",
   "metadata": {},
   "source": [
    "# Top Breweries by Number of Reviews\n"
   ]
  },
  {
   "cell_type": "code",
   "execution_count": null,
   "id": "d87f7467",
   "metadata": {},
   "outputs": [],
   "source": [
    "top_breweries = df['Brewery'].value_counts().head(10)\n",
    "sns.barplot(x=top_breweries.values, y=top_breweries.index, color='orchid')\n",
    "plt.title(\"Top 10 Breweries by Number of Reviews\")\n",
    "plt.xlabel(\"Number of Reviews\")\n",
    "plt.tight_layout()\n",
    "plt.show()"
   ]
  },
  {
   "cell_type": "markdown",
   "id": "0ff85b17",
   "metadata": {},
   "source": [
    "## Conclusions\n",
    "**1. Dataset Overview**\n",
    "- The dataset contains 3,197 beer reviews and 25 features.\n",
    "- There are no missing values and no duplicate entries, making the data clean and ready for further analysis.\n",
    "- It includes both categorical (e.g., Name, Style, Brewery) and numerical (e.g., ABV, review_overall) features.\n",
    "- Some beers and styles appear frequently, which may influence clustering outcomes if not properly normalized.\n",
    "\n",
    "**2. Distribution of Review Scores**\n",
    "- All review aspects (aroma, appearance, palate, taste, overall) are roughly normally distributed with a slight right skew.\n",
    "- Most scores cluster between 3.0 and 4.5, indicating generally positive reviews.\n",
    "- Review Overalls are slightly more concentrated between 3.5 and 4.2, showing that people have more similar opinions about the overall quality.\n",
    "\n",
    "**3. Correlation Between Review Scores**\n",
    "- Very high positive correlations between all attributes:\n",
    "   - review_palate ↔ review_taste: 0.95\n",
    "   - review_taste ↔ review_overall: 0.94\n",
    "   - review_palate ↔ review_overall: 0.92\n",
    "- This suggests multicollinearity, which should be addressed before clustering (for example through PCA or by removing redundant features)\n",
    "- Review_appearance shows a slightly weaker correlation with overall rating, possibly offering more unique information for clustering.\n",
    "\n",
    "**4. Top 10 Beer Styles by Average Overall Rating**\n",
    "\n",
    "The highest-rated styles include:\n",
    "- IPA - New England\n",
    "- Wild Ale\n",
    "- Stout - American Imperial\n",
    "\n",
    "These styles could potentially form distinct clusters, as they may differ significantly in attributes like ABV, taste profile, and consumer preferences.\n",
    "\n",
    "**5. Key Insights**\n",
    "- Features such as review_taste, review_palate, and review_overall are highly correlated—dimensionality reduction may help improve clustering quality.\n",
    "- Clustering should take into account that some beers or styles dominate the dataset, which could lead to imbalanced clusters.\n",
    "- Standardization or normalization of features (especially review scores and ABV) will be crucial to avoid bias in distance-based algorithms like K-Means.\n",
    "- Including or excluding categorical features like Style or Brewery should be carefully considered based on the clustering goal (e.g., grouping by taste vs. origin)."
   ]
  }
 ],
 "metadata": {
  "kernelspec": {
   "display_name": "mda",
   "language": "python",
   "name": "python3"
  },
  "language_info": {
   "codemirror_mode": {
    "name": "ipython",
    "version": 3
   },
   "file_extension": ".py",
   "mimetype": "text/x-python",
   "name": "python",
   "nbconvert_exporter": "python",
   "pygments_lexer": "ipython3",
   "version": "3.10.16"
  }
 },
 "nbformat": 4,
 "nbformat_minor": 5
}

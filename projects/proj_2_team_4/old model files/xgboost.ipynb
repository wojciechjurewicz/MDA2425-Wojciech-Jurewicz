{
 "cells": [
  {
   "cell_type": "code",
   "execution_count": 1,
   "metadata": {},
   "outputs": [],
   "source": [
    "%load_ext autoreload\n",
    "%autoreload 2\n",
    "\n",
    "import os\n",
    "import sys\n",
    "\n",
    "while any(marker in os.getcwd() for marker in ('exercises', 'notebooks', 'students', 'research', 'projects')):\n",
    "    os.chdir(\"..\")\n",
    "sys.path.append('src')"
   ]
  },
  {
   "cell_type": "code",
   "execution_count": 2,
   "metadata": {},
   "outputs": [
    {
     "name": "stderr",
     "output_type": "stream",
     "text": [
      "/Users/wojciechjurewicz/anaconda3/envs/mda/lib/python3.10/site-packages/tqdm/auto.py:21: TqdmWarning: IProgress not found. Please update jupyter and ipywidgets. See https://ipywidgets.readthedocs.io/en/stable/user_install.html\n",
      "  from .autonotebook import tqdm as notebook_tqdm\n"
     ]
    }
   ],
   "source": [
    "import time\n",
    "import pandas as pd\n",
    "import matplotlib.pyplot as plt\n",
    "import numpy as np\n",
    "import mlflow\n",
    "import optuna\n",
    "import optuna.visualization as vis\n",
    "from dotenv import load_dotenv\n",
    "from xgboost import XGBRegressor\n",
    "from sklearn.model_selection import train_test_split\n",
    "from sklearn.pipeline import Pipeline\n",
    "from sklearn.metrics import r2_score\n",
    "from sklearn.metrics import mean_absolute_error\n",
    "from sklearn.metrics import mean_squared_error\n",
    "from sklearn.metrics import root_mean_squared_log_error # Metric used in the competition for evaluation"
   ]
  },
  {
   "cell_type": "code",
   "execution_count": 3,
   "metadata": {},
   "outputs": [],
   "source": [
    "# Set MLflow tracking URI to local directory\n",
    "mlflow.set_tracking_uri(\"projects/proj_2_team_4/mlruns\")\n",
    "\n",
    "# Use for running ui:\n",
    "# mlflow ui --backend-store-uri \"Absolute path\"\n",
    "# e.g.: mlflow ui --backend-store-uri \"/Users/wojciechjurewicz/Desktop/Multivariate Data Analysis/Lab/mda2425/projects/proj_2_team_4/mlruns\"\n",
    "\n"
   ]
  },
  {
   "cell_type": "code",
   "execution_count": 4,
   "metadata": {},
   "outputs": [
    {
     "data": {
      "text/plain": [
       "True"
      ]
     },
     "execution_count": 4,
     "metadata": {},
     "output_type": "execute_result"
    }
   ],
   "source": [
    "# Load environment variables from the correct .env file location\n",
    "env_path = 'projects/proj_2_team_4/.env'\n",
    "load_dotenv(env_path)"
   ]
  },
  {
   "cell_type": "code",
   "execution_count": 5,
   "metadata": {},
   "outputs": [],
   "source": [
    "# Get dataset path from environment variable\n",
    "train_preprocessed_path = os.getenv('TRAIN_PREPROCESSED_PATH')\n",
    "test_preprocessed_path = os.getenv('VALID_PREPROCESSED_PATH')\n",
    "\n",
    "df_train = pd.read_csv(train_preprocessed_path)\n",
    "df_test = pd.read_csv(test_preprocessed_path)"
   ]
  },
  {
   "cell_type": "code",
   "execution_count": 6,
   "metadata": {},
   "outputs": [],
   "source": [
    "train_df, valid_df = train_test_split(df_train, test_size=0.10, random_state=42)"
   ]
  },
  {
   "cell_type": "code",
   "execution_count": 7,
   "metadata": {},
   "outputs": [],
   "source": [
    "X_train = train_df.drop(columns=[\"SalePrice\"])\n",
    "y_train = train_df[\"SalePrice\"]\n",
    "\n",
    "X_valid = valid_df.drop(columns=[\"SalePrice\"])\n",
    "y_valid = valid_df[\"SalePrice\"]\n",
    "\n",
    "X_test = df_test.drop(columns=[\"SalePrice\"])\n",
    "y_test = df_test[\"SalePrice\"]"
   ]
  },
  {
   "cell_type": "code",
   "execution_count": 8,
   "metadata": {},
   "outputs": [
    {
     "data": {
      "text/plain": [
       "(278174,)"
      ]
     },
     "execution_count": 8,
     "metadata": {},
     "output_type": "execute_result"
    }
   ],
   "source": [
    "\n",
    "y_train.shape\n"
   ]
  },
  {
   "cell_type": "code",
   "execution_count": 9,
   "metadata": {},
   "outputs": [],
   "source": [
    "learning_rate = 0.2\n",
    "max_depth = 8\n",
    "n_estimators = 1000\n",
    "subsample = 0.6\n",
    "tree_method = 'approx'"
   ]
  },
  {
   "cell_type": "code",
   "execution_count": 10,
   "metadata": {},
   "outputs": [],
   "source": [
    "pipeline = Pipeline([\n",
    "    ('xgb', XGBRegressor(\n",
    "        learning_rate=learning_rate, \n",
    "        max_depth=max_depth, \n",
    "        n_estimators=n_estimators, \n",
    "        subsample=subsample, \n",
    "        tree_method=tree_method\n",
    "    ))\n",
    "])\n"
   ]
  },
  {
   "cell_type": "code",
   "execution_count": 11,
   "metadata": {},
   "outputs": [],
   "source": [
    "# # override Optuna's default logging to ERROR only\n",
    "# optuna.logging.set_verbosity(optuna.logging.ERROR)\n",
    "\n",
    "# # define a logging callback that will report on only new challenger parameter configurations if a\n",
    "# # trial has usurped the state of 'best conditions'\n",
    "\n",
    "\n",
    "# def champion_callback(study, frozen_trial):\n",
    "#   \"\"\"\n",
    "#   Logging callback that will report when a new trial iteration improves upon existing\n",
    "#   best trial values.\n",
    "\n",
    "#   Note: This callback is not intended for use in distributed computing systems such as Spark\n",
    "#   or Ray due to the micro-batch iterative implementation for distributing trials to a cluster's\n",
    "#   workers or agents.\n",
    "#   The race conditions with file system state management for distributed trials will render\n",
    "#   inconsistent values with this callback.\n",
    "#   \"\"\"\n",
    "\n",
    "#   winner = study.user_attrs.get(\"winner\", None)\n",
    "\n",
    "#   if study.best_value and winner != study.best_value:\n",
    "#       study.set_user_attr(\"winner\", study.best_value)\n",
    "#       if winner:\n",
    "#           improvement_percent = (abs(winner - study.best_value) / study.best_value) * 100\n",
    "#           print(\n",
    "#               f\"Trial {frozen_trial.number} achieved value: {frozen_trial.value} with \"\n",
    "#               f\"{improvement_percent: .4f}% improvement\"\n",
    "#           )\n",
    "#       else:\n",
    "#           print(f\"Initial trial {frozen_trial.number} achieved value: {frozen_trial.value}\")"
   ]
  },
  {
   "cell_type": "code",
   "execution_count": 12,
   "metadata": {},
   "outputs": [
    {
     "name": "stderr",
     "output_type": "stream",
     "text": [
      "2025/05/26 23:31:17 INFO mlflow.tracking.fluent: Experiment with name 'XGBoost_Pareto_Front' does not exist. Creating a new experiment.\n"
     ]
    }
   ],
   "source": [
    "mlflow.set_experiment(\"XGBoost_Pareto_Front\")\n",
    "\n",
    "def objective(trial):\n",
    "    start = time.time()\n",
    "\n",
    "    # Hyperparameter search space\n",
    "    params = {\n",
    "        \"learning_rate\": trial.suggest_float(\"learning_rate\", 0.01, 0.3),\n",
    "        \"max_depth\": trial.suggest_int(\"max_depth\", 3, 12),\n",
    "        \"n_estimators\": trial.suggest_int(\"n_estimators\", 100, 2200),\n",
    "        \"subsample\": trial.suggest_float(\"subsample\", 0.5, 1.0),\n",
    "        \"tree_method\": trial.suggest_categorical(\"tree_method\", [\"approx\", \"hist\"]),\n",
    "    }\n",
    "\n",
    "    # Start MLflow run (one per trial)\n",
    "    with mlflow.start_run(nested=True):\n",
    "        mlflow.log_params(params)  # Save all hyperparameters\n",
    "\n",
    "        # Optional tags\n",
    "        mlflow.set_tags({\n",
    "            \"trial_number\": trial.number,\n",
    "            \"optimizer_engine\": \"optuna\",\n",
    "            \"model_family\": \"xgboost\",\n",
    "            \"phase\": \"search\"\n",
    "        })\n",
    "\n",
    "        # Train model\n",
    "        pipeline = Pipeline([\n",
    "            ('xgb', XGBRegressor(**params, n_jobs=-1))\n",
    "        ])\n",
    "        pipeline.fit(X_train, y_train)\n",
    "        y_pred = pipeline.predict(X_valid)\n",
    "        y_pred = np.maximum(0, y_pred)\n",
    "\n",
    "        # Calculate objective values\n",
    "        training_time = time.time() - start\n",
    "        rmsle = root_mean_squared_log_error(y_valid, y_pred)\n",
    "\n",
    "        # Log metrics\n",
    "        mlflow.log_metrics({\n",
    "            \"Validation RMSLE\": rmsle,\n",
    "            \"training_time\": training_time\n",
    "        })\n",
    "\n",
    "    return rmsle, training_time\n"
   ]
  },
  {
   "cell_type": "code",
   "execution_count": 13,
   "metadata": {},
   "outputs": [
    {
     "name": "stderr",
     "output_type": "stream",
     "text": [
      "[I 2025-05-26 23:31:17,585] A new study created in memory with name: no-name-88eff0f3-e711-48f6-8f05-591dac2e460f\n",
      "  0%|          | 1/300 [00:22<1:52:10, 22.51s/it, 22.51/1800 seconds]"
     ]
    },
    {
     "name": "stdout",
     "output_type": "stream",
     "text": [
      "[I 2025-05-26 23:31:40,116] Trial 0 finished with values: [0.25045686960220337, 22.50075626373291] and parameters: {'learning_rate': 0.13732680473655495, 'max_depth': 3, 'n_estimators': 1639, 'subsample': 0.5738291002648241, 'tree_method': 'hist'}.\n"
     ]
    },
    {
     "name": "stderr",
     "output_type": "stream",
     "text": [
      "  1%|          | 2/300 [00:43<1:48:09, 21.78s/it, 43.77/1800 seconds]"
     ]
    },
    {
     "name": "stdout",
     "output_type": "stream",
     "text": [
      "[I 2025-05-26 23:32:01,378] Trial 1 finished with values: [0.21005627512931824, 21.25073528289795] and parameters: {'learning_rate': 0.023208347581707246, 'max_depth': 9, 'n_estimators': 415, 'subsample': 0.7658909751428908, 'tree_method': 'approx'}.\n"
     ]
    },
    {
     "name": "stderr",
     "output_type": "stream",
     "text": [
      "  1%|          | 3/300 [00:53<1:19:47, 16.12s/it, 53.16/1800 seconds]"
     ]
    },
    {
     "name": "stdout",
     "output_type": "stream",
     "text": [
      "[I 2025-05-26 23:32:10,765] Trial 2 finished with values: [0.20836488902568817, 9.378645896911621] and parameters: {'learning_rate': 0.18789432350242016, 'max_depth': 7, 'n_estimators': 245, 'subsample': 0.7763095825658259, 'tree_method': 'approx'}.\n"
     ]
    },
    {
     "name": "stderr",
     "output_type": "stream",
     "text": [
      "  1%|▏         | 4/300 [01:03<1:07:42, 13.73s/it, 63.22/1800 seconds]"
     ]
    },
    {
     "name": "stdout",
     "output_type": "stream",
     "text": [
      "[I 2025-05-26 23:32:20,824] Trial 3 finished with values: [0.19750139117240906, 10.050092220306396] and parameters: {'learning_rate': 0.18333050175611607, 'max_depth': 10, 'n_estimators': 207, 'subsample': 0.8734763118589377, 'tree_method': 'approx'}.\n"
     ]
    },
    {
     "name": "stderr",
     "output_type": "stream",
     "text": [
      "  2%|▏         | 5/300 [01:31<1:32:48, 18.88s/it, 91.23/1800 seconds]"
     ]
    },
    {
     "name": "stdout",
     "output_type": "stream",
     "text": [
      "[I 2025-05-26 23:32:48,834] Trial 4 finished with values: [0.20077775418758392, 28.001131057739258] and parameters: {'learning_rate': 0.25297634913736483, 'max_depth': 8, 'n_estimators': 1333, 'subsample': 0.6250314876865684, 'tree_method': 'hist'}.\n"
     ]
    },
    {
     "name": "stderr",
     "output_type": "stream",
     "text": [
      "  2%|▏         | 6/300 [02:53<3:18:54, 40.59s/it, 173.98/1800 seconds]"
     ]
    },
    {
     "name": "stdout",
     "output_type": "stream",
     "text": [
      "[I 2025-05-26 23:34:11,586] Trial 5 finished with values: [0.19321498274803162, 82.73339319229126] and parameters: {'learning_rate': 0.18595026700824854, 'max_depth': 12, 'n_estimators': 1509, 'subsample': 0.6952389176684743, 'tree_method': 'approx'}.\n"
     ]
    },
    {
     "name": "stderr",
     "output_type": "stream",
     "text": [
      "  2%|▏         | 7/300 [03:04<2:30:51, 30.89s/it, 184.89/1800 seconds]"
     ]
    },
    {
     "name": "stdout",
     "output_type": "stream",
     "text": [
      "[I 2025-05-26 23:34:22,500] Trial 6 finished with values: [0.20439110696315765, 10.904398202896118] and parameters: {'learning_rate': 0.151765350089712, 'max_depth': 8, 'n_estimators': 285, 'subsample': 0.6277453603311338, 'tree_method': 'approx'}.\n"
     ]
    },
    {
     "name": "stderr",
     "output_type": "stream",
     "text": [
      "  3%|▎         | 8/300 [03:33<2:26:13, 30.05s/it, 213.13/1800 seconds]"
     ]
    },
    {
     "name": "stdout",
     "output_type": "stream",
     "text": [
      "[I 2025-05-26 23:34:50,739] Trial 7 finished with values: [0.21170563995838165, 28.228970289230347] and parameters: {'learning_rate': 0.2337662524484023, 'max_depth': 5, 'n_estimators': 1643, 'subsample': 0.7352382622073137, 'tree_method': 'hist'}.\n"
     ]
    },
    {
     "name": "stderr",
     "output_type": "stream",
     "text": [
      "  3%|▎         | 9/300 [03:51<2:07:27, 26.28s/it, 231.13/1800 seconds]"
     ]
    },
    {
     "name": "stdout",
     "output_type": "stream",
     "text": [
      "[I 2025-05-26 23:35:08,733] Trial 8 finished with values: [0.202654629945755, 17.97351098060608] and parameters: {'learning_rate': 0.2837407936188199, 'max_depth': 12, 'n_estimators': 568, 'subsample': 0.5568850153643141, 'tree_method': 'hist'}.\n"
     ]
    },
    {
     "name": "stderr",
     "output_type": "stream",
     "text": [
      "  3%|▎         | 10/300 [04:14<2:01:59, 25.24s/it, 254.04/1800 seconds]"
     ]
    },
    {
     "name": "stdout",
     "output_type": "stream",
     "text": [
      "[I 2025-05-26 23:35:31,648] Trial 9 finished with values: [0.2749067544937134, 22.90506601333618] and parameters: {'learning_rate': 0.12488621453711636, 'max_depth': 3, 'n_estimators': 1049, 'subsample': 0.8843428929468684, 'tree_method': 'approx'}.\n"
     ]
    },
    {
     "name": "stderr",
     "output_type": "stream",
     "text": [
      "  4%|▎         | 11/300 [04:27<1:44:44, 21.75s/it, 267.87/1800 seconds]"
     ]
    },
    {
     "name": "stdout",
     "output_type": "stream",
     "text": [
      "[I 2025-05-26 23:35:45,472] Trial 10 finished with values: [0.1955977827310562, 13.808770179748535] and parameters: {'learning_rate': 0.24353299226917016, 'max_depth': 10, 'n_estimators': 542, 'subsample': 0.7801612325049061, 'tree_method': 'hist'}.\n"
     ]
    },
    {
     "name": "stderr",
     "output_type": "stream",
     "text": [
      "  4%|▍         | 12/300 [05:11<2:16:35, 28.46s/it, 311.67/1800 seconds]"
     ]
    },
    {
     "name": "stdout",
     "output_type": "stream",
     "text": [
      "[I 2025-05-26 23:36:29,274] Trial 11 finished with values: [0.18996642529964447, 43.78955698013306] and parameters: {'learning_rate': 0.05037736187604336, 'max_depth': 11, 'n_estimators': 954, 'subsample': 0.9765964708545455, 'tree_method': 'approx'}.\n"
     ]
    },
    {
     "name": "stderr",
     "output_type": "stream",
     "text": [
      "  4%|▍         | 13/300 [06:04<2:51:27, 35.84s/it, 364.51/1800 seconds]"
     ]
    },
    {
     "name": "stdout",
     "output_type": "stream",
     "text": [
      "[I 2025-05-26 23:37:22,119] Trial 12 finished with values: [0.19159244000911713, 52.83273005485535] and parameters: {'learning_rate': 0.14543809028245058, 'max_depth': 8, 'n_estimators': 1513, 'subsample': 0.7990275312053892, 'tree_method': 'approx'}.\n"
     ]
    },
    {
     "name": "stderr",
     "output_type": "stream",
     "text": [
      "  5%|▍         | 14/300 [07:19<3:46:54, 47.60s/it, 439.29/1800 seconds]"
     ]
    },
    {
     "name": "stdout",
     "output_type": "stream",
     "text": [
      "[I 2025-05-26 23:38:36,897] Trial 13 finished with values: [0.19090652465820312, 74.7643780708313] and parameters: {'learning_rate': 0.16175863413456942, 'max_depth': 9, 'n_estimators': 1805, 'subsample': 0.7024238952212076, 'tree_method': 'approx'}.\n"
     ]
    },
    {
     "name": "stderr",
     "output_type": "stream",
     "text": [
      "  5%|▌         | 15/300 [07:45<3:15:56, 41.25s/it, 465.82/1800 seconds]"
     ]
    },
    {
     "name": "stdout",
     "output_type": "stream",
     "text": [
      "[I 2025-05-26 23:39:03,425] Trial 14 finished with values: [0.2272036224603653, 26.51832413673401] and parameters: {'learning_rate': 0.2493927986508543, 'max_depth': 4, 'n_estimators': 1076, 'subsample': 0.672508180092818, 'tree_method': 'approx'}.\n"
     ]
    },
    {
     "name": "stderr",
     "output_type": "stream",
     "text": [
      "  5%|▌         | 16/300 [08:01<2:38:26, 33.47s/it, 481.23/1800 seconds]"
     ]
    },
    {
     "name": "stdout",
     "output_type": "stream",
     "text": [
      "[I 2025-05-26 23:39:18,840] Trial 15 finished with values: [0.22941075265407562, 15.405494928359985] and parameters: {'learning_rate': 0.22187776247183813, 'max_depth': 5, 'n_estimators': 591, 'subsample': 0.6583365141829998, 'tree_method': 'approx'}.\n"
     ]
    },
    {
     "name": "stderr",
     "output_type": "stream",
     "text": [
      "  6%|▌         | 17/300 [08:46<2:54:27, 36.99s/it, 526.39/1800 seconds]"
     ]
    },
    {
     "name": "stdout",
     "output_type": "stream",
     "text": [
      "[I 2025-05-26 23:40:04,000] Trial 16 finished with values: [0.2168622612953186, 45.150007009506226] and parameters: {'learning_rate': 0.03488547055882072, 'max_depth': 6, 'n_estimators': 1570, 'subsample': 0.7792840429268046, 'tree_method': 'approx'}.\n"
     ]
    },
    {
     "name": "stderr",
     "output_type": "stream",
     "text": [
      "  6%|▌         | 18/300 [09:30<3:03:14, 38.99s/it, 570.04/1800 seconds]"
     ]
    },
    {
     "name": "stdout",
     "output_type": "stream",
     "text": [
      "[I 2025-05-26 23:40:47,648] Trial 17 finished with values: [0.1890956312417984, 43.63138008117676] and parameters: {'learning_rate': 0.09160181103750953, 'max_depth': 11, 'n_estimators': 1645, 'subsample': 0.5562230317090869, 'tree_method': 'hist'}.\n"
     ]
    },
    {
     "name": "stderr",
     "output_type": "stream",
     "text": [
      "  6%|▋         | 19/300 [09:45<2:29:21, 31.89s/it, 585.39/1800 seconds]"
     ]
    },
    {
     "name": "stdout",
     "output_type": "stream",
     "text": [
      "[I 2025-05-26 23:41:03,002] Trial 18 finished with values: [0.18797644972801208, 15.34473991394043] and parameters: {'learning_rate': 0.10448018562617127, 'max_depth': 12, 'n_estimators': 542, 'subsample': 0.9713100084117161, 'tree_method': 'hist'}.\n"
     ]
    },
    {
     "name": "stderr",
     "output_type": "stream",
     "text": [
      "  7%|▋         | 20/300 [09:56<1:59:53, 25.69s/it, 596.64/1800 seconds]"
     ]
    },
    {
     "name": "stdout",
     "output_type": "stream",
     "text": [
      "[I 2025-05-26 23:41:14,245] Trial 19 finished with values: [0.19241541624069214, 11.23447299003601] and parameters: {'learning_rate': 0.16222459702513534, 'max_depth': 12, 'n_estimators': 196, 'subsample': 0.9148026938706865, 'tree_method': 'approx'}.\n"
     ]
    },
    {
     "name": "stderr",
     "output_type": "stream",
     "text": [
      "  7%|▋         | 21/300 [10:13<1:46:27, 22.89s/it, 613.01/1800 seconds]"
     ]
    },
    {
     "name": "stdout",
     "output_type": "stream",
     "text": [
      "[I 2025-05-26 23:41:30,617] Trial 20 finished with values: [0.2906762957572937, 16.364314079284668] and parameters: {'learning_rate': 0.10876336494188724, 'max_depth': 3, 'n_estimators': 1121, 'subsample': 0.7130697626066065, 'tree_method': 'hist'}.\n"
     ]
    },
    {
     "name": "stderr",
     "output_type": "stream",
     "text": [
      "  7%|▋         | 22/300 [10:56<2:14:36, 29.05s/it, 656.42/1800 seconds]"
     ]
    },
    {
     "name": "stdout",
     "output_type": "stream",
     "text": [
      "[I 2025-05-26 23:42:14,032] Trial 21 finished with values: [0.19659718871116638, 43.403939962387085] and parameters: {'learning_rate': 0.15248023393206517, 'max_depth': 7, 'n_estimators': 1482, 'subsample': 0.6486029107101454, 'tree_method': 'approx'}.\n"
     ]
    },
    {
     "name": "stderr",
     "output_type": "stream",
     "text": [
      "  8%|▊         | 23/300 [11:13<1:57:26, 25.44s/it, 673.44/1800 seconds]"
     ]
    },
    {
     "name": "stdout",
     "output_type": "stream",
     "text": [
      "[I 2025-05-26 23:42:31,044] Trial 22 finished with values: [0.19117194414138794, 17.00648593902588] and parameters: {'learning_rate': 0.0900735411734131, 'max_depth': 10, 'n_estimators': 713, 'subsample': 0.7995825479195724, 'tree_method': 'hist'}.\n"
     ]
    },
    {
     "name": "stderr",
     "output_type": "stream",
     "text": [
      "  8%|▊         | 24/300 [12:51<3:37:21, 47.25s/it, 771.56/1800 seconds]"
     ]
    },
    {
     "name": "stdout",
     "output_type": "stream",
     "text": [
      "[I 2025-05-26 23:44:09,172] Trial 23 finished with values: [0.19046112895011902, 98.11058807373047] and parameters: {'learning_rate': 0.1946960495426151, 'max_depth': 11, 'n_estimators': 2190, 'subsample': 0.9282599614942851, 'tree_method': 'approx'}.\n"
     ]
    },
    {
     "name": "stderr",
     "output_type": "stream",
     "text": [
      "  8%|▊         | 25/300 [13:28<3:22:57, 44.28s/it, 808.92/1800 seconds]"
     ]
    },
    {
     "name": "stdout",
     "output_type": "stream",
     "text": [
      "[I 2025-05-26 23:44:46,524] Trial 24 finished with values: [0.21793489158153534, 37.34142208099365] and parameters: {'learning_rate': 0.023740583655367728, 'max_depth': 6, 'n_estimators': 1315, 'subsample': 0.5450702800775289, 'tree_method': 'approx'}.\n"
     ]
    },
    {
     "name": "stderr",
     "output_type": "stream",
     "text": [
      "  9%|▊         | 26/300 [14:20<3:32:04, 46.44s/it, 860.39/1800 seconds]"
     ]
    },
    {
     "name": "stdout",
     "output_type": "stream",
     "text": [
      "[I 2025-05-26 23:45:37,999] Trial 25 finished with values: [0.19023564457893372, 51.465742111206055] and parameters: {'learning_rate': 0.19132571928190817, 'max_depth': 10, 'n_estimators': 1285, 'subsample': 0.8445935050709863, 'tree_method': 'approx'}.\n"
     ]
    },
    {
     "name": "stderr",
     "output_type": "stream",
     "text": [
      "  9%|▉         | 27/300 [14:23<2:32:45, 33.57s/it, 863.95/1800 seconds]"
     ]
    },
    {
     "name": "stdout",
     "output_type": "stream",
     "text": [
      "[I 2025-05-26 23:45:41,554] Trial 26 finished with values: [0.3267061114311218, 3.549989700317383] and parameters: {'learning_rate': 0.2875354351821902, 'max_depth': 3, 'n_estimators': 146, 'subsample': 0.756833417563748, 'tree_method': 'approx'}.\n"
     ]
    },
    {
     "name": "stderr",
     "output_type": "stream",
     "text": [
      "  9%|▉         | 28/300 [15:39<3:29:45, 46.27s/it, 939.84/1800 seconds]"
     ]
    },
    {
     "name": "stdout",
     "output_type": "stream",
     "text": [
      "[I 2025-05-26 23:46:57,451] Trial 27 finished with values: [0.19553227722644806, 75.88543891906738] and parameters: {'learning_rate': 0.20977171734169275, 'max_depth': 9, 'n_estimators': 2044, 'subsample': 0.7925380272364397, 'tree_method': 'approx'}.\n"
     ]
    },
    {
     "name": "stderr",
     "output_type": "stream",
     "text": [
      " 10%|▉         | 29/300 [15:46<2:35:42, 34.48s/it, 946.80/1800 seconds]"
     ]
    },
    {
     "name": "stdout",
     "output_type": "stream",
     "text": [
      "[I 2025-05-26 23:47:04,407] Trial 28 finished with values: [0.19833526015281677, 6.950299024581909] and parameters: {'learning_rate': 0.29488201434531636, 'max_depth': 11, 'n_estimators': 240, 'subsample': 0.8462114923665145, 'tree_method': 'hist'}.\n"
     ]
    },
    {
     "name": "stderr",
     "output_type": "stream",
     "text": [
      " 10%|█         | 30/300 [15:54<1:58:43, 26.38s/it, 954.30/1800 seconds]"
     ]
    },
    {
     "name": "stdout",
     "output_type": "stream",
     "text": [
      "[I 2025-05-26 23:47:11,913] Trial 29 finished with values: [0.3070330321788788, 7.501520872116089] and parameters: {'learning_rate': 0.19752154185669837, 'max_depth': 3, 'n_estimators': 485, 'subsample': 0.6251844060955963, 'tree_method': 'hist'}.\n"
     ]
    },
    {
     "name": "stderr",
     "output_type": "stream",
     "text": [
      " 10%|█         | 31/300 [15:58<1:28:42, 19.79s/it, 958.70/1800 seconds]"
     ]
    },
    {
     "name": "stdout",
     "output_type": "stream",
     "text": [
      "[I 2025-05-26 23:47:16,309] Trial 30 finished with values: [0.3095455765724182, 4.3909900188446045] and parameters: {'learning_rate': 0.21398736448915745, 'max_depth': 3, 'n_estimators': 265, 'subsample': 0.9482237575168802, 'tree_method': 'hist'}.\n"
     ]
    },
    {
     "name": "stderr",
     "output_type": "stream",
     "text": [
      " 11%|█         | 32/300 [16:21<1:32:58, 20.82s/it, 981.92/1800 seconds]"
     ]
    },
    {
     "name": "stdout",
     "output_type": "stream",
     "text": [
      "[I 2025-05-26 23:47:39,524] Trial 31 finished with values: [0.20635974407196045, 23.20824885368347] and parameters: {'learning_rate': 0.22748606398175117, 'max_depth': 10, 'n_estimators': 566, 'subsample': 0.5296427669545487, 'tree_method': 'approx'}.\n"
     ]
    },
    {
     "name": "stderr",
     "output_type": "stream",
     "text": [
      " 11%|█         | 33/300 [16:33<1:19:50, 17.94s/it, 993.15/1800 seconds]"
     ]
    },
    {
     "name": "stdout",
     "output_type": "stream",
     "text": [
      "[I 2025-05-26 23:47:50,757] Trial 32 finished with values: [0.20180994272232056, 11.227600812911987] and parameters: {'learning_rate': 0.1392924426334572, 'max_depth': 7, 'n_estimators': 590, 'subsample': 0.788661833333151, 'tree_method': 'hist'}.\n"
     ]
    },
    {
     "name": "stderr",
     "output_type": "stream",
     "text": [
      " 11%|█▏        | 34/300 [16:52<1:20:49, 18.23s/it, 1012.06/1800 seconds]"
     ]
    },
    {
     "name": "stdout",
     "output_type": "stream",
     "text": [
      "[I 2025-05-26 23:48:09,668] Trial 33 finished with values: [0.2195456326007843, 18.903449058532715] and parameters: {'learning_rate': 0.043179462478558105, 'max_depth': 6, 'n_estimators': 652, 'subsample': 0.9354359073676042, 'tree_method': 'approx'}.\n"
     ]
    },
    {
     "name": "stderr",
     "output_type": "stream",
     "text": [
      " 12%|█▏        | 35/300 [17:55<2:21:02, 31.94s/it, 1075.97/1800 seconds]"
     ]
    },
    {
     "name": "stdout",
     "output_type": "stream",
     "text": [
      "[I 2025-05-26 23:49:13,576] Trial 34 finished with values: [0.1874292492866516, 63.89467787742615] and parameters: {'learning_rate': 0.12284641402816608, 'max_depth': 12, 'n_estimators': 1271, 'subsample': 0.7046377101997628, 'tree_method': 'approx'}.\n"
     ]
    },
    {
     "name": "stderr",
     "output_type": "stream",
     "text": [
      " 12%|█▏        | 36/300 [18:16<2:05:12, 28.46s/it, 1096.30/1800 seconds]"
     ]
    },
    {
     "name": "stdout",
     "output_type": "stream",
     "text": [
      "[I 2025-05-26 23:49:33,912] Trial 35 finished with values: [0.22683148086071014, 20.326760053634644] and parameters: {'learning_rate': 0.20834471806889163, 'max_depth': 4, 'n_estimators': 1246, 'subsample': 0.7872127360741685, 'tree_method': 'hist'}.\n"
     ]
    },
    {
     "name": "stderr",
     "output_type": "stream",
     "text": [
      " 12%|█▏        | 37/300 [18:56<2:20:16, 32.00s/it, 1136.59/1800 seconds]"
     ]
    },
    {
     "name": "stdout",
     "output_type": "stream",
     "text": [
      "[I 2025-05-26 23:50:14,193] Trial 36 finished with values: [0.19298844039440155, 40.268352031707764] and parameters: {'learning_rate': 0.19544311376639345, 'max_depth': 12, 'n_estimators': 1330, 'subsample': 0.7550907135813086, 'tree_method': 'hist'}.\n"
     ]
    },
    {
     "name": "stderr",
     "output_type": "stream",
     "text": [
      " 13%|█▎        | 38/300 [19:24<2:14:32, 30.81s/it, 1164.62/1800 seconds]"
     ]
    },
    {
     "name": "stdout",
     "output_type": "stream",
     "text": [
      "[I 2025-05-26 23:50:42,227] Trial 37 finished with values: [0.2689170241355896, 28.027708053588867] and parameters: {'learning_rate': 0.09547771954436657, 'max_depth': 3, 'n_estimators': 1420, 'subsample': 0.9728713630271226, 'tree_method': 'approx'}.\n"
     ]
    },
    {
     "name": "stderr",
     "output_type": "stream",
     "text": [
      " 13%|█▎        | 39/300 [20:16<2:41:40, 37.17s/it, 1216.62/1800 seconds]"
     ]
    },
    {
     "name": "stdout",
     "output_type": "stream",
     "text": [
      "[I 2025-05-26 23:51:34,225] Trial 38 finished with values: [0.18895480036735535, 51.98888921737671] and parameters: {'learning_rate': 0.0829021959203673, 'max_depth': 10, 'n_estimators': 1322, 'subsample': 0.6777251989368648, 'tree_method': 'approx'}.\n"
     ]
    },
    {
     "name": "stderr",
     "output_type": "stream",
     "text": [
      " 13%|█▎        | 40/300 [20:43<2:27:56, 34.14s/it, 1243.69/1800 seconds]"
     ]
    },
    {
     "name": "stdout",
     "output_type": "stream",
     "text": [
      "[I 2025-05-26 23:52:01,300] Trial 39 finished with values: [0.22077246010303497, 27.06640124320984] and parameters: {'learning_rate': 0.08004833597539303, 'max_depth': 5, 'n_estimators': 1121, 'subsample': 0.8284277468994189, 'tree_method': 'approx'}.\n"
     ]
    },
    {
     "name": "stderr",
     "output_type": "stream",
     "text": [
      " 14%|█▎        | 41/300 [21:19<2:30:09, 34.78s/it, 1279.98/1800 seconds]"
     ]
    },
    {
     "name": "stdout",
     "output_type": "stream",
     "text": [
      "[I 2025-05-26 23:52:37,589] Trial 40 finished with values: [0.19144025444984436, 36.281822204589844] and parameters: {'learning_rate': 0.17275708304586496, 'max_depth': 10, 'n_estimators': 1528, 'subsample': 0.7875019121251909, 'tree_method': 'hist'}.\n"
     ]
    },
    {
     "name": "stderr",
     "output_type": "stream",
     "text": [
      " 14%|█▍        | 42/300 [22:18<2:59:56, 41.85s/it, 1338.31/1800 seconds]"
     ]
    },
    {
     "name": "stdout",
     "output_type": "stream",
     "text": [
      "[I 2025-05-26 23:53:35,920] Trial 41 finished with values: [0.19087117910385132, 58.32288932800293] and parameters: {'learning_rate': 0.12300125887177007, 'max_depth': 8, 'n_estimators': 1871, 'subsample': 0.8588234220959124, 'tree_method': 'approx'}.\n"
     ]
    },
    {
     "name": "stderr",
     "output_type": "stream",
     "text": [
      " 14%|█▍        | 43/300 [22:29<2:20:22, 32.77s/it, 1349.91/1800 seconds]"
     ]
    },
    {
     "name": "stdout",
     "output_type": "stream",
     "text": [
      "[I 2025-05-26 23:53:47,514] Trial 42 finished with values: [0.26157498359680176, 11.589125156402588] and parameters: {'learning_rate': 0.22077696667706656, 'max_depth': 3, 'n_estimators': 848, 'subsample': 0.9519702173194657, 'tree_method': 'hist'}.\n"
     ]
    },
    {
     "name": "stderr",
     "output_type": "stream",
     "text": [
      " 15%|█▍        | 44/300 [23:05<2:22:49, 33.47s/it, 1385.02/1800 seconds]"
     ]
    },
    {
     "name": "stdout",
     "output_type": "stream",
     "text": [
      "[I 2025-05-26 23:54:22,629] Trial 43 finished with values: [0.19302062690258026, 35.10772895812988] and parameters: {'learning_rate': 0.12935720049723673, 'max_depth': 10, 'n_estimators': 1520, 'subsample': 0.5282066918753643, 'tree_method': 'hist'}.\n"
     ]
    },
    {
     "name": "stderr",
     "output_type": "stream",
     "text": [
      " 15%|█▌        | 45/300 [23:24<2:03:56, 29.16s/it, 1404.12/1800 seconds]"
     ]
    },
    {
     "name": "stdout",
     "output_type": "stream",
     "text": [
      "[I 2025-05-26 23:54:41,729] Trial 44 finished with values: [0.26028797030448914, 19.09441900253296] and parameters: {'learning_rate': 0.027700155823378772, 'max_depth': 4, 'n_estimators': 848, 'subsample': 0.8002496230282903, 'tree_method': 'approx'}.\n"
     ]
    },
    {
     "name": "stderr",
     "output_type": "stream",
     "text": [
      " 15%|█▌        | 46/300 [24:05<2:19:31, 32.96s/it, 1445.94/1800 seconds]"
     ]
    },
    {
     "name": "stdout",
     "output_type": "stream",
     "text": [
      "[I 2025-05-26 23:55:23,550] Trial 45 finished with values: [0.20938444137573242, 41.815816164016724] and parameters: {'learning_rate': 0.040687864363570005, 'max_depth': 6, 'n_estimators': 1620, 'subsample': 0.6259794953825981, 'tree_method': 'approx'}.\n"
     ]
    },
    {
     "name": "stderr",
     "output_type": "stream",
     "text": [
      " 16%|█▌        | 47/300 [24:17<1:51:56, 26.55s/it, 1457.52/1800 seconds]"
     ]
    },
    {
     "name": "stdout",
     "output_type": "stream",
     "text": [
      "[I 2025-05-26 23:55:35,131] Trial 46 finished with values: [0.22008702158927917, 11.575515985488892] and parameters: {'learning_rate': 0.16087560398596976, 'max_depth': 5, 'n_estimators': 718, 'subsample': 0.6790804593783384, 'tree_method': 'hist'}.\n"
     ]
    },
    {
     "name": "stderr",
     "output_type": "stream",
     "text": [
      " 16%|█▌        | 48/300 [24:21<1:22:45, 19.70s/it, 1461.26/1800 seconds]"
     ]
    },
    {
     "name": "stdout",
     "output_type": "stream",
     "text": [
      "[I 2025-05-26 23:55:38,866] Trial 47 finished with values: [0.3039625585079193, 3.7301418781280518] and parameters: {'learning_rate': 0.08003152898676104, 'max_depth': 3, 'n_estimators': 152, 'subsample': 0.7538443893511688, 'tree_method': 'approx'}.\n"
     ]
    },
    {
     "name": "stderr",
     "output_type": "stream",
     "text": [
      " 16%|█▋        | 49/300 [24:40<1:22:26, 19.71s/it, 1480.98/1800 seconds]"
     ]
    },
    {
     "name": "stdout",
     "output_type": "stream",
     "text": [
      "[I 2025-05-26 23:55:58,588] Trial 48 finished with values: [0.2378084510564804, 19.717205047607422] and parameters: {'learning_rate': 0.26748350803395426, 'max_depth': 3, 'n_estimators': 1460, 'subsample': 0.7296916537828325, 'tree_method': 'hist'}.\n"
     ]
    },
    {
     "name": "stderr",
     "output_type": "stream",
     "text": [
      " 17%|█▋        | 50/300 [24:43<1:00:56, 14.63s/it, 1483.75/1800 seconds]"
     ]
    },
    {
     "name": "stdout",
     "output_type": "stream",
     "text": [
      "[I 2025-05-26 23:56:01,361] Trial 49 finished with values: [0.2176671028137207, 2.7681679725646973] and parameters: {'learning_rate': 0.238723661451508, 'max_depth': 7, 'n_estimators': 113, 'subsample': 0.8862260958174606, 'tree_method': 'hist'}.\n"
     ]
    },
    {
     "name": "stderr",
     "output_type": "stream",
     "text": [
      " 17%|█▋        | 51/300 [25:51<2:06:30, 30.49s/it, 1551.24/1800 seconds]"
     ]
    },
    {
     "name": "stdout",
     "output_type": "stream",
     "text": [
      "[I 2025-05-26 23:57:08,847] Trial 50 finished with values: [0.19087332487106323, 67.4801709651947] and parameters: {'learning_rate': 0.14543809028245058, 'max_depth': 8, 'n_estimators': 2111, 'subsample': 0.7990275312053892, 'tree_method': 'approx'}.\n"
     ]
    },
    {
     "name": "stderr",
     "output_type": "stream",
     "text": [
      " 17%|█▋        | 52/300 [25:54<1:32:49, 22.46s/it, 1554.97/1800 seconds]"
     ]
    },
    {
     "name": "stdout",
     "output_type": "stream",
     "text": [
      "[I 2025-05-26 23:57:12,577] Trial 51 finished with values: [0.2083473950624466, 3.726151943206787] and parameters: {'learning_rate': 0.29488201434531636, 'max_depth': 9, 'n_estimators': 143, 'subsample': 0.7024238952212076, 'tree_method': 'hist'}.\n"
     ]
    },
    {
     "name": "stderr",
     "output_type": "stream",
     "text": [
      " 18%|█▊        | 53/300 [26:56<2:20:29, 34.13s/it, 1616.32/1800 seconds]"
     ]
    },
    {
     "name": "stdout",
     "output_type": "stream",
     "text": [
      "[I 2025-05-26 23:58:13,931] Trial 52 finished with values: [0.19056962430477142, 61.346035957336426] and parameters: {'learning_rate': 0.040687864363570005, 'max_depth': 10, 'n_estimators': 1620, 'subsample': 0.6259794953825981, 'tree_method': 'approx'}.\n"
     ]
    },
    {
     "name": "stderr",
     "output_type": "stream",
     "text": [
      " 18%|█▊        | 54/300 [27:32<2:22:01, 34.64s/it, 1652.15/1800 seconds]"
     ]
    },
    {
     "name": "stdout",
     "output_type": "stream",
     "text": [
      "[I 2025-05-26 23:58:49,763] Trial 53 finished with values: [0.1973111480474472, 35.82461881637573] and parameters: {'learning_rate': 0.26748350803395426, 'max_depth': 10, 'n_estimators': 1460, 'subsample': 0.7801612325049061, 'tree_method': 'hist'}.\n"
     ]
    },
    {
     "name": "stderr",
     "output_type": "stream",
     "text": [
      " 18%|█▊        | 55/300 [28:12<2:28:10, 36.29s/it, 1692.30/1800 seconds]"
     ]
    },
    {
     "name": "stdout",
     "output_type": "stream",
     "text": [
      "[I 2025-05-26 23:59:29,904] Trial 54 finished with values: [0.23195575177669525, 40.13531303405762] and parameters: {'learning_rate': 0.1829535499752315, 'max_depth': 3, 'n_estimators': 2190, 'subsample': 0.9282599614942851, 'tree_method': 'approx'}.\n"
     ]
    },
    {
     "name": "stderr",
     "output_type": "stream",
     "text": [
      " 19%|█▊        | 56/300 [28:31<2:07:16, 31.30s/it, 1711.95/1800 seconds]"
     ]
    },
    {
     "name": "stdout",
     "output_type": "stream",
     "text": [
      "[I 2025-05-26 23:59:49,558] Trial 55 finished with values: [0.22089450061321259, 19.648049116134644] and parameters: {'learning_rate': 0.12284641402816608, 'max_depth': 5, 'n_estimators': 1271, 'subsample': 0.7046377101997628, 'tree_method': 'hist'}.\n"
     ]
    },
    {
     "name": "stderr",
     "output_type": "stream",
     "text": [
      " 19%|█▉        | 57/300 [28:48<1:48:54, 26.89s/it, 1728.55/1800 seconds]"
     ]
    },
    {
     "name": "stdout",
     "output_type": "stream",
     "text": [
      "[I 2025-05-27 00:00:06,161] Trial 56 finished with values: [0.21419674158096313, 16.596821069717407] and parameters: {'learning_rate': 0.22187776247183813, 'max_depth': 6, 'n_estimators': 591, 'subsample': 0.6583365141829998, 'tree_method': 'approx'}.\n"
     ]
    },
    {
     "name": "stderr",
     "output_type": "stream",
     "text": [
      " 19%|█▉        | 58/300 [29:10<1:42:10, 25.33s/it, 1750.26/1800 seconds]"
     ]
    },
    {
     "name": "stdout",
     "output_type": "stream",
     "text": [
      "[I 2025-05-27 00:00:27,863] Trial 57 finished with values: [0.2016533464193344, 21.6920907497406] and parameters: {'learning_rate': 0.2895041274105668, 'max_depth': 12, 'n_estimators': 718, 'subsample': 0.6425400116921755, 'tree_method': 'hist'}.\n"
     ]
    },
    {
     "name": "stderr",
     "output_type": "stream",
     "text": [
      " 20%|█▉        | 59/300 [29:19<1:22:49, 20.62s/it, 1759.88/1800 seconds]"
     ]
    },
    {
     "name": "stdout",
     "output_type": "stream",
     "text": [
      "[I 2025-05-27 00:00:37,488] Trial 58 finished with values: [0.23619423806667328, 9.619578838348389] and parameters: {'learning_rate': 0.05037736187604336, 'max_depth': 5, 'n_estimators': 542, 'subsample': 0.7801612325049061, 'tree_method': 'hist'}.\n"
     ]
    },
    {
     "name": "stderr",
     "output_type": "stream",
     "text": [
      " 20%|██        | 60/300 [29:26<1:05:31, 16.38s/it, 1766.37/1800 seconds]"
     ]
    },
    {
     "name": "stdout",
     "output_type": "stream",
     "text": [
      "[I 2025-05-27 00:00:43,976] Trial 59 finished with values: [0.19266530871391296, 6.4821083545684814] and parameters: {'learning_rate': 0.18333050175611607, 'max_depth': 12, 'n_estimators': 207, 'subsample': 0.8734763118589377, 'tree_method': 'hist'}.\n"
     ]
    },
    {
     "name": "stderr",
     "output_type": "stream",
     "text": [
      " 20%|██        | 61/300 [29:34<55:55, 14.04s/it, 1774.95/1800 seconds]  "
     ]
    },
    {
     "name": "stdout",
     "output_type": "stream",
     "text": [
      "[I 2025-05-27 00:00:52,555] Trial 60 finished with values: [0.19246293604373932, 8.57093596458435] and parameters: {'learning_rate': 0.12284641402816608, 'max_depth': 12, 'n_estimators': 265, 'subsample': 0.7046377101997628, 'tree_method': 'hist'}.\n"
     ]
    },
    {
     "name": "stderr",
     "output_type": "stream",
     "text": [
      " 21%|██        | 62/300 [30:00<1:55:12, 29.04s/it, 1800.65/1800 seconds]\n"
     ]
    },
    {
     "name": "stdout",
     "output_type": "stream",
     "text": [
      "[I 2025-05-27 00:01:18,255] Trial 61 finished with values: [0.24867834150791168, 25.69218897819519] and parameters: {'learning_rate': 0.19132571928190817, 'max_depth': 3, 'n_estimators': 1285, 'subsample': 0.7296916537828325, 'tree_method': 'approx'}.\n",
      "Mean Absolute Error (MAE): 6011.3967715370145\n",
      "Mean Squared Error (MSE): 86203927.48737396\n",
      "Root Mean Squared Error (RMSE): 9284.607018467392\n",
      "R-squared (Coefficient of Determination): 0.8621614432988232\n",
      "Root Mean Squared Log Error (RMSLE): 0.24227875279852001 - Metric used in competition\n"
     ]
    },
    {
     "name": "stderr",
     "output_type": "stream",
     "text": [
      "\u001b[31m2025/05/27 00:01:35 WARNING mlflow.models.model: Model logged without a signature and input example. Please set `input_example` parameter when logging the model to auto infer the model signature.\u001b[0m\n"
     ]
    }
   ],
   "source": [
    "# Create study\n",
    "study = optuna.create_study(directions=[\"minimize\", \"minimize\"])\n",
    "study.optimize(objective, n_trials=300, timeout=1800, show_progress_bar=True) # set n_trials to higher when doing final training and summary\n",
    "\n",
    "# For multi-objective, get the list of best trials on the Pareto front\n",
    "best_trials = study.best_trials\n",
    "\n",
    "# Extract RMSLE and training_time from best trials\n",
    "rmsle_values = [t.values[0] for t in best_trials]\n",
    "time_values = [t.values[1] for t in best_trials]\n",
    "\n",
    "# Normalize function to scale list to [0,1]\n",
    "def normalize(lst):\n",
    "    min_val, max_val = min(lst), max(lst)\n",
    "    if max_val == min_val:\n",
    "        return [0.0 for _ in lst]  # avoid division by zero if all equal\n",
    "    return [(x - min_val) / (max_val - min_val) for x in lst]\n",
    "\n",
    "rmsle_norm = normalize(rmsle_values)\n",
    "time_norm = normalize(time_values)\n",
    "\n",
    "alpha = 0.7  # weight for RMSLE vs training time\n",
    "\n",
    "# Compute combined score for each trial\n",
    "scores = [alpha * r + (1 - alpha) * t for r, t in zip(rmsle_norm, time_norm)]\n",
    "\n",
    "# Get the trial with the lowest combined score\n",
    "best_index = scores.index(min(scores))\n",
    "best_trial = best_trials[best_index]\n",
    "best_params = best_trial.params\n",
    "\n",
    "# Train final model with best parameters\n",
    "experiment = mlflow.set_experiment(\"Bluebook_for_bulldozers_XGBoost\")\n",
    "with mlflow.start_run(experiment_id=experiment.experiment_id):\n",
    "    mlflow.log_params(best_params)\n",
    "\n",
    "# Log tags\n",
    "    mlflow.set_tags(\n",
    "        tags={\n",
    "            \"project\": \"Bluebook for Bulldozers\",\n",
    "            \"optimizer_engine\": \"optuna\",\n",
    "            \"model_family\": \"xgboost\",\n",
    "            \"feature_set_version\": 1,\n",
    "        }\n",
    "    )\n",
    "    \n",
    "    # Train final model\n",
    "    final_pipeline = Pipeline([\n",
    "        ('xgb', XGBRegressor(**best_params))\n",
    "    ])\n",
    "    final_pipeline.fit(X_train, y_train)\n",
    "    y_pred = final_pipeline.predict(X_test)\n",
    "\n",
    "    # Calculate metrics\n",
    "    mae = mean_absolute_error(y_test, y_pred)\n",
    "    mse = mean_squared_error(y_test, y_pred)\n",
    "    rmse = np.sqrt(mse)\n",
    "    r2 = r2_score(y_test, y_pred)\n",
    "    rmsle = root_mean_squared_log_error(y_test, y_pred)\n",
    "\n",
    "    # Log metrics\n",
    "    mlflow.log_metrics({\n",
    "        \"MAE\": mae,\n",
    "        \"MSE\": mse,\n",
    "        \"RMSE\": rmse,\n",
    "        \"R2\": r2,\n",
    "        \"RMSLE\": rmsle\n",
    "    })\n",
    "\n",
    "    print(f\"Mean Absolute Error (MAE): {mae}\")\n",
    "    print(f\"Mean Squared Error (MSE): {mse}\")\n",
    "    print(f\"Root Mean Squared Error (RMSE): {rmse}\")\n",
    "    print(f\"R-squared (Coefficient of Determination): {r2}\")\n",
    "    print(f\"Root Mean Squared Log Error (RMSLE): {rmsle} - Metric used in competition\")\n",
    "    mlflow.sklearn.log_model(final_pipeline, \"model\")\n",
    "\n",
    "    # Create and log visualization\n",
    "    plt.scatter(y_test, y_pred, alpha=0.7)\n",
    "    plt.plot([y_test.min(), y_test.max()], [y_test.min(), y_test.max()], color='red', linestyle='--', linewidth=2)\n",
    "    plt.xlabel('Actual Values')\n",
    "    plt.ylabel('Predicted Values')\n",
    "    plt.title('Actual vs Predicted')\n",
    "    plt.grid(True)\n",
    "    plt.axis('equal')\n",
    "    plt.tight_layout()\n",
    "    actual_vs_predicted_path = \"actual_vs_predicted.png\"\n",
    "    plt.savefig(actual_vs_predicted_path)\n",
    "    plt.close()\n",
    "\n",
    "    mlflow.log_artifact(actual_vs_predicted_path)\n",
    "    os.remove(actual_vs_predicted_path)"
   ]
  },
  {
   "cell_type": "code",
   "execution_count": 14,
   "metadata": {},
   "outputs": [
    {
     "data": {
      "application/vnd.plotly.v1+json": {
       "config": {
        "plotlyServerURL": "https://plot.ly"
       },
       "data": [
        {
         "hovertemplate": "%{text}<extra>Trial</extra>",
         "marker": {
          "color": [
           0,
           1,
           2,
           3,
           4,
           5,
           6,
           7,
           8,
           9,
           10,
           11,
           12,
           13,
           14,
           15,
           16,
           17,
           20,
           21,
           22,
           23,
           24,
           25,
           26,
           27,
           28,
           29,
           30,
           31,
           32,
           33,
           35,
           36,
           37,
           38,
           39,
           40,
           41,
           42,
           43,
           44,
           45,
           46,
           47,
           48,
           50,
           52,
           53,
           54,
           55,
           56,
           57,
           58,
           61
          ],
          "colorbar": {
           "title": {
            "text": "Trial"
           }
          },
          "colorscale": [
           [
            0,
            "rgb(247,251,255)"
           ],
           [
            0.125,
            "rgb(222,235,247)"
           ],
           [
            0.25,
            "rgb(198,219,239)"
           ],
           [
            0.375,
            "rgb(158,202,225)"
           ],
           [
            0.5,
            "rgb(107,174,214)"
           ],
           [
            0.625,
            "rgb(66,146,198)"
           ],
           [
            0.75,
            "rgb(33,113,181)"
           ],
           [
            0.875,
            "rgb(8,81,156)"
           ],
           [
            1,
            "rgb(8,48,107)"
           ]
          ],
          "line": {
           "color": "Grey",
           "width": 0.5
          }
         },
         "mode": "markers",
         "showlegend": false,
         "text": [
          "{<br>  \"number\": 0,<br>  \"values\": [<br>    0.25045686960220337,<br>    22.50075626373291<br>  ],<br>  \"params\": {<br>    \"learning_rate\": 0.13732680473655495,<br>    \"max_depth\": 3,<br>    \"n_estimators\": 1639,<br>    \"subsample\": 0.5738291002648241,<br>    \"tree_method\": \"hist\"<br>  }<br>}",
          "{<br>  \"number\": 1,<br>  \"values\": [<br>    0.21005627512931824,<br>    21.25073528289795<br>  ],<br>  \"params\": {<br>    \"learning_rate\": 0.023208347581707246,<br>    \"max_depth\": 9,<br>    \"n_estimators\": 415,<br>    \"subsample\": 0.7658909751428908,<br>    \"tree_method\": \"approx\"<br>  }<br>}",
          "{<br>  \"number\": 2,<br>  \"values\": [<br>    0.20836488902568817,<br>    9.378645896911621<br>  ],<br>  \"params\": {<br>    \"learning_rate\": 0.18789432350242016,<br>    \"max_depth\": 7,<br>    \"n_estimators\": 245,<br>    \"subsample\": 0.7763095825658259,<br>    \"tree_method\": \"approx\"<br>  }<br>}",
          "{<br>  \"number\": 3,<br>  \"values\": [<br>    0.19750139117240906,<br>    10.050092220306396<br>  ],<br>  \"params\": {<br>    \"learning_rate\": 0.18333050175611607,<br>    \"max_depth\": 10,<br>    \"n_estimators\": 207,<br>    \"subsample\": 0.8734763118589377,<br>    \"tree_method\": \"approx\"<br>  }<br>}",
          "{<br>  \"number\": 4,<br>  \"values\": [<br>    0.20077775418758392,<br>    28.001131057739258<br>  ],<br>  \"params\": {<br>    \"learning_rate\": 0.25297634913736483,<br>    \"max_depth\": 8,<br>    \"n_estimators\": 1333,<br>    \"subsample\": 0.6250314876865684,<br>    \"tree_method\": \"hist\"<br>  }<br>}",
          "{<br>  \"number\": 5,<br>  \"values\": [<br>    0.19321498274803162,<br>    82.73339319229126<br>  ],<br>  \"params\": {<br>    \"learning_rate\": 0.18595026700824854,<br>    \"max_depth\": 12,<br>    \"n_estimators\": 1509,<br>    \"subsample\": 0.6952389176684743,<br>    \"tree_method\": \"approx\"<br>  }<br>}",
          "{<br>  \"number\": 6,<br>  \"values\": [<br>    0.20439110696315765,<br>    10.904398202896118<br>  ],<br>  \"params\": {<br>    \"learning_rate\": 0.151765350089712,<br>    \"max_depth\": 8,<br>    \"n_estimators\": 285,<br>    \"subsample\": 0.6277453603311338,<br>    \"tree_method\": \"approx\"<br>  }<br>}",
          "{<br>  \"number\": 7,<br>  \"values\": [<br>    0.21170563995838165,<br>    28.228970289230347<br>  ],<br>  \"params\": {<br>    \"learning_rate\": 0.2337662524484023,<br>    \"max_depth\": 5,<br>    \"n_estimators\": 1643,<br>    \"subsample\": 0.7352382622073137,<br>    \"tree_method\": \"hist\"<br>  }<br>}",
          "{<br>  \"number\": 8,<br>  \"values\": [<br>    0.202654629945755,<br>    17.97351098060608<br>  ],<br>  \"params\": {<br>    \"learning_rate\": 0.2837407936188199,<br>    \"max_depth\": 12,<br>    \"n_estimators\": 568,<br>    \"subsample\": 0.5568850153643141,<br>    \"tree_method\": \"hist\"<br>  }<br>}",
          "{<br>  \"number\": 9,<br>  \"values\": [<br>    0.2749067544937134,<br>    22.90506601333618<br>  ],<br>  \"params\": {<br>    \"learning_rate\": 0.12488621453711636,<br>    \"max_depth\": 3,<br>    \"n_estimators\": 1049,<br>    \"subsample\": 0.8843428929468684,<br>    \"tree_method\": \"approx\"<br>  }<br>}",
          "{<br>  \"number\": 10,<br>  \"values\": [<br>    0.1955977827310562,<br>    13.808770179748535<br>  ],<br>  \"params\": {<br>    \"learning_rate\": 0.24353299226917016,<br>    \"max_depth\": 10,<br>    \"n_estimators\": 542,<br>    \"subsample\": 0.7801612325049061,<br>    \"tree_method\": \"hist\"<br>  }<br>}",
          "{<br>  \"number\": 11,<br>  \"values\": [<br>    0.18996642529964447,<br>    43.78955698013306<br>  ],<br>  \"params\": {<br>    \"learning_rate\": 0.05037736187604336,<br>    \"max_depth\": 11,<br>    \"n_estimators\": 954,<br>    \"subsample\": 0.9765964708545455,<br>    \"tree_method\": \"approx\"<br>  }<br>}",
          "{<br>  \"number\": 12,<br>  \"values\": [<br>    0.19159244000911713,<br>    52.83273005485535<br>  ],<br>  \"params\": {<br>    \"learning_rate\": 0.14543809028245058,<br>    \"max_depth\": 8,<br>    \"n_estimators\": 1513,<br>    \"subsample\": 0.7990275312053892,<br>    \"tree_method\": \"approx\"<br>  }<br>}",
          "{<br>  \"number\": 13,<br>  \"values\": [<br>    0.19090652465820312,<br>    74.7643780708313<br>  ],<br>  \"params\": {<br>    \"learning_rate\": 0.16175863413456942,<br>    \"max_depth\": 9,<br>    \"n_estimators\": 1805,<br>    \"subsample\": 0.7024238952212076,<br>    \"tree_method\": \"approx\"<br>  }<br>}",
          "{<br>  \"number\": 14,<br>  \"values\": [<br>    0.2272036224603653,<br>    26.51832413673401<br>  ],<br>  \"params\": {<br>    \"learning_rate\": 0.2493927986508543,<br>    \"max_depth\": 4,<br>    \"n_estimators\": 1076,<br>    \"subsample\": 0.672508180092818,<br>    \"tree_method\": \"approx\"<br>  }<br>}",
          "{<br>  \"number\": 15,<br>  \"values\": [<br>    0.22941075265407562,<br>    15.405494928359985<br>  ],<br>  \"params\": {<br>    \"learning_rate\": 0.22187776247183813,<br>    \"max_depth\": 5,<br>    \"n_estimators\": 591,<br>    \"subsample\": 0.6583365141829998,<br>    \"tree_method\": \"approx\"<br>  }<br>}",
          "{<br>  \"number\": 16,<br>  \"values\": [<br>    0.2168622612953186,<br>    45.150007009506226<br>  ],<br>  \"params\": {<br>    \"learning_rate\": 0.03488547055882072,<br>    \"max_depth\": 6,<br>    \"n_estimators\": 1570,<br>    \"subsample\": 0.7792840429268046,<br>    \"tree_method\": \"approx\"<br>  }<br>}",
          "{<br>  \"number\": 17,<br>  \"values\": [<br>    0.1890956312417984,<br>    43.63138008117676<br>  ],<br>  \"params\": {<br>    \"learning_rate\": 0.09160181103750953,<br>    \"max_depth\": 11,<br>    \"n_estimators\": 1645,<br>    \"subsample\": 0.5562230317090869,<br>    \"tree_method\": \"hist\"<br>  }<br>}",
          "{<br>  \"number\": 20,<br>  \"values\": [<br>    0.2906762957572937,<br>    16.364314079284668<br>  ],<br>  \"params\": {<br>    \"learning_rate\": 0.10876336494188724,<br>    \"max_depth\": 3,<br>    \"n_estimators\": 1121,<br>    \"subsample\": 0.7130697626066065,<br>    \"tree_method\": \"hist\"<br>  }<br>}",
          "{<br>  \"number\": 21,<br>  \"values\": [<br>    0.19659718871116638,<br>    43.403939962387085<br>  ],<br>  \"params\": {<br>    \"learning_rate\": 0.15248023393206517,<br>    \"max_depth\": 7,<br>    \"n_estimators\": 1482,<br>    \"subsample\": 0.6486029107101454,<br>    \"tree_method\": \"approx\"<br>  }<br>}",
          "{<br>  \"number\": 22,<br>  \"values\": [<br>    0.19117194414138794,<br>    17.00648593902588<br>  ],<br>  \"params\": {<br>    \"learning_rate\": 0.0900735411734131,<br>    \"max_depth\": 10,<br>    \"n_estimators\": 713,<br>    \"subsample\": 0.7995825479195724,<br>    \"tree_method\": \"hist\"<br>  }<br>}",
          "{<br>  \"number\": 23,<br>  \"values\": [<br>    0.19046112895011902,<br>    98.11058807373047<br>  ],<br>  \"params\": {<br>    \"learning_rate\": 0.1946960495426151,<br>    \"max_depth\": 11,<br>    \"n_estimators\": 2190,<br>    \"subsample\": 0.9282599614942851,<br>    \"tree_method\": \"approx\"<br>  }<br>}",
          "{<br>  \"number\": 24,<br>  \"values\": [<br>    0.21793489158153534,<br>    37.34142208099365<br>  ],<br>  \"params\": {<br>    \"learning_rate\": 0.023740583655367728,<br>    \"max_depth\": 6,<br>    \"n_estimators\": 1315,<br>    \"subsample\": 0.5450702800775289,<br>    \"tree_method\": \"approx\"<br>  }<br>}",
          "{<br>  \"number\": 25,<br>  \"values\": [<br>    0.19023564457893372,<br>    51.465742111206055<br>  ],<br>  \"params\": {<br>    \"learning_rate\": 0.19132571928190817,<br>    \"max_depth\": 10,<br>    \"n_estimators\": 1285,<br>    \"subsample\": 0.8445935050709863,<br>    \"tree_method\": \"approx\"<br>  }<br>}",
          "{<br>  \"number\": 26,<br>  \"values\": [<br>    0.3267061114311218,<br>    3.549989700317383<br>  ],<br>  \"params\": {<br>    \"learning_rate\": 0.2875354351821902,<br>    \"max_depth\": 3,<br>    \"n_estimators\": 146,<br>    \"subsample\": 0.756833417563748,<br>    \"tree_method\": \"approx\"<br>  }<br>}",
          "{<br>  \"number\": 27,<br>  \"values\": [<br>    0.19553227722644806,<br>    75.88543891906738<br>  ],<br>  \"params\": {<br>    \"learning_rate\": 0.20977171734169275,<br>    \"max_depth\": 9,<br>    \"n_estimators\": 2044,<br>    \"subsample\": 0.7925380272364397,<br>    \"tree_method\": \"approx\"<br>  }<br>}",
          "{<br>  \"number\": 28,<br>  \"values\": [<br>    0.19833526015281677,<br>    6.950299024581909<br>  ],<br>  \"params\": {<br>    \"learning_rate\": 0.29488201434531636,<br>    \"max_depth\": 11,<br>    \"n_estimators\": 240,<br>    \"subsample\": 0.8462114923665145,<br>    \"tree_method\": \"hist\"<br>  }<br>}",
          "{<br>  \"number\": 29,<br>  \"values\": [<br>    0.3070330321788788,<br>    7.501520872116089<br>  ],<br>  \"params\": {<br>    \"learning_rate\": 0.19752154185669837,<br>    \"max_depth\": 3,<br>    \"n_estimators\": 485,<br>    \"subsample\": 0.6251844060955963,<br>    \"tree_method\": \"hist\"<br>  }<br>}",
          "{<br>  \"number\": 30,<br>  \"values\": [<br>    0.3095455765724182,<br>    4.3909900188446045<br>  ],<br>  \"params\": {<br>    \"learning_rate\": 0.21398736448915745,<br>    \"max_depth\": 3,<br>    \"n_estimators\": 265,<br>    \"subsample\": 0.9482237575168802,<br>    \"tree_method\": \"hist\"<br>  }<br>}",
          "{<br>  \"number\": 31,<br>  \"values\": [<br>    0.20635974407196045,<br>    23.20824885368347<br>  ],<br>  \"params\": {<br>    \"learning_rate\": 0.22748606398175117,<br>    \"max_depth\": 10,<br>    \"n_estimators\": 566,<br>    \"subsample\": 0.5296427669545487,<br>    \"tree_method\": \"approx\"<br>  }<br>}",
          "{<br>  \"number\": 32,<br>  \"values\": [<br>    0.20180994272232056,<br>    11.227600812911987<br>  ],<br>  \"params\": {<br>    \"learning_rate\": 0.1392924426334572,<br>    \"max_depth\": 7,<br>    \"n_estimators\": 590,<br>    \"subsample\": 0.788661833333151,<br>    \"tree_method\": \"hist\"<br>  }<br>}",
          "{<br>  \"number\": 33,<br>  \"values\": [<br>    0.2195456326007843,<br>    18.903449058532715<br>  ],<br>  \"params\": {<br>    \"learning_rate\": 0.043179462478558105,<br>    \"max_depth\": 6,<br>    \"n_estimators\": 652,<br>    \"subsample\": 0.9354359073676042,<br>    \"tree_method\": \"approx\"<br>  }<br>}",
          "{<br>  \"number\": 35,<br>  \"values\": [<br>    0.22683148086071014,<br>    20.326760053634644<br>  ],<br>  \"params\": {<br>    \"learning_rate\": 0.20834471806889163,<br>    \"max_depth\": 4,<br>    \"n_estimators\": 1246,<br>    \"subsample\": 0.7872127360741685,<br>    \"tree_method\": \"hist\"<br>  }<br>}",
          "{<br>  \"number\": 36,<br>  \"values\": [<br>    0.19298844039440155,<br>    40.268352031707764<br>  ],<br>  \"params\": {<br>    \"learning_rate\": 0.19544311376639345,<br>    \"max_depth\": 12,<br>    \"n_estimators\": 1330,<br>    \"subsample\": 0.7550907135813086,<br>    \"tree_method\": \"hist\"<br>  }<br>}",
          "{<br>  \"number\": 37,<br>  \"values\": [<br>    0.2689170241355896,<br>    28.027708053588867<br>  ],<br>  \"params\": {<br>    \"learning_rate\": 0.09547771954436657,<br>    \"max_depth\": 3,<br>    \"n_estimators\": 1420,<br>    \"subsample\": 0.9728713630271226,<br>    \"tree_method\": \"approx\"<br>  }<br>}",
          "{<br>  \"number\": 38,<br>  \"values\": [<br>    0.18895480036735535,<br>    51.98888921737671<br>  ],<br>  \"params\": {<br>    \"learning_rate\": 0.0829021959203673,<br>    \"max_depth\": 10,<br>    \"n_estimators\": 1322,<br>    \"subsample\": 0.6777251989368648,<br>    \"tree_method\": \"approx\"<br>  }<br>}",
          "{<br>  \"number\": 39,<br>  \"values\": [<br>    0.22077246010303497,<br>    27.06640124320984<br>  ],<br>  \"params\": {<br>    \"learning_rate\": 0.08004833597539303,<br>    \"max_depth\": 5,<br>    \"n_estimators\": 1121,<br>    \"subsample\": 0.8284277468994189,<br>    \"tree_method\": \"approx\"<br>  }<br>}",
          "{<br>  \"number\": 40,<br>  \"values\": [<br>    0.19144025444984436,<br>    36.281822204589844<br>  ],<br>  \"params\": {<br>    \"learning_rate\": 0.17275708304586496,<br>    \"max_depth\": 10,<br>    \"n_estimators\": 1528,<br>    \"subsample\": 0.7875019121251909,<br>    \"tree_method\": \"hist\"<br>  }<br>}",
          "{<br>  \"number\": 41,<br>  \"values\": [<br>    0.19087117910385132,<br>    58.32288932800293<br>  ],<br>  \"params\": {<br>    \"learning_rate\": 0.12300125887177007,<br>    \"max_depth\": 8,<br>    \"n_estimators\": 1871,<br>    \"subsample\": 0.8588234220959124,<br>    \"tree_method\": \"approx\"<br>  }<br>}",
          "{<br>  \"number\": 42,<br>  \"values\": [<br>    0.26157498359680176,<br>    11.589125156402588<br>  ],<br>  \"params\": {<br>    \"learning_rate\": 0.22077696667706656,<br>    \"max_depth\": 3,<br>    \"n_estimators\": 848,<br>    \"subsample\": 0.9519702173194657,<br>    \"tree_method\": \"hist\"<br>  }<br>}",
          "{<br>  \"number\": 43,<br>  \"values\": [<br>    0.19302062690258026,<br>    35.10772895812988<br>  ],<br>  \"params\": {<br>    \"learning_rate\": 0.12935720049723673,<br>    \"max_depth\": 10,<br>    \"n_estimators\": 1520,<br>    \"subsample\": 0.5282066918753643,<br>    \"tree_method\": \"hist\"<br>  }<br>}",
          "{<br>  \"number\": 44,<br>  \"values\": [<br>    0.26028797030448914,<br>    19.09441900253296<br>  ],<br>  \"params\": {<br>    \"learning_rate\": 0.027700155823378772,<br>    \"max_depth\": 4,<br>    \"n_estimators\": 848,<br>    \"subsample\": 0.8002496230282903,<br>    \"tree_method\": \"approx\"<br>  }<br>}",
          "{<br>  \"number\": 45,<br>  \"values\": [<br>    0.20938444137573242,<br>    41.815816164016724<br>  ],<br>  \"params\": {<br>    \"learning_rate\": 0.040687864363570005,<br>    \"max_depth\": 6,<br>    \"n_estimators\": 1620,<br>    \"subsample\": 0.6259794953825981,<br>    \"tree_method\": \"approx\"<br>  }<br>}",
          "{<br>  \"number\": 46,<br>  \"values\": [<br>    0.22008702158927917,<br>    11.575515985488892<br>  ],<br>  \"params\": {<br>    \"learning_rate\": 0.16087560398596976,<br>    \"max_depth\": 5,<br>    \"n_estimators\": 718,<br>    \"subsample\": 0.6790804593783384,<br>    \"tree_method\": \"hist\"<br>  }<br>}",
          "{<br>  \"number\": 47,<br>  \"values\": [<br>    0.3039625585079193,<br>    3.7301418781280518<br>  ],<br>  \"params\": {<br>    \"learning_rate\": 0.08003152898676104,<br>    \"max_depth\": 3,<br>    \"n_estimators\": 152,<br>    \"subsample\": 0.7538443893511688,<br>    \"tree_method\": \"approx\"<br>  }<br>}",
          "{<br>  \"number\": 48,<br>  \"values\": [<br>    0.2378084510564804,<br>    19.717205047607422<br>  ],<br>  \"params\": {<br>    \"learning_rate\": 0.26748350803395426,<br>    \"max_depth\": 3,<br>    \"n_estimators\": 1460,<br>    \"subsample\": 0.7296916537828325,<br>    \"tree_method\": \"hist\"<br>  }<br>}",
          "{<br>  \"number\": 50,<br>  \"values\": [<br>    0.19087332487106323,<br>    67.4801709651947<br>  ],<br>  \"params\": {<br>    \"learning_rate\": 0.14543809028245058,<br>    \"max_depth\": 8,<br>    \"n_estimators\": 2111,<br>    \"subsample\": 0.7990275312053892,<br>    \"tree_method\": \"approx\"<br>  }<br>}",
          "{<br>  \"number\": 52,<br>  \"values\": [<br>    0.19056962430477142,<br>    61.346035957336426<br>  ],<br>  \"params\": {<br>    \"learning_rate\": 0.040687864363570005,<br>    \"max_depth\": 10,<br>    \"n_estimators\": 1620,<br>    \"subsample\": 0.6259794953825981,<br>    \"tree_method\": \"approx\"<br>  }<br>}",
          "{<br>  \"number\": 53,<br>  \"values\": [<br>    0.1973111480474472,<br>    35.82461881637573<br>  ],<br>  \"params\": {<br>    \"learning_rate\": 0.26748350803395426,<br>    \"max_depth\": 10,<br>    \"n_estimators\": 1460,<br>    \"subsample\": 0.7801612325049061,<br>    \"tree_method\": \"hist\"<br>  }<br>}",
          "{<br>  \"number\": 54,<br>  \"values\": [<br>    0.23195575177669525,<br>    40.13531303405762<br>  ],<br>  \"params\": {<br>    \"learning_rate\": 0.1829535499752315,<br>    \"max_depth\": 3,<br>    \"n_estimators\": 2190,<br>    \"subsample\": 0.9282599614942851,<br>    \"tree_method\": \"approx\"<br>  }<br>}",
          "{<br>  \"number\": 55,<br>  \"values\": [<br>    0.22089450061321259,<br>    19.648049116134644<br>  ],<br>  \"params\": {<br>    \"learning_rate\": 0.12284641402816608,<br>    \"max_depth\": 5,<br>    \"n_estimators\": 1271,<br>    \"subsample\": 0.7046377101997628,<br>    \"tree_method\": \"hist\"<br>  }<br>}",
          "{<br>  \"number\": 56,<br>  \"values\": [<br>    0.21419674158096313,<br>    16.596821069717407<br>  ],<br>  \"params\": {<br>    \"learning_rate\": 0.22187776247183813,<br>    \"max_depth\": 6,<br>    \"n_estimators\": 591,<br>    \"subsample\": 0.6583365141829998,<br>    \"tree_method\": \"approx\"<br>  }<br>}",
          "{<br>  \"number\": 57,<br>  \"values\": [<br>    0.2016533464193344,<br>    21.6920907497406<br>  ],<br>  \"params\": {<br>    \"learning_rate\": 0.2895041274105668,<br>    \"max_depth\": 12,<br>    \"n_estimators\": 718,<br>    \"subsample\": 0.6425400116921755,<br>    \"tree_method\": \"hist\"<br>  }<br>}",
          "{<br>  \"number\": 58,<br>  \"values\": [<br>    0.23619423806667328,<br>    9.619578838348389<br>  ],<br>  \"params\": {<br>    \"learning_rate\": 0.05037736187604336,<br>    \"max_depth\": 5,<br>    \"n_estimators\": 542,<br>    \"subsample\": 0.7801612325049061,<br>    \"tree_method\": \"hist\"<br>  }<br>}",
          "{<br>  \"number\": 61,<br>  \"values\": [<br>    0.24867834150791168,<br>    25.69218897819519<br>  ],<br>  \"params\": {<br>    \"learning_rate\": 0.19132571928190817,<br>    \"max_depth\": 3,<br>    \"n_estimators\": 1285,<br>    \"subsample\": 0.7296916537828325,<br>    \"tree_method\": \"approx\"<br>  }<br>}"
         ],
         "type": "scatter",
         "x": [
          0.25045686960220337,
          0.21005627512931824,
          0.20836488902568817,
          0.19750139117240906,
          0.20077775418758392,
          0.19321498274803162,
          0.20439110696315765,
          0.21170563995838165,
          0.202654629945755,
          0.2749067544937134,
          0.1955977827310562,
          0.18996642529964447,
          0.19159244000911713,
          0.19090652465820312,
          0.2272036224603653,
          0.22941075265407562,
          0.2168622612953186,
          0.1890956312417984,
          0.2906762957572937,
          0.19659718871116638,
          0.19117194414138794,
          0.19046112895011902,
          0.21793489158153534,
          0.19023564457893372,
          0.3267061114311218,
          0.19553227722644806,
          0.19833526015281677,
          0.3070330321788788,
          0.3095455765724182,
          0.20635974407196045,
          0.20180994272232056,
          0.2195456326007843,
          0.22683148086071014,
          0.19298844039440155,
          0.2689170241355896,
          0.18895480036735535,
          0.22077246010303497,
          0.19144025444984436,
          0.19087117910385132,
          0.26157498359680176,
          0.19302062690258026,
          0.26028797030448914,
          0.20938444137573242,
          0.22008702158927917,
          0.3039625585079193,
          0.2378084510564804,
          0.19087332487106323,
          0.19056962430477142,
          0.1973111480474472,
          0.23195575177669525,
          0.22089450061321259,
          0.21419674158096313,
          0.2016533464193344,
          0.23619423806667328,
          0.24867834150791168
         ],
         "y": [
          22.50075626373291,
          21.25073528289795,
          9.378645896911621,
          10.050092220306396,
          28.001131057739258,
          82.73339319229126,
          10.904398202896118,
          28.228970289230347,
          17.97351098060608,
          22.90506601333618,
          13.808770179748535,
          43.78955698013306,
          52.83273005485535,
          74.7643780708313,
          26.51832413673401,
          15.405494928359985,
          45.150007009506226,
          43.63138008117676,
          16.364314079284668,
          43.403939962387085,
          17.00648593902588,
          98.11058807373047,
          37.34142208099365,
          51.465742111206055,
          3.549989700317383,
          75.88543891906738,
          6.950299024581909,
          7.501520872116089,
          4.3909900188446045,
          23.20824885368347,
          11.227600812911987,
          18.903449058532715,
          20.326760053634644,
          40.268352031707764,
          28.027708053588867,
          51.98888921737671,
          27.06640124320984,
          36.281822204589844,
          58.32288932800293,
          11.589125156402588,
          35.10772895812988,
          19.09441900253296,
          41.815816164016724,
          11.575515985488892,
          3.7301418781280518,
          19.717205047607422,
          67.4801709651947,
          61.346035957336426,
          35.82461881637573,
          40.13531303405762,
          19.648049116134644,
          16.596821069717407,
          21.6920907497406,
          9.619578838348389,
          25.69218897819519
         ]
        },
        {
         "hovertemplate": "%{text}<extra>Best Trial</extra>",
         "marker": {
          "color": [
           18,
           19,
           34,
           49,
           51,
           59,
           60
          ],
          "colorbar": {
           "title": {
            "text": "Best Trial"
           },
           "x": 1.1,
           "xpad": 40
          },
          "colorscale": [
           [
            0,
            "rgb(255,245,240)"
           ],
           [
            0.125,
            "rgb(254,224,210)"
           ],
           [
            0.25,
            "rgb(252,187,161)"
           ],
           [
            0.375,
            "rgb(252,146,114)"
           ],
           [
            0.5,
            "rgb(251,106,74)"
           ],
           [
            0.625,
            "rgb(239,59,44)"
           ],
           [
            0.75,
            "rgb(203,24,29)"
           ],
           [
            0.875,
            "rgb(165,15,21)"
           ],
           [
            1,
            "rgb(103,0,13)"
           ]
          ],
          "line": {
           "color": "Grey",
           "width": 0.5
          }
         },
         "mode": "markers",
         "showlegend": false,
         "text": [
          "{<br>  \"number\": 18,<br>  \"values\": [<br>    0.18797644972801208,<br>    15.34473991394043<br>  ],<br>  \"params\": {<br>    \"learning_rate\": 0.10448018562617127,<br>    \"max_depth\": 12,<br>    \"n_estimators\": 542,<br>    \"subsample\": 0.9713100084117161,<br>    \"tree_method\": \"hist\"<br>  }<br>}",
          "{<br>  \"number\": 19,<br>  \"values\": [<br>    0.19241541624069214,<br>    11.23447299003601<br>  ],<br>  \"params\": {<br>    \"learning_rate\": 0.16222459702513534,<br>    \"max_depth\": 12,<br>    \"n_estimators\": 196,<br>    \"subsample\": 0.9148026938706865,<br>    \"tree_method\": \"approx\"<br>  }<br>}",
          "{<br>  \"number\": 34,<br>  \"values\": [<br>    0.1874292492866516,<br>    63.89467787742615<br>  ],<br>  \"params\": {<br>    \"learning_rate\": 0.12284641402816608,<br>    \"max_depth\": 12,<br>    \"n_estimators\": 1271,<br>    \"subsample\": 0.7046377101997628,<br>    \"tree_method\": \"approx\"<br>  }<br>}",
          "{<br>  \"number\": 49,<br>  \"values\": [<br>    0.2176671028137207,<br>    2.7681679725646973<br>  ],<br>  \"params\": {<br>    \"learning_rate\": 0.238723661451508,<br>    \"max_depth\": 7,<br>    \"n_estimators\": 113,<br>    \"subsample\": 0.8862260958174606,<br>    \"tree_method\": \"hist\"<br>  }<br>}",
          "{<br>  \"number\": 51,<br>  \"values\": [<br>    0.2083473950624466,<br>    3.726151943206787<br>  ],<br>  \"params\": {<br>    \"learning_rate\": 0.29488201434531636,<br>    \"max_depth\": 9,<br>    \"n_estimators\": 143,<br>    \"subsample\": 0.7024238952212076,<br>    \"tree_method\": \"hist\"<br>  }<br>}",
          "{<br>  \"number\": 59,<br>  \"values\": [<br>    0.19266530871391296,<br>    6.4821083545684814<br>  ],<br>  \"params\": {<br>    \"learning_rate\": 0.18333050175611607,<br>    \"max_depth\": 12,<br>    \"n_estimators\": 207,<br>    \"subsample\": 0.8734763118589377,<br>    \"tree_method\": \"hist\"<br>  }<br>}",
          "{<br>  \"number\": 60,<br>  \"values\": [<br>    0.19246293604373932,<br>    8.57093596458435<br>  ],<br>  \"params\": {<br>    \"learning_rate\": 0.12284641402816608,<br>    \"max_depth\": 12,<br>    \"n_estimators\": 265,<br>    \"subsample\": 0.7046377101997628,<br>    \"tree_method\": \"hist\"<br>  }<br>}"
         ],
         "type": "scatter",
         "x": [
          0.18797644972801208,
          0.19241541624069214,
          0.1874292492866516,
          0.2176671028137207,
          0.2083473950624466,
          0.19266530871391296,
          0.19246293604373932
         ],
         "y": [
          15.34473991394043,
          11.23447299003601,
          63.89467787742615,
          2.7681679725646973,
          3.726151943206787,
          6.4821083545684814,
          8.57093596458435
         ]
        }
       ],
       "layout": {
        "template": {
         "data": {
          "bar": [
           {
            "error_x": {
             "color": "#2a3f5f"
            },
            "error_y": {
             "color": "#2a3f5f"
            },
            "marker": {
             "line": {
              "color": "#E5ECF6",
              "width": 0.5
             },
             "pattern": {
              "fillmode": "overlay",
              "size": 10,
              "solidity": 0.2
             }
            },
            "type": "bar"
           }
          ],
          "barpolar": [
           {
            "marker": {
             "line": {
              "color": "#E5ECF6",
              "width": 0.5
             },
             "pattern": {
              "fillmode": "overlay",
              "size": 10,
              "solidity": 0.2
             }
            },
            "type": "barpolar"
           }
          ],
          "carpet": [
           {
            "aaxis": {
             "endlinecolor": "#2a3f5f",
             "gridcolor": "white",
             "linecolor": "white",
             "minorgridcolor": "white",
             "startlinecolor": "#2a3f5f"
            },
            "baxis": {
             "endlinecolor": "#2a3f5f",
             "gridcolor": "white",
             "linecolor": "white",
             "minorgridcolor": "white",
             "startlinecolor": "#2a3f5f"
            },
            "type": "carpet"
           }
          ],
          "choropleth": [
           {
            "colorbar": {
             "outlinewidth": 0,
             "ticks": ""
            },
            "type": "choropleth"
           }
          ],
          "contour": [
           {
            "colorbar": {
             "outlinewidth": 0,
             "ticks": ""
            },
            "colorscale": [
             [
              0,
              "#0d0887"
             ],
             [
              0.1111111111111111,
              "#46039f"
             ],
             [
              0.2222222222222222,
              "#7201a8"
             ],
             [
              0.3333333333333333,
              "#9c179e"
             ],
             [
              0.4444444444444444,
              "#bd3786"
             ],
             [
              0.5555555555555556,
              "#d8576b"
             ],
             [
              0.6666666666666666,
              "#ed7953"
             ],
             [
              0.7777777777777778,
              "#fb9f3a"
             ],
             [
              0.8888888888888888,
              "#fdca26"
             ],
             [
              1,
              "#f0f921"
             ]
            ],
            "type": "contour"
           }
          ],
          "contourcarpet": [
           {
            "colorbar": {
             "outlinewidth": 0,
             "ticks": ""
            },
            "type": "contourcarpet"
           }
          ],
          "heatmap": [
           {
            "colorbar": {
             "outlinewidth": 0,
             "ticks": ""
            },
            "colorscale": [
             [
              0,
              "#0d0887"
             ],
             [
              0.1111111111111111,
              "#46039f"
             ],
             [
              0.2222222222222222,
              "#7201a8"
             ],
             [
              0.3333333333333333,
              "#9c179e"
             ],
             [
              0.4444444444444444,
              "#bd3786"
             ],
             [
              0.5555555555555556,
              "#d8576b"
             ],
             [
              0.6666666666666666,
              "#ed7953"
             ],
             [
              0.7777777777777778,
              "#fb9f3a"
             ],
             [
              0.8888888888888888,
              "#fdca26"
             ],
             [
              1,
              "#f0f921"
             ]
            ],
            "type": "heatmap"
           }
          ],
          "histogram": [
           {
            "marker": {
             "pattern": {
              "fillmode": "overlay",
              "size": 10,
              "solidity": 0.2
             }
            },
            "type": "histogram"
           }
          ],
          "histogram2d": [
           {
            "colorbar": {
             "outlinewidth": 0,
             "ticks": ""
            },
            "colorscale": [
             [
              0,
              "#0d0887"
             ],
             [
              0.1111111111111111,
              "#46039f"
             ],
             [
              0.2222222222222222,
              "#7201a8"
             ],
             [
              0.3333333333333333,
              "#9c179e"
             ],
             [
              0.4444444444444444,
              "#bd3786"
             ],
             [
              0.5555555555555556,
              "#d8576b"
             ],
             [
              0.6666666666666666,
              "#ed7953"
             ],
             [
              0.7777777777777778,
              "#fb9f3a"
             ],
             [
              0.8888888888888888,
              "#fdca26"
             ],
             [
              1,
              "#f0f921"
             ]
            ],
            "type": "histogram2d"
           }
          ],
          "histogram2dcontour": [
           {
            "colorbar": {
             "outlinewidth": 0,
             "ticks": ""
            },
            "colorscale": [
             [
              0,
              "#0d0887"
             ],
             [
              0.1111111111111111,
              "#46039f"
             ],
             [
              0.2222222222222222,
              "#7201a8"
             ],
             [
              0.3333333333333333,
              "#9c179e"
             ],
             [
              0.4444444444444444,
              "#bd3786"
             ],
             [
              0.5555555555555556,
              "#d8576b"
             ],
             [
              0.6666666666666666,
              "#ed7953"
             ],
             [
              0.7777777777777778,
              "#fb9f3a"
             ],
             [
              0.8888888888888888,
              "#fdca26"
             ],
             [
              1,
              "#f0f921"
             ]
            ],
            "type": "histogram2dcontour"
           }
          ],
          "mesh3d": [
           {
            "colorbar": {
             "outlinewidth": 0,
             "ticks": ""
            },
            "type": "mesh3d"
           }
          ],
          "parcoords": [
           {
            "line": {
             "colorbar": {
              "outlinewidth": 0,
              "ticks": ""
             }
            },
            "type": "parcoords"
           }
          ],
          "pie": [
           {
            "automargin": true,
            "type": "pie"
           }
          ],
          "scatter": [
           {
            "fillpattern": {
             "fillmode": "overlay",
             "size": 10,
             "solidity": 0.2
            },
            "type": "scatter"
           }
          ],
          "scatter3d": [
           {
            "line": {
             "colorbar": {
              "outlinewidth": 0,
              "ticks": ""
             }
            },
            "marker": {
             "colorbar": {
              "outlinewidth": 0,
              "ticks": ""
             }
            },
            "type": "scatter3d"
           }
          ],
          "scattercarpet": [
           {
            "marker": {
             "colorbar": {
              "outlinewidth": 0,
              "ticks": ""
             }
            },
            "type": "scattercarpet"
           }
          ],
          "scattergeo": [
           {
            "marker": {
             "colorbar": {
              "outlinewidth": 0,
              "ticks": ""
             }
            },
            "type": "scattergeo"
           }
          ],
          "scattergl": [
           {
            "marker": {
             "colorbar": {
              "outlinewidth": 0,
              "ticks": ""
             }
            },
            "type": "scattergl"
           }
          ],
          "scattermap": [
           {
            "marker": {
             "colorbar": {
              "outlinewidth": 0,
              "ticks": ""
             }
            },
            "type": "scattermap"
           }
          ],
          "scattermapbox": [
           {
            "marker": {
             "colorbar": {
              "outlinewidth": 0,
              "ticks": ""
             }
            },
            "type": "scattermapbox"
           }
          ],
          "scatterpolar": [
           {
            "marker": {
             "colorbar": {
              "outlinewidth": 0,
              "ticks": ""
             }
            },
            "type": "scatterpolar"
           }
          ],
          "scatterpolargl": [
           {
            "marker": {
             "colorbar": {
              "outlinewidth": 0,
              "ticks": ""
             }
            },
            "type": "scatterpolargl"
           }
          ],
          "scatterternary": [
           {
            "marker": {
             "colorbar": {
              "outlinewidth": 0,
              "ticks": ""
             }
            },
            "type": "scatterternary"
           }
          ],
          "surface": [
           {
            "colorbar": {
             "outlinewidth": 0,
             "ticks": ""
            },
            "colorscale": [
             [
              0,
              "#0d0887"
             ],
             [
              0.1111111111111111,
              "#46039f"
             ],
             [
              0.2222222222222222,
              "#7201a8"
             ],
             [
              0.3333333333333333,
              "#9c179e"
             ],
             [
              0.4444444444444444,
              "#bd3786"
             ],
             [
              0.5555555555555556,
              "#d8576b"
             ],
             [
              0.6666666666666666,
              "#ed7953"
             ],
             [
              0.7777777777777778,
              "#fb9f3a"
             ],
             [
              0.8888888888888888,
              "#fdca26"
             ],
             [
              1,
              "#f0f921"
             ]
            ],
            "type": "surface"
           }
          ],
          "table": [
           {
            "cells": {
             "fill": {
              "color": "#EBF0F8"
             },
             "line": {
              "color": "white"
             }
            },
            "header": {
             "fill": {
              "color": "#C8D4E3"
             },
             "line": {
              "color": "white"
             }
            },
            "type": "table"
           }
          ]
         },
         "layout": {
          "annotationdefaults": {
           "arrowcolor": "#2a3f5f",
           "arrowhead": 0,
           "arrowwidth": 1
          },
          "autotypenumbers": "strict",
          "coloraxis": {
           "colorbar": {
            "outlinewidth": 0,
            "ticks": ""
           }
          },
          "colorscale": {
           "diverging": [
            [
             0,
             "#8e0152"
            ],
            [
             0.1,
             "#c51b7d"
            ],
            [
             0.2,
             "#de77ae"
            ],
            [
             0.3,
             "#f1b6da"
            ],
            [
             0.4,
             "#fde0ef"
            ],
            [
             0.5,
             "#f7f7f7"
            ],
            [
             0.6,
             "#e6f5d0"
            ],
            [
             0.7,
             "#b8e186"
            ],
            [
             0.8,
             "#7fbc41"
            ],
            [
             0.9,
             "#4d9221"
            ],
            [
             1,
             "#276419"
            ]
           ],
           "sequential": [
            [
             0,
             "#0d0887"
            ],
            [
             0.1111111111111111,
             "#46039f"
            ],
            [
             0.2222222222222222,
             "#7201a8"
            ],
            [
             0.3333333333333333,
             "#9c179e"
            ],
            [
             0.4444444444444444,
             "#bd3786"
            ],
            [
             0.5555555555555556,
             "#d8576b"
            ],
            [
             0.6666666666666666,
             "#ed7953"
            ],
            [
             0.7777777777777778,
             "#fb9f3a"
            ],
            [
             0.8888888888888888,
             "#fdca26"
            ],
            [
             1,
             "#f0f921"
            ]
           ],
           "sequentialminus": [
            [
             0,
             "#0d0887"
            ],
            [
             0.1111111111111111,
             "#46039f"
            ],
            [
             0.2222222222222222,
             "#7201a8"
            ],
            [
             0.3333333333333333,
             "#9c179e"
            ],
            [
             0.4444444444444444,
             "#bd3786"
            ],
            [
             0.5555555555555556,
             "#d8576b"
            ],
            [
             0.6666666666666666,
             "#ed7953"
            ],
            [
             0.7777777777777778,
             "#fb9f3a"
            ],
            [
             0.8888888888888888,
             "#fdca26"
            ],
            [
             1,
             "#f0f921"
            ]
           ]
          },
          "colorway": [
           "#636efa",
           "#EF553B",
           "#00cc96",
           "#ab63fa",
           "#FFA15A",
           "#19d3f3",
           "#FF6692",
           "#B6E880",
           "#FF97FF",
           "#FECB52"
          ],
          "font": {
           "color": "#2a3f5f"
          },
          "geo": {
           "bgcolor": "white",
           "lakecolor": "white",
           "landcolor": "#E5ECF6",
           "showlakes": true,
           "showland": true,
           "subunitcolor": "white"
          },
          "hoverlabel": {
           "align": "left"
          },
          "hovermode": "closest",
          "mapbox": {
           "style": "light"
          },
          "paper_bgcolor": "white",
          "plot_bgcolor": "#E5ECF6",
          "polar": {
           "angularaxis": {
            "gridcolor": "white",
            "linecolor": "white",
            "ticks": ""
           },
           "bgcolor": "#E5ECF6",
           "radialaxis": {
            "gridcolor": "white",
            "linecolor": "white",
            "ticks": ""
           }
          },
          "scene": {
           "xaxis": {
            "backgroundcolor": "#E5ECF6",
            "gridcolor": "white",
            "gridwidth": 2,
            "linecolor": "white",
            "showbackground": true,
            "ticks": "",
            "zerolinecolor": "white"
           },
           "yaxis": {
            "backgroundcolor": "#E5ECF6",
            "gridcolor": "white",
            "gridwidth": 2,
            "linecolor": "white",
            "showbackground": true,
            "ticks": "",
            "zerolinecolor": "white"
           },
           "zaxis": {
            "backgroundcolor": "#E5ECF6",
            "gridcolor": "white",
            "gridwidth": 2,
            "linecolor": "white",
            "showbackground": true,
            "ticks": "",
            "zerolinecolor": "white"
           }
          },
          "shapedefaults": {
           "line": {
            "color": "#2a3f5f"
           }
          },
          "ternary": {
           "aaxis": {
            "gridcolor": "white",
            "linecolor": "white",
            "ticks": ""
           },
           "baxis": {
            "gridcolor": "white",
            "linecolor": "white",
            "ticks": ""
           },
           "bgcolor": "#E5ECF6",
           "caxis": {
            "gridcolor": "white",
            "linecolor": "white",
            "ticks": ""
           }
          },
          "title": {
           "x": 0.05
          },
          "xaxis": {
           "automargin": true,
           "gridcolor": "white",
           "linecolor": "white",
           "ticks": "",
           "title": {
            "standoff": 15
           },
           "zerolinecolor": "white",
           "zerolinewidth": 2
          },
          "yaxis": {
           "automargin": true,
           "gridcolor": "white",
           "linecolor": "white",
           "ticks": "",
           "title": {
            "standoff": 15
           },
           "zerolinecolor": "white",
           "zerolinewidth": 2
          }
         }
        },
        "title": {
         "text": "Pareto-front Plot"
        },
        "xaxis": {
         "title": {
          "text": "RMSLE"
         }
        },
        "yaxis": {
         "title": {
          "text": "Training Time"
         }
        }
       }
      }
     },
     "metadata": {},
     "output_type": "display_data"
    }
   ],
   "source": [
    "vis.plot_pareto_front(study, target_names=[\"RMSLE\", \"Training Time\"]).show()\n"
   ]
  }
 ],
 "metadata": {
  "kernelspec": {
   "display_name": "mda",
   "language": "python",
   "name": "python3"
  },
  "language_info": {
   "codemirror_mode": {
    "name": "ipython",
    "version": 3
   },
   "file_extension": ".py",
   "mimetype": "text/x-python",
   "name": "python",
   "nbconvert_exporter": "python",
   "pygments_lexer": "ipython3",
   "version": "3.10.16"
  }
 },
 "nbformat": 4,
 "nbformat_minor": 2
}

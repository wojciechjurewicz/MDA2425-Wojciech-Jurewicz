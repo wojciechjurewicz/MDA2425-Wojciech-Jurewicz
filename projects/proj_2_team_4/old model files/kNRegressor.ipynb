{
 "cells": [
  {
   "cell_type": "code",
   "execution_count": 1,
   "id": "caf09835",
   "metadata": {},
   "outputs": [],
   "source": [
    "%load_ext autoreload\n",
    "%autoreload 2\n",
    "\n",
    "import os\n",
    "import sys\n",
    "\n",
    "while any(marker in os.getcwd() for marker in ('exercises', 'notebooks', 'students', 'research', 'projects')):\n",
    "    os.chdir(\"..\")\n",
    "sys.path.append('src')"
   ]
  },
  {
   "cell_type": "code",
   "execution_count": 2,
   "id": "6c370254",
   "metadata": {},
   "outputs": [],
   "source": [
    "import pandas as pd\n",
    "import matplotlib.pyplot as plt\n",
    "from sklearn.model_selection import train_test_split\n",
    "import numpy as np\n",
    "import mlflow\n",
    "from sklearn.pipeline import Pipeline\n",
    "from sklearn.neighbors import KNeighborsRegressor\n",
    "from sklearn.metrics import mean_squared_error, mean_absolute_error, r2_score\n",
    "import mlflow.sklearn\n",
    "import optuna\n",
    "from dotenv import load_dotenv\n",
    "from sklearn.metrics import root_mean_squared_log_error"
   ]
  },
  {
   "cell_type": "code",
   "execution_count": 3,
   "id": "6bd52cc1",
   "metadata": {},
   "outputs": [
    {
     "data": {
      "text/plain": [
       "True"
      ]
     },
     "execution_count": 3,
     "metadata": {},
     "output_type": "execute_result"
    }
   ],
   "source": [
    "env_path = '/Users/alanmakowski1/Desktop/project2/.env2'\n",
    "load_dotenv(env_path)"
   ]
  },
  {
   "cell_type": "code",
   "execution_count": null,
   "id": "d3f8026c",
   "metadata": {},
   "outputs": [],
   "source": [
    "train_preprocessed_path = os.getenv('TRAIN_PREPROCESSED_LOG_PATH')\n",
    "test_preprocessed_path = os.getenv('VALID_PREPROCESSED_PATH')\n",
    "\n",
    "df_train = pd.read_csv(train_preprocessed_path)\n",
    "df_test = pd.read_csv(test_preprocessed_path)"
   ]
  },
  {
   "cell_type": "code",
   "execution_count": 5,
   "id": "ad04a687",
   "metadata": {},
   "outputs": [],
   "source": [
    "X_train = df_train.drop(columns=[\"SalePrice\"])\n",
    "y_train = df_train[\"SalePrice\"]\n",
    "X_test = df_test.drop(columns=[\"SalePrice\"])\n",
    "y_test = df_test[\"SalePrice\"]"
   ]
  },
  {
   "cell_type": "code",
   "execution_count": 6,
   "id": "ff9c1c8c",
   "metadata": {},
   "outputs": [],
   "source": [
    "mlflow.set_tracking_uri(\"/Users/alanmakowski1/Desktop/visual_studio_code/mda2425/mlruns\")"
   ]
  },
  {
   "cell_type": "code",
   "execution_count": 7,
   "id": "5d9115e2",
   "metadata": {},
   "outputs": [],
   "source": [
    "# KNeighborsRegressor parameters\n",
    "n_neighbors = 5\n",
    "weights = 'uniform'           \n",
    "algorithm = 'auto'  \n",
    "leaf_size = 30\n",
    "p = 2                         \n",
    "metric = 'minkowski'         \n",
    "n_jobs = -1                   "
   ]
  },
  {
   "cell_type": "code",
   "execution_count": 8,
   "id": "3c5e46a8",
   "metadata": {},
   "outputs": [],
   "source": [
    "pipeline = Pipeline([\n",
    "    ('knn', KNeighborsRegressor(\n",
    "        n_neighbors=n_neighbors,\n",
    "        weights=weights,\n",
    "        algorithm=algorithm,\n",
    "        leaf_size=leaf_size,\n",
    "        p=p,\n",
    "        metric=metric,\n",
    "        n_jobs=n_jobs\n",
    "    ))\n",
    "])"
   ]
  },
  {
   "cell_type": "code",
   "execution_count": 10,
   "id": "f24dd12d",
   "metadata": {},
   "outputs": [],
   "source": [
    "# override Optuna's default logging to ERROR only\n",
    "optuna.logging.set_verbosity(optuna.logging.ERROR)\n",
    "\n",
    "# define a logging callback that will report on only new challenger parameter configurations if a\n",
    "# trial has usurped the state of 'best conditions'\n",
    "\n",
    "\n",
    "def champion_callback(study, frozen_trial):\n",
    "  \"\"\"\n",
    "  Logging callback that will report when a new trial iteration improves upon existing\n",
    "  best trial values.\n",
    "\n",
    "  Note: This callback is not intended for use in distributed computing systems such as Spark\n",
    "  or Ray due to the micro-batch iterative implementation for distributing trials to a cluster's\n",
    "  workers or agents.\n",
    "  The race conditions with file system state management for distributed trials will render\n",
    "  inconsistent values with this callback.\n",
    "  \"\"\"\n",
    "\n",
    "  winner = study.user_attrs.get(\"winner\", None)\n",
    "\n",
    "  if study.best_value and winner != study.best_value:\n",
    "      study.set_user_attr(\"winner\", study.best_value)\n",
    "      if winner:\n",
    "          improvement_percent = (abs(winner - study.best_value) / study.best_value) * 100\n",
    "          print(\n",
    "              f\"Trial {frozen_trial.number} achieved value: {frozen_trial.value} with \"\n",
    "              f\"{improvement_percent: .4f}% improvement\"\n",
    "          )\n",
    "      else:\n",
    "          print(f\"Initial trial {frozen_trial.number} achieved value: {frozen_trial.value}\")"
   ]
  },
  {
   "cell_type": "code",
   "execution_count": null,
   "id": "ec5f5b54",
   "metadata": {},
   "outputs": [],
   "source": [
    "def objective(trial):\n",
    "    # Define hyperparameter search space for KNN\n",
    "    params = {\n",
    "        \"n_neighbors\": trial.suggest_int(\"n_neighbors\", 3, 20),\n",
    "        \"weights\": trial.suggest_categorical(\"weights\", [\"uniform\", \"distance\"]),\n",
    "        \"algorithm\": trial.suggest_categorical(\"algorithm\", [\"auto\", \"ball_tree\", \"kd_tree\", \"brute\"]),\n",
    "        \"leaf_size\": trial.suggest_int(\"leaf_size\", 10, 60),\n",
    "        \"p\": trial.suggest_int(\"p\", 1, 2),  # 1 = Manhattan, 2 = Euclidean\n",
    "        \"metric\": \"minkowski\",\n",
    "        \"n_jobs\": -1\n",
    "    }\n",
    "\n",
    "    # Build the pipeline (with preprocessing!)\n",
    "    pipeline = Pipeline([\n",
    "        (\"knn\", KNeighborsRegressor(**params))\n",
    "    ])\n",
    "\n",
    "    # Train\n",
    "    pipeline.fit(X_train, y_train)\n",
    "    y_pred = np.expm1(pipeline.predict(X_test))\n",
    "\n",
    "    # Ensure no negative predictions for RMSLE\n",
    "    y_pred = np.maximum(0, y_pred)\n",
    "\n",
    "    # Calculate and return RMSLE\n",
    "    return root_mean_squared_log_error(y_test, y_pred)"
   ]
  },
  {
   "cell_type": "code",
   "execution_count": 12,
   "id": "7d5ec5b4",
   "metadata": {},
   "outputs": [
    {
     "data": {
      "application/vnd.jupyter.widget-view+json": {
       "model_id": "a2163f454af84532bfa9cf2723418cce",
       "version_major": 2,
       "version_minor": 0
      },
      "text/plain": [
       "  0%|          | 0/1 [00:00<?, ?it/s]"
      ]
     },
     "metadata": {},
     "output_type": "display_data"
    },
    {
     "name": "stdout",
     "output_type": "stream",
     "text": [
      "Initial trial 0 achieved value: 0.3968258666857088\n",
      "MAE: 9951.3771\n",
      "MSE: 208160858.7282\n",
      "RMSE: 14427.7808\n",
      "R2 Score: 0.6672\n",
      "RMSLE Score: 0.3968\n"
     ]
    },
    {
     "name": "stderr",
     "output_type": "stream",
     "text": [
      "\u001b[31m2025/05/23 08:27:23 WARNING mlflow.models.model: Model logged without a signature and input example. Please set `input_example` parameter when logging the model to auto infer the model signature.\u001b[0m\n"
     ]
    }
   ],
   "source": [
    "study = optuna.create_study(direction=\"minimize\")\n",
    "study.optimize(objective, n_trials=1, callbacks=[champion_callback], show_progress_bar=True, \n",
    "               catch=(Exception,), timeout=1*60*60)\n",
    "\n",
    "best_params = study.best_params\n",
    "\n",
    "# === Start MLflow experiment ===\n",
    "mlflow.set_experiment(\"kNRegressor_Bulldozers\")\n",
    "experiment = mlflow.get_experiment_by_name(\"kNRegressor_Bulldozers\")\n",
    "with mlflow.start_run(experiment_id=experiment.experiment_id):\n",
    "    mlflow.log_params(best_params)\n",
    "\n",
    "    mlflow.set_tags(\n",
    "        tags={\n",
    "            \"project\": \"Bluebook for Bulldozers\",\n",
    "            \"optimizer_engine\": \"optuna\",\n",
    "            \"model_family\": \"kNRegressor\",\n",
    "            \"feature_set_version\": 1,\n",
    "        }\n",
    "    )\n",
    "    # Train final model\n",
    "    final_pipeline = Pipeline([\n",
    "        ('kNR', (KNeighborsRegressor(**best_params)))\n",
    "    ])\n",
    "    final_pipeline.fit(X_train, y_train)\n",
    "    y_pred = final_pipeline.predict(X_test)\n",
    "\n",
    "    # Metrics\n",
    "    mae = mean_absolute_error(y_test, y_pred)\n",
    "    mse = mean_squared_error(y_test, y_pred)\n",
    "    rmse = np.sqrt(mse)\n",
    "    r2 = r2_score(y_test, y_pred)\n",
    "    rmsle = root_mean_squared_log_error(y_test, y_pred)\n",
    "\n",
    "    # Log metrics\n",
    "    mlflow.log_metrics({\n",
    "        \"MAE\": mae,\n",
    "        \"MSE\": mse,\n",
    "        \"RMSE\": rmse,\n",
    "        \"R2\": r2,\n",
    "        \"RMSLE\": rmsle\n",
    "           \n",
    "    })\n",
    "\n",
    "    print(f\"MAE: {mae:.4f}\")\n",
    "    print(f\"MSE: {mse:.4f}\")\n",
    "    print(f\"RMSE: {rmse:.4f}\")\n",
    "    print(f\"R2 Score: {r2:.4f}\")\n",
    "    print(f\"RMSLE Score: {rmsle:.4f}\")\n",
    "\n",
    "    # Save model\n",
    "    mlflow.sklearn.log_model(final_pipeline, \"model\")\n",
    "\n",
    "    plt.figure(figsize=(8, 6))\n",
    "    plt.scatter(y_test, y_pred, alpha=0.7)\n",
    "    plt.plot([y_test.min(), y_test.max()], [y_test.min(), y_test.max()], color='red', linestyle='--', linewidth=2)\n",
    "    plt.xlabel('Actual Values')\n",
    "    plt.ylabel('Predicted Values')\n",
    "    plt.title('Actual vs Predicted (kNRegressor)')\n",
    "    plt.grid(True)\n",
    "    plt.tight_layout()\n",
    "\n",
    "    plot_path = \"actual_vs_predicted.png\"\n",
    "    plt.savefig(plot_path)\n",
    "    plt.close()\n",
    "\n",
    "    # Log the plot\n",
    "    mlflow.log_artifact(plot_path)"
   ]
  }
 ],
 "metadata": {
  "kernelspec": {
   "display_name": "base",
   "language": "python",
   "name": "python3"
  },
  "language_info": {
   "codemirror_mode": {
    "name": "ipython",
    "version": 3
   },
   "file_extension": ".py",
   "mimetype": "text/x-python",
   "name": "python",
   "nbconvert_exporter": "python",
   "pygments_lexer": "ipython3",
   "version": "3.12.4"
  }
 },
 "nbformat": 4,
 "nbformat_minor": 5
}
